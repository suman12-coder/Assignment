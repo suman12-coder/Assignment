{
  "nbformat": 4,
  "nbformat_minor": 0,
  "metadata": {
    "colab": {
      "provenance": []
    },
    "kernelspec": {
      "name": "python3",
      "display_name": "Python 3"
    },
    "language_info": {
      "name": "python"
    }
  },
  "cells": [
    {
      "cell_type": "markdown",
      "source": [
        "# Data Toolkit"
      ],
      "metadata": {
        "id": "dwSXcTa6lm8D"
      }
    },
    {
      "cell_type": "markdown",
      "source": [
        "1. What is NumPy, and why is it widely used in Python?  \n",
        "-  NumPy is a fundamental library in Python for scientific computing.NumPy (Numerical Python) is an open source Python library that has a wide range of inbuilt functions.\n",
        "\n",
        "-   It offers powerful features for working with multidimensional arrays and performing various mathematical operations efficiently that is why it is widely used in Python.\n",
        "\n"
      ],
      "metadata": {
        "id": "tYhZssmulnSU"
      }
    },
    {
      "cell_type": "markdown",
      "source": [
        "2. How does broadcasting work in NumPy?  \n",
        "-  Broadcasting in NumPy is a powerful concept that allows array operations between arrays of different shapes without needing to explicitly replicate data. It’s a clever way to make numerical computations more efficient and readable.\n",
        "\n",
        " What It Means:\n",
        "Broadcasting automatically stretches the smaller array across the larger one so that element-wise operations can be performed. Think of it like matching sizes without manual effort.\n",
        "\n"
      ],
      "metadata": {
        "id": "EX02oNy3lnXt"
      }
    },
    {
      "cell_type": "markdown",
      "source": [
        "3. What is a Pandas DataFrame?  \n",
        "-  A Pandas DataFrame is one of the most essential and flexible data structures in Python's data analysis toolkit. Think of it like an Excel spreadsheet but far more powerful and programmable.\n",
        "\n",
        " Core Characteristics:\n",
        " - Tabular format: Data is arranged in rows and columns.\n",
        " - Labeled axes: Each row and column has an index or name, making data easier to reference.\n",
        " - Mixed data types: Columns can store different types—integers, floats, strings, dates, etc.\n"
      ],
      "metadata": {
        "id": "S_Zr5OSdlnbj"
      }
    },
    {
      "cell_type": "markdown",
      "source": [
        "4. Explain the use of the `groupby()` method in Pandas.\n",
        " -  The groupby() method in Pandas is a powerful tool used to split data into groups based on some criteria, and then apply operations to those groups independently. It's part of a common “split–apply–combine” strategy for data analysis.\n",
        "\n",
        " How It Works:\n",
        "The workflow generally involves three steps:\n",
        "- Split the DataFrame into groups using groupby().\n",
        "- Apply a function (e.g., sum(), mean(), count(), agg()).\n",
        "- Combine the results into a new DataFrame or Series.\n"
      ],
      "metadata": {
        "id": "exwBjHxVlnfM"
      }
    },
    {
      "cell_type": "markdown",
      "source": [
        "5. Why is Seaborn preferred for statistical visualizations?\n",
        "  -  Key Reasons Seaborn Is Preferred:\n",
        "- High-Level API: Simplifies the creation of common statistical plots like histograms, box plots, violin plots, and scatter plots with regression lines.\n",
        "- Beautiful Default Styles: Offers clean, polished, and color-coordinated visualizations right out of the box—no styling struggles required.\n",
        "- Built-In Statistical Support:\n",
        "  - Easily adds regression lines with sns.regplot() or sns.lmplot().\n",
        "  - Automatically computes means, quartiles, confidence intervals, etc.\n",
        "  - Perfect for exploratory data analysis.\n",
        "- Integration with Pandas: Seamlessly works with DataFrames, understanding columns and labels without extra code.\n",
        "- Multivariate Visualizations:\n",
        " - pairplot(), heatmap(), catplot() help display relationships between multiple variables.\n",
        "\n",
        "- Customization Options: Offers fine control over every element of the plot, yet keeps the code clean and readable.\n",
        "\n",
        "\n"
      ],
      "metadata": {
        "id": "UVo9O2jXlniY"
      }
    },
    {
      "cell_type": "markdown",
      "source": [
        "6. What are the differences between NumPy arrays and Python lists?  \n",
        "Difference b/w NumPy arrays and Python list:\n",
        "\n",
        "      1.NumPy arrays are homogeneous, while Python lists can contain mixed data types.\n",
        "      \n",
        "      2.NumPy arrays are much faster for numerical operations than Python lists.\n",
        "\n",
        "      3.NumPy uses less memory due to its compact, typed structure.\n",
        "\n",
        "      4.Vectorized operations are supported in NumPy, eliminating the need for explicit loops.\n",
        "\n",
        "      5.Python lists require manual iteration for arithmetic; NumPy arrays handle it natively.\n",
        "\n",
        "      6.NumPy arrays support multidimensional structures directly; lists require nesting.\n",
        "\n",
        "      7.Broadcasting works in NumPy, but not in Python lists.\n",
        "\n",
        "      8.Lists are more flexible for general-purpose data, while NumPy excels at numerical analysis.\n"
      ],
      "metadata": {
        "id": "zi9RbSI8lnlZ"
      }
    },
    {
      "cell_type": "markdown",
      "source": [
        "7. What is a heatmap, and when should it be used?\n",
        "-  A heatmap is a graphical representation of data where values are depicted by varying colors—usually warm tones like red or orange for high values, and cooler tones like blue or green for low ones.\n",
        "\n",
        "When to use it:\n",
        "\n",
        " -  Correlation matrices: Perfect for visualizing relationships between numeric variables in data analysis (e.g. Pandas df.corr()).\n",
        " - Time series patterns: Like analyzing temperature changes across days and hours.\n",
        " - Website analytics: See where users click or hover on a webpage.\n",
        " - Geospatial data: Show intensity or activity over regions (often used in maps).\n"
      ],
      "metadata": {
        "id": "r-pk9PS_lnod"
      }
    },
    {
      "cell_type": "markdown",
      "source": [
        "8. What does the term \"vectorized operation\" mean in NumPy?\n",
        "\n",
        " - A vectorized operation in NumPy means performing computations on entire arrays without writing explicit loops. Instead of processing elements one-by-one with a for loop, NumPy applies operations to whole arrays at once—using highly optimized C and Fortran code under the hood.\n"
      ],
      "metadata": {
        "id": "MjBg6YTKlnrX"
      }
    },
    {
      "cell_type": "markdown",
      "source": [
        "9. How does Matplotlib differ from Plotly?\n",
        "-  Matplotlib and Plotly are both powerful Python libraries for data visualization, but they serve slightly different purposes and offer distinct experiences.\n",
        "\n",
        " **Matplotlib: The Classic Workhorse**\n",
        "- Static Visuals: Primarily used for creating static plots (e.g., line, bar, scatter).\n",
        "- Highly Customizable: Offers granular control over every plot element—fonts, colors, axes, etc.\n",
        "- Publication-Ready: Ideal for academic papers and reports.\n",
        "- Verbose Syntax: Can be more complex and less intuitive for beginners.\n",
        "- Limited Interactivity: Basic interactivity is possible but not native.\n",
        "\n",
        " **Plotly: The Interactive Powerhouse**\n",
        "- Interactive Charts: Zoom, pan, hover tooltips, and clickable legends are built-in.\n",
        "- Web-Friendly: Perfect for dashboards and web apps (especially with Dash).\n",
        "- User-Friendly API: Plotly Express makes quick plotting a breeze.\n",
        "- Modern Aesthetics: Sleek visuals out of the box.\n",
        "- Supports 3D & Maps: Great for geospatial and complex visualizations.\n",
        "\n"
      ],
      "metadata": {
        "id": "Gh1Kg9IWP2vE"
      }
    },
    {
      "cell_type": "markdown",
      "source": [
        " 10. What is the significance of hierarchical indexing in Pandas?\n",
        "\n",
        "\n",
        " Hierarchical indexing (also called MultiIndex) lets Pandas handle data with multiple levels of row or column labels—like a table with subtables inside.\n",
        " - Significance:\n",
        "- Enables grouped data to be structured neatly, especially after operations like `groupby()`.\n",
        "- Supports more complex data relationships, like sales by city and product.\n",
        "- Makes advanced reshaping operations (`stack()`, `unstack()`, `swaplevel()`) possible.\n",
        "- Improves readability and organization of high-dimensional data.\n",
        "- Useful for pivot tables and time series with multiple keys.\n",
        "- You can access and slice through levels with `.loc[]` or `.xs()`.\n"
      ],
      "metadata": {
        "id": "17JwBUp03nzF"
      }
    },
    {
      "cell_type": "markdown",
      "source": [
        "11. What is the role of Seaborn’s `pairplot()` function?\n",
        "\n",
        " **What pairplot() Does:**\n",
        "- Creates a grid of plots: It draws scatter plots for every pair of numerical columns.\n",
        "- Histograms or KDEs on the diagonal: These show distributions of individual variables.\n",
        "- Encodes categories (optional): With the hue parameter, you can highlight different classes using color.\n",
        "- Reveals patterns instantly: Perfect for spotting correlations, clustering, or outliers at a glance.\n"
      ],
      "metadata": {
        "id": "uhDmYeN8R1I6"
      }
    },
    {
      "cell_type": "markdown",
      "source": [
        "12. What is the purpose of the `describe()` function in Pandas?\n",
        "- The describe() function in Pandas provides a quick statistical summary of your DataFrame or Series, especially numeric columns.\n",
        "\n",
        "Here’s what it reveals in a snapshot:\n",
        "- Count: Total number of non-null entries.\n",
        "- Mean: The average value.\n",
        "- Standard deviation (std): Shows variation from the mean.\n",
        "- Min/Max: The smallest and largest values.\n",
        "- 25%, 50%, 75% quartiles: Useful for understanding data distribution and spread.\n"
      ],
      "metadata": {
        "id": "7JSzoI2h2I-E"
      }
    },
    {
      "cell_type": "markdown",
      "source": [
        "13. Why is handling missing data important in Pandas?\n",
        "- Handling missing data is crucial in Pandas because real-world datasets often contain gaps due to errors, omissions, or incomplete records. Here's why it matters:\n",
        "\n",
        " - Missing values (NaN) can distort statistical summaries and visualizations.\n",
        " - Functions like .mean() or .sum() may skip NaN by default, leading to unexpected results.\n",
        " - Models trained on data with missing values might produce inaccurate predictions.\n",
        " - Pandas offers tools like .fillna(), .dropna(), and interpolation to manage gaps smartly.\n"
      ],
      "metadata": {
        "id": "vLV2twsdlnxA"
      }
    },
    {
      "cell_type": "markdown",
      "source": [
        "14. What are the benefits of using Plotly for data visualization?\n",
        "\n",
        " **Key Benefits of Using Plotly:**\n",
        "- Interactive Visuals: Users can zoom, pan, hover for tooltips, and click to explore data in depth—making dashboards and presentations far more engaging.\n",
        "- Wide Range of Chart Types: From basic line and bar charts to advanced 3D plots, heatmaps, and maps, Plotly covers a vast spectrum of visualizations.\n",
        "- Cross-Platform Compatibility: Works seamlessly with Python, R, MATLAB, and JavaScript, making it accessible across different tech stacks.\n",
        "- Customization & Styling: Offers extensive control over colors, fonts, axes, annotations, and more—so your visuals can match your brand or story.\n",
        "- Integration with Dash: Easily build interactive web apps using Dash, Plotly’s companion framework, without needing deep web development skills.\n",
        "- Scalability: Handles large datasets efficiently, making it suitable for everything from solo projects to enterprise-level analytics.\n",
        "- Ease of Use: With Plotly Express, you can create complex visuals with just a few lines of code—perfect for beginners and pros alike.\n",
        "- Enhanced Storytelling: Dynamic visuals help uncover hidden insights and make data-driven narratives more compelling.\n",
        "\n"
      ],
      "metadata": {
        "id": "4eeG2YowSQAF"
      }
    },
    {
      "cell_type": "markdown",
      "source": [
        "15. How does NumPy handle multidimensional arrays?\n",
        "\n",
        "NumPy handles multidimensional arrays using its powerful ndarray object, which is designed for efficient numerical computation across any number of dimensions.\n",
        "\n",
        "- A NumPy array can be 1D, 2D, 3D, or more — defined by its shape (like (3,), (2, 3), or (2, 3, 4)).\n",
        "- It stores data in a contiguous memory block, making operations fast and memory-efficient.\n",
        "- You can slice, reshape, and access elements across dimensions using familiar syntax: arr[1, :, 2].\n",
        "- Broadcasting lets you perform operations across mismatched shapes, like adding a 1D array to a 2D one.\n",
        "- Functions like np.dot, np.sum(axis=...), and np.transpose() let you process arrays flexibly.\n",
        "- NumPy abstracts the complexity, so even 5D arrays behave with consistent logic.\n",
        "\n"
      ],
      "metadata": {
        "id": "Dd4405YLlnzz"
      }
    },
    {
      "cell_type": "markdown",
      "source": [
        "16. What is the role of Bokeh in data visualization?\n",
        "\n",
        " **Role of Bokeh in data visuakization:**\n",
        "- Interactivity: Zooming, panning, tooltips, and dynamic updates make your plots feel alive.\n",
        "- Web Integration: Bokeh outputs HTML and JavaScript, so your visualizations can be embedded directly into websites or dashboards.\n",
        "- High Performance: Handles large datasets efficiently, even in real-time scenarios.\n",
        "- Flexible Interfaces:\n",
        "- bokeh.plotting: High-level API for quick and expressive plotting.\n",
        "- bokeh.models: Low-level API for fine-grained control and custom applications.\n",
        "- Server Capabilities: With Bokeh Server, you can build full-fledged data apps that respond to user input.\n",
        "- Python Ecosystem Friendly: Works seamlessly with Pandas, NumPy, and Jupyter Notebooks.\n"
      ],
      "metadata": {
        "id": "j_Zlh40OSsZq"
      }
    },
    {
      "cell_type": "markdown",
      "source": [
        "17. Explain the difference between `apply()` and `map()` in Pandas.\n",
        "- map()\n",
        " - Used only with Series, especially for transforming single columns.\n",
        " - Applies a function element-wise.\n",
        " - Ideal for simple substitutions or mappings.\n",
        "df['col'].map(lambda x: x * 2)\n",
        "\n",
        "\n",
        "\n",
        "- apply()\n",
        " - Works on both Series and DataFrames.\n",
        " - On a Series: acts like map() but with broader function support.\n",
        " - On a DataFrame: can apply functions across rows (axis=1) or columns (axis=0).\n",
        " - Great for row-wise computations or aggregations.\n"
      ],
      "metadata": {
        "id": "MTtJhRYJln2n"
      }
    },
    {
      "cell_type": "markdown",
      "source": [
        "18. What are some advanced features of NumPy?\n",
        " 1. Broadcasting\n",
        " - Lets arrays with different shapes interact as if they were the same size.\n",
        " - Example: Adding a 1D array to a 2D matrix without manually reshaping.\n",
        "\n",
        " 2. Masked arrays\n",
        " - Handle missing or invalid data elegantly.\n",
        " - Useful when analyzing datasets with gaps or outliers.\n",
        "\n",
        " 3. Memory views & strides\n",
        " - NumPy can view the same data with different shapes using .reshape() or .strides.\n",
        " - Allows efficient manipulation without copying large blocks of data.\n",
        "\n",
        " 4. Structured arrays\n",
        " - Store compound data types (like records with fields) in a single array.\n",
        " - Handy for tabular data with multiple types (int, float, string).\n",
        "\n",
        " 5. Vectorized operations\n",
        " - Perform element-wise computations without loops.\n",
        " - Great for speeding up mathematical functions or transformations.\n",
        "\n",
        " 6. Random number generation\n",
        " - `np.random` module supports complex distributions and reproducibility with seeds.\n",
        " - Great for simulations, bootstrapping, or machine learning initialization.\n",
        "\n",
        "\n"
      ],
      "metadata": {
        "id": "h6IXSS_Uln5N"
      }
    },
    {
      "cell_type": "markdown",
      "source": [
        "19. How does Pandas simplify time series analysis?\n",
        "\n",
        "-  Pandas simplifies time series analysis by converting date strings into datetime objects using pd.to_datetime(). You can use DateTimeIndex to filter by year, month, or specific dates easily. It supports resampling to change data frequency (e.g. daily to monthly) and compute aggregates like sums or means. Missing time values can be filled using .fillna() or .ffill() during resampling. With .rolling() or .expanding(), you can compute moving averages or cumulative stats. Time zones are handled with .tz_localize() and .tz_convert(). Overall, Pandas makes it smooth to analyze trends over time with minimal code.\n"
      ],
      "metadata": {
        "id": "vF7nBDVCln7x"
      }
    },
    {
      "cell_type": "markdown",
      "source": [
        "20. What is the role of a pivot table in Pandas?\n",
        "\n",
        "A pivot table in Pandas is a powerful tool for reshaping and summarizing data — think of it as a flexible way to create custom tables for analysis.\n",
        "\n",
        " Purpose:\n",
        "- It lets you group and aggregate data along multiple dimensions.\n",
        "- Helps reveal patterns, trends, and summaries that aren’t obvious from raw data.\n",
        "\n"
      ],
      "metadata": {
        "id": "EnmZU_N-ln-n"
      }
    },
    {
      "cell_type": "markdown",
      "source": [
        "21. Why is NumPy’s array slicing faster than Python’s list slicing?\n",
        "\n",
        "Why NumPy's array slicing is faster than Python's list slicing :\n",
        "1. Fixed data types\n",
        "- NumPy arrays store elements of the same type (like all int32 or float64) in a contiguous memory block.\n",
        "- Python lists, on the other hand, are collections of pointers to objects that may vary in type and location.\n",
        "\n",
        "2. Contiguous memory layout\n",
        "- NumPy uses a flat memory structure, like a C array. So slicing is like accessing a known range of bytes.\n",
        "- Python lists are fragmented—each element could be anywhere in memory.\n",
        "\n",
        "3. Vectorized backend\n",
        "- NumPy slicing is powered by compiled C code, not interpreted Python.\n",
        "- Python list slicing uses native Python loops and checks, which are slower.\n",
        "\n"
      ],
      "metadata": {
        "id": "oDxkier3loBC"
      }
    },
    {
      "cell_type": "markdown",
      "source": [
        "22. What are some common use cases for Seaborn?\n",
        "\n",
        "**Use Cases:**\n",
        "- Exploratory Data Analysis (EDA)\n",
        "- Identifying potential feature relationships\n",
        "- Visualizing class separation before modeling\n",
        "\n"
      ],
      "metadata": {
        "id": "yjbro1tfloEG"
      }
    },
    {
      "cell_type": "markdown",
      "source": [
        "#Practical Question:"
      ],
      "metadata": {
        "id": "7dH1XozUloJm"
      }
    },
    {
      "cell_type": "markdown",
      "source": [
        "1. How do you create a 2D NumPy array and calculate the sum of each row?"
      ],
      "metadata": {
        "id": "fZrEU-za1p6V"
      }
    },
    {
      "cell_type": "code",
      "source": [
        "import numpy as np\n",
        "import pandas as pd"
      ],
      "metadata": {
        "id": "lP2d310C2GcU"
      },
      "execution_count": null,
      "outputs": []
    },
    {
      "cell_type": "code",
      "source": [
        "arr = np.random.randint(1,5,(3,3))# 2d array create.\n",
        "rows_sum = np.sum(arr,axis=1 )\n",
        "print(f' 2D array is : {arr} ')\n",
        "print(f'Sum of each row of 2D array is : {rows_sum}')\n"
      ],
      "metadata": {
        "colab": {
          "base_uri": "https://localhost:8080/"
        },
        "id": "YCx2mkmB1t7w",
        "outputId": "bae75774-e250-4cef-8d1d-8f5da5cb89f2"
      },
      "execution_count": null,
      "outputs": [
        {
          "output_type": "stream",
          "name": "stdout",
          "text": [
            " 2D array is : [[2 4 3]\n",
            " [1 1 4]\n",
            " [1 2 4]] \n",
            "Sum of each row of 2D array is : [9 6 7]\n"
          ]
        }
      ]
    },
    {
      "cell_type": "markdown",
      "source": [
        "2. Write a Pandas script to find the mean of a specific column in a DataFrame.\n"
      ],
      "metadata": {
        "id": "szXhkLWM4VrZ"
      }
    },
    {
      "cell_type": "code",
      "source": [
        "import pandas as pd\n",
        "data = {'Name':['Allu','Suman','Romit'],'Age':[18,24,15]}\n",
        "df =pd.DataFrame(data)\n",
        "mean_age = df['Age'].mean()\n",
        "print(f'The mean age is : {mean_age}')"
      ],
      "metadata": {
        "colab": {
          "base_uri": "https://localhost:8080/"
        },
        "id": "MUP-01Ao4ggl",
        "outputId": "ded81726-e1dd-48f5-8bf0-4717a0b818b2"
      },
      "execution_count": null,
      "outputs": [
        {
          "output_type": "stream",
          "name": "stdout",
          "text": [
            "The mean age is : 19.0\n"
          ]
        }
      ]
    },
    {
      "cell_type": "markdown",
      "source": [
        "3. Create a scatter plot using Matplotlib.\n"
      ],
      "metadata": {
        "id": "m8lqsYopT9q6"
      }
    },
    {
      "cell_type": "code",
      "source": [
        "import matplotlib.pyplot as plt\n",
        "\n",
        "# Sample data\n",
        "x = [5, 7, 8, 7, 2, 17, 2, 9]\n",
        "y = [99, 86, 87, 88, 100, 86, 103, 87]\n",
        "\n",
        "# Create the scatter plot\n",
        "plt.scatter(x, y, color='blue', marker='o', s=100)\n",
        "\n",
        "# Add titles and labels\n",
        "plt.title('Simple Scatter Plot')\n",
        "plt.xlabel('X Axis')\n",
        "plt.ylabel('Y Axis')\n",
        "\n",
        "# Show the plot\n",
        "plt.show()"
      ],
      "metadata": {
        "colab": {
          "base_uri": "https://localhost:8080/",
          "height": 472
        },
        "id": "BkVJd_3DT_Zy",
        "outputId": "0c99ddb6-216c-4f9d-8a36-cd878d88e9b0"
      },
      "execution_count": 1,
      "outputs": [
        {
          "output_type": "display_data",
          "data": {
            "text/plain": [
              "<Figure size 640x480 with 1 Axes>"
            ],
            "image/png": "[encoded data removed]"
          },
          "metadata": {}
        }
      ]
    },
    {
      "cell_type": "markdown",
      "source": [
        "4. How do you calculate the correlation matrix using Seaborn and visualize it with a heatmap?\n"
      ],
      "metadata": {
        "id": "Wns7eRVzUgAb"
      }
    },
    {
      "cell_type": "code",
      "source": [
        "import pandas as pd\n",
        "df = pd.read_csv('student_score.txt')#define a data frame\n",
        "corr_matrix = df.corr(numeric_only=True)\n",
        "import seaborn as sns\n",
        "import matplotlib.pyplot as plt\n",
        "\n",
        "# Create the heatmap\n",
        "sns.heatmap(corr_matrix, annot=True, cmap='coolwarm', center=0)\n",
        "\n",
        "# Display the plot\n",
        "plt.title('Correlation Matrix Heatmap')\n",
        "plt.show()"
      ],
      "metadata": {
        "colab": {
          "base_uri": "https://localhost:8080/",
          "height": 452
        },
        "id": "IcL_P53LU9aj",
        "outputId": "56d9ee67-a97c-4553-c38f-6719f7cd2d08"
      },
      "execution_count": 4,
      "outputs": [
        {
          "output_type": "display_data",
          "data": {
            "text/plain": [
              "<Figure size 640x480 with 2 Axes>"
            ],
            "image/png": "[encoded data removed]"
          },
          "metadata": {}
        }
      ]
    },
    {
      "cell_type": "markdown",
      "source": [
        "5. Generate a bar plot using Plotly."
      ],
      "metadata": {
        "id": "4EqVG7RLW411"
      }
    },
    {
      "cell_type": "code",
      "source": [
        "import plotly.express as px\n",
        "\n",
        "# Sample data\n",
        "data = {\n",
        "    'Fruits': ['Apples', 'Bananas', 'Cherries', 'Dates'],\n",
        "    'Quantity': [23, 17, 35, 29]\n",
        "}\n",
        "\n",
        "# Create a DataFrame\n",
        "df = pd.DataFrame(data)\n",
        "# Generate the bar plot\n",
        "fig = px.bar(df, x='Fruits', y='Quantity', title='Fruit Quantity Bar Plot', color='Fruits')\n",
        "# Show the plot\n",
        "fig.show()"
      ],
      "metadata": {
        "colab": {
          "base_uri": "https://localhost:8080/",
          "height": 542
        },
        "id": "0WMKh4zXW5WR",
        "outputId": "7f4500f5-5f56-4257-a57f-e2afe49c0a8f"
      },
      "execution_count": 5,
      "outputs": [
        {
          "output_type": "display_data",
          "data": {
            "text/html": [
              "<html>\n",
              "<head><meta charset=\"utf-8\" /></head>\n",
              "<body>\n",
              "    <div>            <script src=\"https://cdnjs.cloudflare.com/ajax/libs/mathjax/2.7.5/MathJax.js?config=TeX-AMS-MML_SVG\"></script><script type=\"text/javascript\">if (window.MathJax && window.MathJax.Hub && window.MathJax.Hub.Config) {window.MathJax.Hub.Config({SVG: {font: \"STIX-Web\"}});}</script>                <script type=\"text/javascript\">window.PlotlyConfig = {MathJaxConfig: 'local'};</script>\n",
              "        <script charset=\"utf-8\" src=\"https://cdn.plot.ly/plotly-2.35.2.min.js\"></script>                <div id=\"27b3f998-95f3-4d42-b3dd-484bb20b98be\" class=\"plotly-graph-div\" style=\"height:525px; width:100%;\"></div>            <script type=\"text/javascript\">                                    window.PLOTLYENV=window.PLOTLYENV || {};                                    if (document.getElementById(\"27b3f998-95f3-4d42-b3dd-484bb20b98be\")) {                    Plotly.newPlot(                        \"27b3f998-95f3-4d42-b3dd-484bb20b98be\",                        [{\"alignmentgroup\":\"True\",\"hovertemplate\":\"Fruits=%{x}\\u003cbr\\u003eQuantity=%{y}\\u003cextra\\u003e\\u003c\\u002fextra\\u003e\",\"legendgroup\":\"Apples\",\"marker\":{\"color\":\"#636efa\",\"pattern\":{\"shape\":\"\"}},\"name\":\"Apples\",\"offsetgroup\":\"Apples\",\"orientation\":\"v\",\"showlegend\":true,\"textposition\":\"auto\",\"x\":[\"Apples\"],\"xaxis\":\"x\",\"y\":[23],\"yaxis\":\"y\",\"type\":\"bar\"},{\"alignmentgroup\":\"True\",\"hovertemplate\":\"Fruits=%{x}\\u003cbr\\u003eQuantity=%{y}\\u003cextra\\u003e\\u003c\\u002fextra\\u003e\",\"legendgroup\":\"Bananas\",\"marker\":{\"color\":\"#EF553B\",\"pattern\":{\"shape\":\"\"}},\"name\":\"Bananas\",\"offsetgroup\":\"Bananas\",\"orientation\":\"v\",\"showlegend\":true,\"textposition\":\"auto\",\"x\":[\"Bananas\"],\"xaxis\":\"x\",\"y\":[17],\"yaxis\":\"y\",\"type\":\"bar\"},{\"alignmentgroup\":\"True\",\"hovertemplate\":\"Fruits=%{x}\\u003cbr\\u003eQuantity=%{y}\\u003cextra\\u003e\\u003c\\u002fextra\\u003e\",\"legendgroup\":\"Cherries\",\"marker\":{\"color\":\"#00cc96\",\"pattern\":{\"shape\":\"\"}},\"name\":\"Cherries\",\"offsetgroup\":\"Cherries\",\"orientation\":\"v\",\"showlegend\":true,\"textposition\":\"auto\",\"x\":[\"Cherries\"],\"xaxis\":\"x\",\"y\":[35],\"yaxis\":\"y\",\"type\":\"bar\"},{\"alignmentgroup\":\"True\",\"hovertemplate\":\"Fruits=%{x}\\u003cbr\\u003eQuantity=%{y}\\u003cextra\\u003e\\u003c\\u002fextra\\u003e\",\"legendgroup\":\"Dates\",\"marker\":{\"color\":\"#ab63fa\",\"pattern\":{\"shape\":\"\"}},\"name\":\"Dates\",\"offsetgroup\":\"Dates\",\"orientation\":\"v\",\"showlegend\":true,\"textposition\":\"auto\",\"x\":[\"Dates\"],\"xaxis\":\"x\",\"y\":[29],\"yaxis\":\"y\",\"type\":\"bar\"}],                        {\"template\":{\"data\":{\"histogram2dcontour\":[{\"type\":\"histogram2dcontour\",\"colorbar\":{\"outlinewidth\":0,\"ticks\":\"\"},\"colorscale\":[[0.0,\"#0d0887\"],[0.1111111111111111,\"#46039f\"],[0.2222222222222222,\"#7201a8\"],[0.3333333333333333,\"#9c179e\"],[0.4444444444444444,\"#bd3786\"],[0.5555555555555556,\"#d8576b\"],[0.6666666666666666,\"#ed7953\"],[0.7777777777777778,\"#fb9f3a\"],[0.8888888888888888,\"#fdca26\"],[1.0,\"#f0f921\"]]}],\"choropleth\":[{\"type\":\"choropleth\",\"colorbar\":{\"outlinewidth\":0,\"ticks\":\"\"}}],\"histogram2d\":[{\"type\":\"histogram2d\",\"colorbar\":{\"outlinewidth\":0,\"ticks\":\"\"},\"colorscale\":[[0.0,\"#0d0887\"],[0.1111111111111111,\"#46039f\"],[0.2222222222222222,\"#7201a8\"],[0.3333333333333333,\"#9c179e\"],[0.4444444444444444,\"#bd3786\"],[0.5555555555555556,\"#d8576b\"],[0.6666666666666666,\"#ed7953\"],[0.7777777777777778,\"#fb9f3a\"],[0.8888888888888888,\"#fdca26\"],[1.0,\"#f0f921\"]]}],\"heatmap\":[{\"type\":\"heatmap\",\"colorbar\":{\"outlinewidth\":0,\"ticks\":\"\"},\"colorscale\":[[0.0,\"#0d0887\"],[0.1111111111111111,\"#46039f\"],[0.2222222222222222,\"#7201a8\"],[0.3333333333333333,\"#9c179e\"],[0.4444444444444444,\"#bd3786\"],[0.5555555555555556,\"#d8576b\"],[0.6666666666666666,\"#ed7953\"],[0.7777777777777778,\"#fb9f3a\"],[0.8888888888888888,\"#fdca26\"],[1.0,\"#f0f921\"]]}],\"heatmapgl\":[{\"type\":\"heatmapgl\",\"colorbar\":{\"outlinewidth\":0,\"ticks\":\"\"},\"colorscale\":[[0.0,\"#0d0887\"],[0.1111111111111111,\"#46039f\"],[0.2222222222222222,\"#7201a8\"],[0.3333333333333333,\"#9c179e\"],[0.4444444444444444,\"#bd3786\"],[0.5555555555555556,\"#d8576b\"],[0.6666666666666666,\"#ed7953\"],[0.7777777777777778,\"#fb9f3a\"],[0.8888888888888888,\"#fdca26\"],[1.0,\"#f0f921\"]]}],\"contourcarpet\":[{\"type\":\"contourcarpet\",\"colorbar\":{\"outlinewidth\":0,\"ticks\":\"\"}}],\"contour\":[{\"type\":\"contour\",\"colorbar\":{\"outlinewidth\":0,\"ticks\":\"\"},\"colorscale\":[[0.0,\"#0d0887\"],[0.1111111111111111,\"#46039f\"],[0.2222222222222222,\"#7201a8\"],[0.3333333333333333,\"#9c179e\"],[0.4444444444444444,\"#bd3786\"],[0.5555555555555556,\"#d8576b\"],[0.6666666666666666,\"#ed7953\"],[0.7777777777777778,\"#fb9f3a\"],[0.8888888888888888,\"#fdca26\"],[1.0,\"#f0f921\"]]}],\"surface\":[{\"type\":\"surface\",\"colorbar\":{\"outlinewidth\":0,\"ticks\":\"\"},\"colorscale\":[[0.0,\"#0d0887\"],[0.1111111111111111,\"#46039f\"],[0.2222222222222222,\"#7201a8\"],[0.3333333333333333,\"#9c179e\"],[0.4444444444444444,\"#bd3786\"],[0.5555555555555556,\"#d8576b\"],[0.6666666666666666,\"#ed7953\"],[0.7777777777777778,\"#fb9f3a\"],[0.8888888888888888,\"#fdca26\"],[1.0,\"#f0f921\"]]}],\"mesh3d\":[{\"type\":\"mesh3d\",\"colorbar\":{\"outlinewidth\":0,\"ticks\":\"\"}}],\"scatter\":[{\"fillpattern\":{\"fillmode\":\"overlay\",\"size\":10,\"solidity\":0.2},\"type\":\"scatter\"}],\"parcoords\":[{\"type\":\"parcoords\",\"line\":{\"colorbar\":{\"outlinewidth\":0,\"ticks\":\"\"}}}],\"scatterpolargl\":[{\"type\":\"scatterpolargl\",\"marker\":{\"colorbar\":{\"outlinewidth\":0,\"ticks\":\"\"}}}],\"bar\":[{\"error_x\":{\"color\":\"#2a3f5f\"},\"error_y\":{\"color\":\"#2a3f5f\"},\"marker\":{\"line\":{\"color\":\"#E5ECF6\",\"width\":0.5},\"pattern\":{\"fillmode\":\"overlay\",\"size\":10,\"solidity\":0.2}},\"type\":\"bar\"}],\"scattergeo\":[{\"type\":\"scattergeo\",\"marker\":{\"colorbar\":{\"outlinewidth\":0,\"ticks\":\"\"}}}],\"scatterpolar\":[{\"type\":\"scatterpolar\",\"marker\":{\"colorbar\":{\"outlinewidth\":0,\"ticks\":\"\"}}}],\"histogram\":[{\"marker\":{\"pattern\":{\"fillmode\":\"overlay\",\"size\":10,\"solidity\":0.2}},\"type\":\"histogram\"}],\"scattergl\":[{\"type\":\"scattergl\",\"marker\":{\"colorbar\":{\"outlinewidth\":0,\"ticks\":\"\"}}}],\"scatter3d\":[{\"type\":\"scatter3d\",\"line\":{\"colorbar\":{\"outlinewidth\":0,\"ticks\":\"\"}},\"marker\":{\"colorbar\":{\"outlinewidth\":0,\"ticks\":\"\"}}}],\"scattermapbox\":[{\"type\":\"scattermapbox\",\"marker\":{\"colorbar\":{\"outlinewidth\":0,\"ticks\":\"\"}}}],\"scatterternary\":[{\"type\":\"scatterternary\",\"marker\":{\"colorbar\":{\"outlinewidth\":0,\"ticks\":\"\"}}}],\"scattercarpet\":[{\"type\":\"scattercarpet\",\"marker\":{\"colorbar\":{\"outlinewidth\":0,\"ticks\":\"\"}}}],\"carpet\":[{\"aaxis\":{\"endlinecolor\":\"#2a3f5f\",\"gridcolor\":\"white\",\"linecolor\":\"white\",\"minorgridcolor\":\"white\",\"startlinecolor\":\"#2a3f5f\"},\"baxis\":{\"endlinecolor\":\"#2a3f5f\",\"gridcolor\":\"white\",\"linecolor\":\"white\",\"minorgridcolor\":\"white\",\"startlinecolor\":\"#2a3f5f\"},\"type\":\"carpet\"}],\"table\":[{\"cells\":{\"fill\":{\"color\":\"#EBF0F8\"},\"line\":{\"color\":\"white\"}},\"header\":{\"fill\":{\"color\":\"#C8D4E3\"},\"line\":{\"color\":\"white\"}},\"type\":\"table\"}],\"barpolar\":[{\"marker\":{\"line\":{\"color\":\"#E5ECF6\",\"width\":0.5},\"pattern\":{\"fillmode\":\"overlay\",\"size\":10,\"solidity\":0.2}},\"type\":\"barpolar\"}],\"pie\":[{\"automargin\":true,\"type\":\"pie\"}]},\"layout\":{\"autotypenumbers\":\"strict\",\"colorway\":[\"#636efa\",\"#EF553B\",\"#00cc96\",\"#ab63fa\",\"#FFA15A\",\"#19d3f3\",\"#FF6692\",\"#B6E880\",\"#FF97FF\",\"#FECB52\"],\"font\":{\"color\":\"#2a3f5f\"},\"hovermode\":\"closest\",\"hoverlabel\":{\"align\":\"left\"},\"paper_bgcolor\":\"white\",\"plot_bgcolor\":\"#E5ECF6\",\"polar\":{\"bgcolor\":\"#E5ECF6\",\"angularaxis\":{\"gridcolor\":\"white\",\"linecolor\":\"white\",\"ticks\":\"\"},\"radialaxis\":{\"gridcolor\":\"white\",\"linecolor\":\"white\",\"ticks\":\"\"}},\"ternary\":{\"bgcolor\":\"#E5ECF6\",\"aaxis\":{\"gridcolor\":\"white\",\"linecolor\":\"white\",\"ticks\":\"\"},\"baxis\":{\"gridcolor\":\"white\",\"linecolor\":\"white\",\"ticks\":\"\"},\"caxis\":{\"gridcolor\":\"white\",\"linecolor\":\"white\",\"ticks\":\"\"}},\"coloraxis\":{\"colorbar\":{\"outlinewidth\":0,\"ticks\":\"\"}},\"colorscale\":{\"sequential\":[[0.0,\"#0d0887\"],[0.1111111111111111,\"#46039f\"],[0.2222222222222222,\"#7201a8\"],[0.3333333333333333,\"#9c179e\"],[0.4444444444444444,\"#bd3786\"],[0.5555555555555556,\"#d8576b\"],[0.6666666666666666,\"#ed7953\"],[0.7777777777777778,\"#fb9f3a\"],[0.8888888888888888,\"#fdca26\"],[1.0,\"#f0f921\"]],\"sequentialminus\":[[0.0,\"#0d0887\"],[0.1111111111111111,\"#46039f\"],[0.2222222222222222,\"#7201a8\"],[0.3333333333333333,\"#9c179e\"],[0.4444444444444444,\"#bd3786\"],[0.5555555555555556,\"#d8576b\"],[0.6666666666666666,\"#ed7953\"],[0.7777777777777778,\"#fb9f3a\"],[0.8888888888888888,\"#fdca26\"],[1.0,\"#f0f921\"]],\"diverging\":[[0,\"#8e0152\"],[0.1,\"#c51b7d\"],[0.2,\"#de77ae\"],[0.3,\"#f1b6da\"],[0.4,\"#fde0ef\"],[0.5,\"#f7f7f7\"],[0.6,\"#e6f5d0\"],[0.7,\"#b8e186\"],[0.8,\"#7fbc41\"],[0.9,\"#4d9221\"],[1,\"#276419\"]]},\"xaxis\":{\"gridcolor\":\"white\",\"linecolor\":\"white\",\"ticks\":\"\",\"title\":{\"standoff\":15},\"zerolinecolor\":\"white\",\"automargin\":true,\"zerolinewidth\":2},\"yaxis\":{\"gridcolor\":\"white\",\"linecolor\":\"white\",\"ticks\":\"\",\"title\":{\"standoff\":15},\"zerolinecolor\":\"white\",\"automargin\":true,\"zerolinewidth\":2},\"scene\":{\"xaxis\":{\"backgroundcolor\":\"#E5ECF6\",\"gridcolor\":\"white\",\"linecolor\":\"white\",\"showbackground\":true,\"ticks\":\"\",\"zerolinecolor\":\"white\",\"gridwidth\":2},\"yaxis\":{\"backgroundcolor\":\"#E5ECF6\",\"gridcolor\":\"white\",\"linecolor\":\"white\",\"showbackground\":true,\"ticks\":\"\",\"zerolinecolor\":\"white\",\"gridwidth\":2},\"zaxis\":{\"backgroundcolor\":\"#E5ECF6\",\"gridcolor\":\"white\",\"linecolor\":\"white\",\"showbackground\":true,\"ticks\":\"\",\"zerolinecolor\":\"white\",\"gridwidth\":2}},\"shapedefaults\":{\"line\":{\"color\":\"#2a3f5f\"}},\"annotationdefaults\":{\"arrowcolor\":\"#2a3f5f\",\"arrowhead\":0,\"arrowwidth\":1},\"geo\":{\"bgcolor\":\"white\",\"landcolor\":\"#E5ECF6\",\"subunitcolor\":\"white\",\"showland\":true,\"showlakes\":true,\"lakecolor\":\"white\"},\"title\":{\"x\":0.05},\"mapbox\":{\"style\":\"light\"}}},\"xaxis\":{\"anchor\":\"y\",\"domain\":[0.0,1.0],\"title\":{\"text\":\"Fruits\"},\"categoryorder\":\"array\",\"categoryarray\":[\"Apples\",\"Bananas\",\"Cherries\",\"Dates\"]},\"yaxis\":{\"anchor\":\"x\",\"domain\":[0.0,1.0],\"title\":{\"text\":\"Quantity\"}},\"legend\":{\"title\":{\"text\":\"Fruits\"},\"tracegroupgap\":0},\"title\":{\"text\":\"Fruit Quantity Bar Plot\"},\"barmode\":\"relative\"},                        {\"responsive\": true}                    ).then(function(){\n",
              "                            \n",
              "var gd = document.getElementById('27b3f998-95f3-4d42-b3dd-484bb20b98be');\n",
              "var x = new MutationObserver(function (mutations, observer) {{\n",
              "        var display = window.getComputedStyle(gd).display;\n",
              "        if (!display || display === 'none') {{\n",
              "            console.log([gd, 'removed!']);\n",
              "            Plotly.purge(gd);\n",
              "            observer.disconnect();\n",
              "        }}\n",
              "}});\n",
              "\n",
              "// Listen for the removal of the full notebook cells\n",
              "var notebookContainer = gd.closest('#notebook-container');\n",
              "if (notebookContainer) {{\n",
              "    x.observe(notebookContainer, {childList: true});\n",
              "}}\n",
              "\n",
              "// Listen for the clearing of the current output cell\n",
              "var outputEl = gd.closest('.output');\n",
              "if (outputEl) {{\n",
              "    x.observe(outputEl, {childList: true});\n",
              "}}\n",
              "\n",
              "                        })                };                            </script>        </div>\n",
              "</body>\n",
              "</html>"
            ]
          },
          "metadata": {}
        }
      ]
    },
    {
      "cell_type": "markdown",
      "source": [
        "6. Create a DataFrame and add a new column based on an existing column.  "
      ],
      "metadata": {
        "id": "PNfeDxJQ4ZWH"
      }
    },
    {
      "cell_type": "code",
      "source": [
        "data = {'Name':['Allu','Suman','Romit'],'Age':[18,24,15]}\n",
        "df =pd.DataFrame(data)#create a data frame\n",
        "data_frame = df.copy()#save the data frame\n",
        "print(f'The data frame is : \\n{data_frame}\\n')\n",
        "\n",
        "df['Weight'] = [40,54,53]#add a new column.\n",
        "\n",
        "print(f'The updated dataframe is :\\n{df} ')\n"
      ],
      "metadata": {
        "colab": {
          "base_uri": "https://localhost:8080/"
        },
        "id": "SroaWNui6ewF",
        "outputId": "d64bccbf-9230-4ae5-c53e-b621ce024f75"
      },
      "execution_count": null,
      "outputs": [
        {
          "output_type": "stream",
          "name": "stdout",
          "text": [
            "The data frame is : \n",
            "    Name  Age\n",
            "0   Allu   18\n",
            "1  Suman   24\n",
            "2  Romit   15\n",
            "\n",
            "The updated dataframe is :\n",
            "    Name  Age  Weight\n",
            "0   Allu   18      40\n",
            "1  Suman   24      54\n",
            "2  Romit   15      53 \n"
          ]
        }
      ]
    },
    {
      "cell_type": "markdown",
      "source": [
        "7. Write a program to perform element-wise multiplication of two NumPy arrays.  \n"
      ],
      "metadata": {
        "id": "WlAThOqh4WNi"
      }
    },
    {
      "cell_type": "code",
      "source": [
        "arr1 = np.array([2,3,4])\n",
        "arr2 = np.array([5,6,7])\n",
        "result = arr1*arr2\n",
        "print(f'The result of element wise multiplication is : {result}')"
      ],
      "metadata": {
        "colab": {
          "base_uri": "https://localhost:8080/"
        },
        "id": "kjjKB-uV_Skk",
        "outputId": "04538cc8-afb1-4257-a648-4aeafc1bc9cc"
      },
      "execution_count": null,
      "outputs": [
        {
          "output_type": "stream",
          "name": "stdout",
          "text": [
            "The result of element wise multiplication is : [10 18 28]\n"
          ]
        }
      ]
    },
    {
      "cell_type": "markdown",
      "source": [
        "8. Create a line plot with multiple lines using Matplotlib.\n"
      ],
      "metadata": {
        "id": "ZqObPfMaXu_1"
      }
    },
    {
      "cell_type": "code",
      "source": [
        "\n",
        "months = ['Jan', 'Feb', 'Mar', 'Apr', 'May']\n",
        "product_A = [100, 120, 140, 160, 180]\n",
        "product_B = [90, 110, 130, 150, 170]\n",
        "product_C = [80, 95, 110, 125, 140]\n",
        "\n",
        "# Create the plot\n",
        "plt.plot(months, product_A, label='Product A', marker='o', linestyle='-', color='blue')\n",
        "plt.plot(months, product_B, label='Product B', marker='s', linestyle='--', color='green')\n",
        "plt.plot(months, product_C, label='Product C', marker='^', linestyle='-.', color='red')\n",
        "\n",
        "# Add labels and title\n",
        "plt.title('Monthly Sales Comparison')\n",
        "plt.xlabel('Month')\n",
        "plt.ylabel('Units Sold')\n",
        "\n",
        "# Show legend\n",
        "plt.legend()\n",
        "\n",
        "# Display the plot\n",
        "plt.grid(True)\n",
        "plt.tight_layout()\n",
        "plt.show()"
      ],
      "metadata": {
        "colab": {
          "base_uri": "https://localhost:8080/",
          "height": 487
        },
        "id": "Lz_tdWkKYEkQ",
        "outputId": "c38edc70-7d34-4be0-907c-b6d22eea111a"
      },
      "execution_count": 7,
      "outputs": [
        {
          "output_type": "display_data",
          "data": {
            "text/plain": [
              "<Figure size 640x480 with 1 Axes>"
            ],
            "image/png": "[encoded data removed]"
          },
          "metadata": {}
        }
      ]
    },
    {
      "cell_type": "markdown",
      "source": [
        "9. Generate a Pandas DataFrame and filter rows where a column value is greater than a threshold.\n"
      ],
      "metadata": {
        "id": "nUYWXEzoXw4T"
      }
    },
    {
      "cell_type": "code",
      "source": [
        "import pandas as pd\n",
        "data = {'Name':['Allu','Suman','Romit','Lalu'],'Age':[18,24,15,38]}\n",
        "df =pd.DataFrame(data)#define a data frame.`\n",
        "threshold =20\n",
        "filtered_df= df[df['Age']>threshold]# filter rows where score is > threshold.\n",
        "print(f'The data frame is : \\n{df}\\n')\n",
        "print(f'The filtered data frame is :\\n{filtered_df}')"
      ],
      "metadata": {
        "colab": {
          "base_uri": "https://localhost:8080/"
        },
        "outputId": "169b5231-be6e-4b5c-8542-f1f43d098758",
        "id": "3pM_v8N4X4Dv"
      },
      "execution_count": 6,
      "outputs": [
        {
          "output_type": "stream",
          "name": "stdout",
          "text": [
            "The data frame is : \n",
            "    Name  Age\n",
            "0   Allu   18\n",
            "1  Suman   24\n",
            "2  Romit   15\n",
            "3   Lalu   38\n",
            "\n",
            "The filtered data frame is :\n",
            "    Name  Age\n",
            "1  Suman   24\n",
            "3   Lalu   38\n"
          ]
        }
      ]
    },
    {
      "cell_type": "markdown",
      "source": [
        "10. Create a histogram using Seaborn to visualize a distribution.\n"
      ],
      "metadata": {
        "id": "pE5GkrlKX3Jd"
      }
    },
    {
      "cell_type": "code",
      "source": [
        "import seaborn as sns\n",
        "import matplotlib.pyplot as plt\n",
        "\n",
        "# Sample data\n",
        "import numpy as np\n",
        "np.random.seed(42)\n",
        "data = np.random.normal(loc=50, scale=15, size=1000)  # Normal distribution\n",
        "\n",
        "# Create the histogram\n",
        "sns.histplot(data, bins=30, kde=True, color='skyblue')\n",
        "\n",
        "# Add titles and labels\n",
        "plt.title('Distribution of Sample Data')\n",
        "plt.xlabel('Value')\n",
        "plt.ylabel('Frequency')\n",
        "\n",
        "# Show the plot\n",
        "plt.show()"
      ],
      "metadata": {
        "colab": {
          "base_uri": "https://localhost:8080/",
          "height": 472
        },
        "id": "TBDD-iP2YauL",
        "outputId": "29fda2b3-ddc1-46d8-f1a7-ca08e909edf7"
      },
      "execution_count": 8,
      "outputs": [
        {
          "output_type": "display_data",
          "data": {
            "text/plain": [
              "<Figure size 640x480 with 1 Axes>"
            ],
            "image/png": "[encoded data removed]"
          },
          "metadata": {}
        }
      ]
    },
    {
      "cell_type": "markdown",
      "source": [
        "11. Perform matrix multiplication using NumPy.  \n"
      ],
      "metadata": {
        "id": "0ZZv4GMR4UJE"
      }
    },
    {
      "cell_type": "code",
      "source": [
        "arr1 = np.array([2,3,4])\n",
        "arr2 = np.array([5,6,7])\n",
        "result = arr1@arr2# @ use for matrix multiplication.\n",
        "print(f'The result of matris multiplication is : {result}')"
      ],
      "metadata": {
        "colab": {
          "base_uri": "https://localhost:8080/"
        },
        "id": "gT1hPgH5AM8B",
        "outputId": "a2cfc797-7aa0-4326-b2cf-b829b31b7040"
      },
      "execution_count": null,
      "outputs": [
        {
          "output_type": "stream",
          "name": "stdout",
          "text": [
            "The result of matris multiplication is : 56\n"
          ]
        }
      ]
    },
    {
      "cell_type": "markdown",
      "source": [
        "12. Use Pandas to load a CSV file and display its first 5 rows."
      ],
      "metadata": {
        "id": "pE4yIa32IdLl"
      }
    },
    {
      "cell_type": "code",
      "source": [
        "\n",
        "df = pd.read_csv('customers-100.csv')#loading of the csv file.\n",
        "print(f'The first five rows of the data frame is:\\n')\n",
        "df.head()#by default it gives us first five rows of the data frame.\n"
      ],
      "metadata": {
        "id": "9JHwz0YnAJN6",
        "colab": {
          "base_uri": "https://localhost:8080/",
          "height": 434
        },
        "outputId": "988e2e30-90e4-48f0-c3c8-05566f38ca90"
      },
      "execution_count": null,
      "outputs": [
        {
          "output_type": "stream",
          "name": "stdout",
          "text": [
            "The first five rows of the data frame is:\n",
            "\n"
          ]
        },
        {
          "output_type": "execute_result",
          "data": {
            "text/plain": [
              "   Index      Customer Id First Name Last Name  \\\n",
              "0      1  DD37Cf93aecA6Dc     Sheryl    Baxter   \n",
              "1      2  1Ef7b82A4CAAD10    Preston    Lozano   \n",
              "2      3  6F94879bDAfE5a6        Roy     Berry   \n",
              "3      4  5Cef8BFA16c5e3c      Linda     Olsen   \n",
              "4      5  053d585Ab6b3159     Joanna    Bender   \n",
              "\n",
              "                           Company               City  \\\n",
              "0                  Rasmussen Group       East Leonard   \n",
              "1                      Vega-Gentry  East Jimmychester   \n",
              "2                    Murillo-Perry      Isabelborough   \n",
              "3  Dominguez, Mcmillan and Donovan         Bensonview   \n",
              "4         Martin, Lang and Andrade     West Priscilla   \n",
              "\n",
              "                      Country                 Phone 1                Phone 2  \\\n",
              "0                       Chile            229.077.5154       397.884.0519x718   \n",
              "1                    Djibouti              5153435776       686-620-1820x944   \n",
              "2         Antigua and Barbuda         +1-539-402-0259    (496)978-3969x58947   \n",
              "3          Dominican Republic  001-808-617-6467x12895        +1-813-324-8756   \n",
              "4  Slovakia (Slovak Republic)  001-234-203-0635x76146  001-199-446-3860x3486   \n",
              "\n",
              "                         Email Subscription Date                      Website  \n",
              "0     zunigavanessa@smith.info        2020-08-24   http://www.stephenson.com/  \n",
              "1              vmata@colon.com        2021-04-23        http://www.hobbs.com/  \n",
              "2          beckycarr@hogan.com        2020-03-25     http://www.lawrence.com/  \n",
              "3  stanleyblackwell@benson.org        2020-06-02   http://www.good-lyons.com/  \n",
              "4      colinalvarado@miles.net        2021-04-17  https://goodwin-ingram.com/  "
            ],
            "text/html": [
              "\n",
              "  <div id=\"df-273ba8d0-2e7e-4890-8872-0e154b3d0fca\" class=\"colab-df-container\">\n",
              "    <div>\n",
              "<style scoped>\n",
              "    .dataframe tbody tr th:only-of-type {\n",
              "        vertical-align: middle;\n",
              "    }\n",
              "\n",
              "    .dataframe tbody tr th {\n",
              "        vertical-align: top;\n",
              "    }\n",
              "\n",
              "    .dataframe thead th {\n",
              "        text-align: right;\n",
              "    }\n",
              "</style>\n",
              "<table border=\"1\" class=\"dataframe\">\n",
              "  <thead>\n",
              "    <tr style=\"text-align: right;\">\n",
              "      <th></th>\n",
              "      <th>Index</th>\n",
              "      <th>Customer Id</th>\n",
              "      <th>First Name</th>\n",
              "      <th>Last Name</th>\n",
              "      <th>Company</th>\n",
              "      <th>City</th>\n",
              "      <th>Country</th>\n",
              "      <th>Phone 1</th>\n",
              "      <th>Phone 2</th>\n",
              "      <th>Email</th>\n",
              "      <th>Subscription Date</th>\n",
              "      <th>Website</th>\n",
              "    </tr>\n",
              "  </thead>\n",
              "  <tbody>\n",
              "    <tr>\n",
              "      <th>0</th>\n",
              "      <td>1</td>\n",
              "      <td>DD37Cf93aecA6Dc</td>\n",
              "      <td>Sheryl</td>\n",
              "      <td>Baxter</td>\n",
              "      <td>Rasmussen Group</td>\n",
              "      <td>East Leonard</td>\n",
              "      <td>Chile</td>\n",
              "      <td>229.077.5154</td>\n",
              "      <td>397.884.0519x718</td>\n",
              "      <td>zunigavanessa@smith.info</td>\n",
              "      <td>2020-08-24</td>\n",
              "      <td>http://www.stephenson.com/</td>\n",
              "    </tr>\n",
              "    <tr>\n",
              "      <th>1</th>\n",
              "      <td>2</td>\n",
              "      <td>1Ef7b82A4CAAD10</td>\n",
              "      <td>Preston</td>\n",
              "      <td>Lozano</td>\n",
              "      <td>Vega-Gentry</td>\n",
              "      <td>East Jimmychester</td>\n",
              "      <td>Djibouti</td>\n",
              "      <td>5153435776</td>\n",
              "      <td>686-620-1820x944</td>\n",
              "      <td>vmata@colon.com</td>\n",
              "      <td>2021-04-23</td>\n",
              "      <td>http://www.hobbs.com/</td>\n",
              "    </tr>\n",
              "    <tr>\n",
              "      <th>2</th>\n",
              "      <td>3</td>\n",
              "      <td>6F94879bDAfE5a6</td>\n",
              "      <td>Roy</td>\n",
              "      <td>Berry</td>\n",
              "      <td>Murillo-Perry</td>\n",
              "      <td>Isabelborough</td>\n",
              "      <td>Antigua and Barbuda</td>\n",
              "      <td>+1-539-402-0259</td>\n",
              "      <td>(496)978-3969x58947</td>\n",
              "      <td>beckycarr@hogan.com</td>\n",
              "      <td>2020-03-25</td>\n",
              "      <td>http://www.lawrence.com/</td>\n",
              "    </tr>\n",
              "    <tr>\n",
              "      <th>3</th>\n",
              "      <td>4</td>\n",
              "      <td>5Cef8BFA16c5e3c</td>\n",
              "      <td>Linda</td>\n",
              "      <td>Olsen</td>\n",
              "      <td>Dominguez, Mcmillan and Donovan</td>\n",
              "      <td>Bensonview</td>\n",
              "      <td>Dominican Republic</td>\n",
              "      <td>001-808-617-6467x12895</td>\n",
              "      <td>+1-813-324-8756</td>\n",
              "      <td>stanleyblackwell@benson.org</td>\n",
              "      <td>2020-06-02</td>\n",
              "      <td>http://www.good-lyons.com/</td>\n",
              "    </tr>\n",
              "    <tr>\n",
              "      <th>4</th>\n",
              "      <td>5</td>\n",
              "      <td>053d585Ab6b3159</td>\n",
              "      <td>Joanna</td>\n",
              "      <td>Bender</td>\n",
              "      <td>Martin, Lang and Andrade</td>\n",
              "      <td>West Priscilla</td>\n",
              "      <td>Slovakia (Slovak Republic)</td>\n",
              "      <td>001-234-203-0635x76146</td>\n",
              "      <td>001-199-446-3860x3486</td>\n",
              "      <td>colinalvarado@miles.net</td>\n",
              "      <td>2021-04-17</td>\n",
              "      <td>https://goodwin-ingram.com/</td>\n",
              "    </tr>\n",
              "  </tbody>\n",
              "</table>\n",
              "</div>\n",
              "    <div class=\"colab-df-buttons\">\n",
              "\n",
              "  <div class=\"colab-df-container\">\n",
              "    <button class=\"colab-df-convert\" onclick=\"convertToInteractive('df-273ba8d0-2e7e-4890-8872-0e154b3d0fca')\"\n",
              "            title=\"Convert this dataframe to an interactive table.\"\n",
              "            style=\"display:none;\">\n",
              "\n",
              "  <svg xmlns=\"http://www.w3.org/2000/svg\" height=\"24px\" viewBox=\"0 -960 960 960\">\n",
              "    <path d=\"M120-120v-720h720v720H120Zm60-500h600v-160H180v160Zm220 220h160v-160H400v160Zm0 220h160v-160H400v160ZM180-400h160v-160H180v160Zm440 0h160v-160H620v160ZM180-180h160v-160H180v160Zm440 0h160v-160H620v160Z\"/>\n",
              "  </svg>\n",
              "    </button>\n",
              "\n",
              "  <style>\n",
              "    .colab-df-container {\n",
              "      display:flex;\n",
              "      gap: 12px;\n",
              "    }\n",
              "\n",
              "    .colab-df-convert {\n",
              "      background-color: #E8F0FE;\n",
              "      border: none;\n",
              "      border-radius: 50%;\n",
              "      cursor: pointer;\n",
              "      display: none;\n",
              "      fill: #1967D2;\n",
              "      height: 32px;\n",
              "      padding: 0 0 0 0;\n",
              "      width: 32px;\n",
              "    }\n",
              "\n",
              "    .colab-df-convert:hover {\n",
              "      background-color: #E2EBFA;\n",
              "      box-shadow: 0px 1px 2px rgba(60, 64, 67, 0.3), 0px 1px 3px 1px rgba(60, 64, 67, 0.15);\n",
              "      fill: #174EA6;\n",
              "    }\n",
              "\n",
              "    .colab-df-buttons div {\n",
              "      margin-bottom: 4px;\n",
              "    }\n",
              "\n",
              "    [theme=dark] .colab-df-convert {\n",
              "      background-color: #3B4455;\n",
              "      fill: #D2E3FC;\n",
              "    }\n",
              "\n",
              "    [theme=dark] .colab-df-convert:hover {\n",
              "      background-color: #434B5C;\n",
              "      box-shadow: 0px 1px 3px 1px rgba(0, 0, 0, 0.15);\n",
              "      filter: drop-shadow(0px 1px 2px rgba(0, 0, 0, 0.3));\n",
              "      fill: #FFFFFF;\n",
              "    }\n",
              "  </style>\n",
              "\n",
              "    <script>\n",
              "      const buttonEl =\n",
              "        document.querySelector('#df-273ba8d0-2e7e-4890-8872-0e154b3d0fca button.colab-df-convert');\n",
              "      buttonEl.style.display =\n",
              "        google.colab.kernel.accessAllowed ? 'block' : 'none';\n",
              "\n",
              "      async function convertToInteractive(key) {\n",
              "        const element = document.querySelector('#df-273ba8d0-2e7e-4890-8872-0e154b3d0fca');\n",
              "        const dataTable =\n",
              "          await google.colab.kernel.invokeFunction('convertToInteractive',\n",
              "                                                    [key], {});\n",
              "        if (!dataTable) return;\n",
              "\n",
              "        const docLinkHtml = 'Like what you see? Visit the ' +\n",
              "          '<a target=\"_blank\" href=https://colab.research.google.com/notebooks/data_table.ipynb>data table notebook</a>'\n",
              "          + ' to learn more about interactive tables.';\n",
              "        element.innerHTML = '';\n",
              "        dataTable['output_type'] = 'display_data';\n",
              "        await google.colab.output.renderOutput(dataTable, element);\n",
              "        const docLink = document.createElement('div');\n",
              "        docLink.innerHTML = docLinkHtml;\n",
              "        element.appendChild(docLink);\n",
              "      }\n",
              "    </script>\n",
              "  </div>\n",
              "\n",
              "\n",
              "    <div id=\"df-d26bcb22-3d5d-4c35-bc1a-42a0b839cffb\">\n",
              "      <button class=\"colab-df-quickchart\" onclick=\"quickchart('df-d26bcb22-3d5d-4c35-bc1a-42a0b839cffb')\"\n",
              "                title=\"Suggest charts\"\n",
              "                style=\"display:none;\">\n",
              "\n",
              "<svg xmlns=\"http://www.w3.org/2000/svg\" height=\"24px\"viewBox=\"0 0 24 24\"\n",
              "     width=\"24px\">\n",
              "    <g>\n",
              "        <path d=\"M19 3H5c-1.1 0-2 .9-2 2v14c0 1.1.9 2 2 2h14c1.1 0 2-.9 2-2V5c0-1.1-.9-2-2-2zM9 17H7v-7h2v7zm4 0h-2V7h2v10zm4 0h-2v-4h2v4z\"/>\n",
              "    </g>\n",
              "</svg>\n",
              "      </button>\n",
              "\n",
              "<style>\n",
              "  .colab-df-quickchart {\n",
              "      --bg-color: #E8F0FE;\n",
              "      --fill-color: #1967D2;\n",
              "      --hover-bg-color: #E2EBFA;\n",
              "      --hover-fill-color: #174EA6;\n",
              "      --disabled-fill-color: #AAA;\n",
              "      --disabled-bg-color: #DDD;\n",
              "  }\n",
              "\n",
              "  [theme=dark] .colab-df-quickchart {\n",
              "      --bg-color: #3B4455;\n",
              "      --fill-color: #D2E3FC;\n",
              "      --hover-bg-color: #434B5C;\n",
              "      --hover-fill-color: #FFFFFF;\n",
              "      --disabled-bg-color: #3B4455;\n",
              "      --disabled-fill-color: #666;\n",
              "  }\n",
              "\n",
              "  .colab-df-quickchart {\n",
              "    background-color: var(--bg-color);\n",
              "    border: none;\n",
              "    border-radius: 50%;\n",
              "    cursor: pointer;\n",
              "    display: none;\n",
              "    fill: var(--fill-color);\n",
              "    height: 32px;\n",
              "    padding: 0;\n",
              "    width: 32px;\n",
              "  }\n",
              "\n",
              "  .colab-df-quickchart:hover {\n",
              "    background-color: var(--hover-bg-color);\n",
              "    box-shadow: 0 1px 2px rgba(60, 64, 67, 0.3), 0 1px 3px 1px rgba(60, 64, 67, 0.15);\n",
              "    fill: var(--button-hover-fill-color);\n",
              "  }\n",
              "\n",
              "  .colab-df-quickchart-complete:disabled,\n",
              "  .colab-df-quickchart-complete:disabled:hover {\n",
              "    background-color: var(--disabled-bg-color);\n",
              "    fill: var(--disabled-fill-color);\n",
              "    box-shadow: none;\n",
              "  }\n",
              "\n",
              "  .colab-df-spinner {\n",
              "    border: 2px solid var(--fill-color);\n",
              "    border-color: transparent;\n",
              "    border-bottom-color: var(--fill-color);\n",
              "    animation:\n",
              "      spin 1s steps(1) infinite;\n",
              "  }\n",
              "\n",
              "  @keyframes spin {\n",
              "    0% {\n",
              "      border-color: transparent;\n",
              "      border-bottom-color: var(--fill-color);\n",
              "      border-left-color: var(--fill-color);\n",
              "    }\n",
              "    20% {\n",
              "      border-color: transparent;\n",
              "      border-left-color: var(--fill-color);\n",
              "      border-top-color: var(--fill-color);\n",
              "    }\n",
              "    30% {\n",
              "      border-color: transparent;\n",
              "      border-left-color: var(--fill-color);\n",
              "      border-top-color: var(--fill-color);\n",
              "      border-right-color: var(--fill-color);\n",
              "    }\n",
              "    40% {\n",
              "      border-color: transparent;\n",
              "      border-right-color: var(--fill-color);\n",
              "      border-top-color: var(--fill-color);\n",
              "    }\n",
              "    60% {\n",
              "      border-color: transparent;\n",
              "      border-right-color: var(--fill-color);\n",
              "    }\n",
              "    80% {\n",
              "      border-color: transparent;\n",
              "      border-right-color: var(--fill-color);\n",
              "      border-bottom-color: var(--fill-color);\n",
              "    }\n",
              "    90% {\n",
              "      border-color: transparent;\n",
              "      border-bottom-color: var(--fill-color);\n",
              "    }\n",
              "  }\n",
              "</style>\n",
              "\n",
              "      <script>\n",
              "        async function quickchart(key) {\n",
              "          const quickchartButtonEl =\n",
              "            document.querySelector('#' + key + ' button');\n",
              "          quickchartButtonEl.disabled = true;  // To prevent multiple clicks.\n",
              "          quickchartButtonEl.classList.add('colab-df-spinner');\n",
              "          try {\n",
              "            const charts = await google.colab.kernel.invokeFunction(\n",
              "                'suggestCharts', [key], {});\n",
              "          } catch (error) {\n",
              "            console.error('Error during call to suggestCharts:', error);\n",
              "          }\n",
              "          quickchartButtonEl.classList.remove('colab-df-spinner');\n",
              "          quickchartButtonEl.classList.add('colab-df-quickchart-complete');\n",
              "        }\n",
              "        (() => {\n",
              "          let quickchartButtonEl =\n",
              "            document.querySelector('#df-d26bcb22-3d5d-4c35-bc1a-42a0b839cffb button');\n",
              "          quickchartButtonEl.style.display =\n",
              "            google.colab.kernel.accessAllowed ? 'block' : 'none';\n",
              "        })();\n",
              "      </script>\n",
              "    </div>\n",
              "\n",
              "    </div>\n",
              "  </div>\n"
            ],
            "application/vnd.google.colaboratory.intrinsic+json": {
              "type": "dataframe",
              "variable_name": "df",
              "summary": "{\n  \"name\": \"df\",\n  \"rows\": 100,\n  \"fields\": [\n    {\n      \"column\": \"Index\",\n      \"properties\": {\n        \"dtype\": \"number\",\n        \"std\": 29,\n        \"min\": 1,\n        \"max\": 100,\n        \"num_unique_values\": 100,\n        \"samples\": [\n          84,\n          54,\n          71\n        ],\n        \"semantic_type\": \"\",\n        \"description\": \"\"\n      }\n    },\n    {\n      \"column\": \"Customer Id\",\n      \"properties\": {\n        \"dtype\": \"string\",\n        \"num_unique_values\": 100,\n        \"samples\": [\n          \"78C06E9b6B3DF20\",\n          \"c09952De6Cda8aA\",\n          \"CBCd2Ac8E3eBDF9\"\n        ],\n        \"semantic_type\": \"\",\n        \"description\": \"\"\n      }\n    },\n    {\n      \"column\": \"First Name\",\n      \"properties\": {\n        \"dtype\": \"string\",\n        \"num_unique_values\": 93,\n        \"samples\": [\n          \"Luis\",\n          \"Shane\",\n          \"Kathy\"\n        ],\n        \"semantic_type\": \"\",\n        \"description\": \"\"\n      }\n    },\n    {\n      \"column\": \"Last Name\",\n      \"properties\": {\n        \"dtype\": \"string\",\n        \"num_unique_values\": 97,\n        \"samples\": [\n          \"Hutchinson\",\n          \"Dunn\",\n          \"Atkinson\"\n        ],\n        \"semantic_type\": \"\",\n        \"description\": \"\"\n      }\n    },\n    {\n      \"column\": \"Company\",\n      \"properties\": {\n        \"dtype\": \"string\",\n        \"num_unique_values\": 99,\n        \"samples\": [\n          \"Caldwell Group\",\n          \"Monroe PLC\",\n          \"Ware, Burns and Oneal\"\n        ],\n        \"semantic_type\": \"\",\n        \"description\": \"\"\n      }\n    },\n    {\n      \"column\": \"City\",\n      \"properties\": {\n        \"dtype\": \"string\",\n        \"num_unique_values\": 100,\n        \"samples\": [\n          \"South Joshuashire\",\n          \"New Deborah\",\n          \"Nicolasfort\"\n        ],\n        \"semantic_type\": \"\",\n        \"description\": \"\"\n      }\n    },\n    {\n      \"column\": \"Country\",\n      \"properties\": {\n        \"dtype\": \"string\",\n        \"num_unique_values\": 85,\n        \"samples\": [\n          \"Bhutan\",\n          \"Chile\",\n          \"Dominica\"\n        ],\n        \"semantic_type\": \"\",\n        \"description\": \"\"\n      }\n    },\n    {\n      \"column\": \"Phone 1\",\n      \"properties\": {\n        \"dtype\": \"string\",\n        \"num_unique_values\": 100,\n        \"samples\": [\n          \"8275702958\",\n          \"001-622-948-3641x24810\",\n          \"078-900-4760x76668\"\n        ],\n        \"semantic_type\": \"\",\n        \"description\": \"\"\n      }\n    },\n    {\n      \"column\": \"Phone 2\",\n      \"properties\": {\n        \"dtype\": \"string\",\n        \"num_unique_values\": 100,\n        \"samples\": [\n          \"(804)842-4715\",\n          \"001-731-168-2893x8891\",\n          \"414-112-8700x68751\"\n        ],\n        \"semantic_type\": \"\",\n        \"description\": \"\"\n      }\n    },\n    {\n      \"column\": \"Email\",\n      \"properties\": {\n        \"dtype\": \"string\",\n        \"num_unique_values\": 100,\n        \"samples\": [\n          \"justinwalters@jimenez.com\",\n          \"clinton85@colon-arias.org\",\n          \"lee48@manning.com\"\n        ],\n        \"semantic_type\": \"\",\n        \"description\": \"\"\n      }\n    },\n    {\n      \"column\": \"Subscription Date\",\n      \"properties\": {\n        \"dtype\": \"object\",\n        \"num_unique_values\": 96,\n        \"samples\": [\n          \"2020-02-18\",\n          \"2021-09-12\",\n          \"2020-10-21\"\n        ],\n        \"semantic_type\": \"\",\n        \"description\": \"\"\n      }\n    },\n    {\n      \"column\": \"Website\",\n      \"properties\": {\n        \"dtype\": \"string\",\n        \"num_unique_values\": 100,\n        \"samples\": [\n          \"http://www.garner-oliver.com/\",\n          \"https://kim.com/\",\n          \"https://ramsey.org/\"\n        ],\n        \"semantic_type\": \"\",\n        \"description\": \"\"\n      }\n    }\n  ]\n}"
            }
          },
          "metadata": {},
          "execution_count": 7
        }
      ]
    },
    {
      "cell_type": "markdown",
      "source": [
        "13. Create a 3D scatter plot using Plotly.\n",
        "\n"
      ],
      "metadata": {
        "id": "rAzPBBCu4Sga"
      }
    },
    {
      "cell_type": "code",
      "source": [
        "import plotly.graph_objects as go\n",
        "import numpy as np\n",
        "\n",
        "# Sample data\n",
        "np.random.seed(42)\n",
        "x = np.random.rand(50)\n",
        "y = np.random.rand(50)\n",
        "z = np.random.rand(50)\n",
        "\n",
        "# Create the 3D scatter plot\n",
        "fig = go.Figure(data=[go.Scatter3d(\n",
        "    x=x,\n",
        "    y=y,\n",
        "    z=z,\n",
        "    mode='markers',\n",
        "    marker=dict(\n",
        "        size=6,\n",
        "        color=z,              # Color by z-axis values\n",
        "        colorscale='Viridis', # Choose a colorscale\n",
        "        opacity=0.8\n",
        "    )\n",
        ")])\n",
        "\n",
        "fig.update_layout(\n",
        "    title='3D Scatter Plot Example',\n",
        "    scene=dict(\n",
        "        xaxis_title='X Axis',\n",
        "        yaxis_title='Y Axis',\n",
        "        zaxis_title='Z Axis'\n",
        "    ),\n",
        "    margin=dict(l=0, r=0, b=0, t=40)\n",
        ")\n",
        "\n",
        "# Show the plot\n",
        "fig.show()"
      ],
      "metadata": {
        "colab": {
          "base_uri": "https://localhost:8080/",
          "height": 542
        },
        "id": "NPYWrycdZOKI",
        "outputId": "cbbb8728-f551-44f1-87ac-d1e6379e26b4"
      },
      "execution_count": 11,
      "outputs": [
        {
          "output_type": "display_data",
          "data": {
            "text/html": [
              "<html>\n",
              "<head><meta charset=\"utf-8\" /></head>\n",
              "<body>\n",
              "    <div>            <script src=\"https://cdnjs.cloudflare.com/ajax/libs/mathjax/2.7.5/MathJax.js?config=TeX-AMS-MML_SVG\"></script><script type=\"text/javascript\">if (window.MathJax && window.MathJax.Hub && window.MathJax.Hub.Config) {window.MathJax.Hub.Config({SVG: {font: \"STIX-Web\"}});}</script>                <script type=\"text/javascript\">window.PlotlyConfig = {MathJaxConfig: 'local'};</script>\n",
              "        <script charset=\"utf-8\" src=\"https://cdn.plot.ly/plotly-2.35.2.min.js\"></script>                <div id=\"46fac627-1672-4024-83f3-f1688a82c9c8\" class=\"plotly-graph-div\" style=\"height:525px; width:100%;\"></div>            <script type=\"text/javascript\">                                    window.PLOTLYENV=window.PLOTLYENV || {};                                    if (document.getElementById(\"46fac627-1672-4024-83f3-f1688a82c9c8\")) {                    Plotly.newPlot(                        \"46fac627-1672-4024-83f3-f1688a82c9c8\",                        [{\"marker\":{\"color\":[0.03142918568673425,0.6364104112637804,0.3143559810763267,0.5085706911647028,0.907566473926093,0.24929222914887494,0.41038292303562973,0.7555511385430487,0.22879816549162246,0.07697990982879299,0.289751452913768,0.16122128725400442,0.9296976523425731,0.808120379564417,0.6334037565104235,0.8714605901877177,0.8036720768991145,0.18657005888603584,0.8925589984899778,0.5393422419156507,0.8074401551640625,0.8960912999234932,0.3180034749718639,0.11005192452767676,0.22793516254194168,0.4271077886262563,0.8180147659224931,0.8607305832563434,0.006952130531190703,0.5107473025775657,0.417411003148779,0.22210781047073025,0.1198653673336828,0.33761517140362796,0.9429097039125192,0.32320293202075523,0.5187906217433661,0.7030189588951778,0.363629602379294,0.9717820827209607,0.9624472949421112,0.25178229582536416,0.49724850589238545,0.30087830981676966,0.2848404943774676,0.036886947354532795,0.6095643339798968,0.5026790232288615,0.05147875124998935,0.27864646423661144],\"colorscale\":[[0.0,\"#440154\"],[0.1111111111111111,\"#482878\"],[0.2222222222222222,\"#3e4989\"],[0.3333333333333333,\"#31688e\"],[0.4444444444444444,\"#26828e\"],[0.5555555555555556,\"#1f9e89\"],[0.6666666666666666,\"#35b779\"],[0.7777777777777778,\"#6ece58\"],[0.8888888888888888,\"#b5de2b\"],[1.0,\"#fde725\"]],\"opacity\":0.8,\"size\":6},\"mode\":\"markers\",\"x\":[0.3745401188473625,0.9507143064099162,0.7319939418114051,0.5986584841970366,0.15601864044243652,0.15599452033620265,0.05808361216819946,0.8661761457749352,0.6011150117432088,0.7080725777960455,0.020584494295802447,0.9699098521619943,0.8324426408004217,0.21233911067827616,0.18182496720710062,0.18340450985343382,0.3042422429595377,0.5247564316322378,0.43194501864211576,0.2912291401980419,0.6118528947223795,0.13949386065204183,0.29214464853521815,0.3663618432936917,0.45606998421703593,0.7851759613930136,0.19967378215835974,0.5142344384136116,0.5924145688620425,0.046450412719997725,0.6075448519014384,0.17052412368729153,0.06505159298527952,0.9488855372533332,0.9656320330745594,0.8083973481164611,0.3046137691733707,0.09767211400638387,0.6842330265121569,0.4401524937396013,0.12203823484477883,0.4951769101112702,0.034388521115218396,0.9093204020787821,0.2587799816000169,0.662522284353982,0.31171107608941095,0.5200680211778108,0.5467102793432796,0.18485445552552704],\"y\":[0.9695846277645586,0.7751328233611146,0.9394989415641891,0.8948273504276488,0.5978999788110851,0.9218742350231168,0.0884925020519195,0.1959828624191452,0.045227288910538066,0.32533033076326434,0.388677289689482,0.2713490317738959,0.8287375091519293,0.3567533266935893,0.28093450968738076,0.5426960831582485,0.14092422497476265,0.8021969807540397,0.07455064367977082,0.9868869366005173,0.7722447692966574,0.1987156815341724,0.005522117123602399,0.8154614284548342,0.7068573438476171,0.7290071680409873,0.7712703466859457,0.07404465173409036,0.3584657285442726,0.11586905952512971,0.8631034258755935,0.6232981268275579,0.3308980248526492,0.06355835028602363,0.3109823217156622,0.32518332202674705,0.7296061783380641,0.6375574713552131,0.8872127425763265,0.4722149251619493,0.1195942459383017,0.713244787222995,0.7607850486168974,0.5612771975694962,0.770967179954561,0.49379559636439074,0.5227328293819941,0.42754101835854963,0.02541912674409519,0.10789142699330445],\"z\":[0.03142918568673425,0.6364104112637804,0.3143559810763267,0.5085706911647028,0.907566473926093,0.24929222914887494,0.41038292303562973,0.7555511385430487,0.22879816549162246,0.07697990982879299,0.289751452913768,0.16122128725400442,0.9296976523425731,0.808120379564417,0.6334037565104235,0.8714605901877177,0.8036720768991145,0.18657005888603584,0.8925589984899778,0.5393422419156507,0.8074401551640625,0.8960912999234932,0.3180034749718639,0.11005192452767676,0.22793516254194168,0.4271077886262563,0.8180147659224931,0.8607305832563434,0.006952130531190703,0.5107473025775657,0.417411003148779,0.22210781047073025,0.1198653673336828,0.33761517140362796,0.9429097039125192,0.32320293202075523,0.5187906217433661,0.7030189588951778,0.363629602379294,0.9717820827209607,0.9624472949421112,0.25178229582536416,0.49724850589238545,0.30087830981676966,0.2848404943774676,0.036886947354532795,0.6095643339798968,0.5026790232288615,0.05147875124998935,0.27864646423661144],\"type\":\"scatter3d\"}],                        {\"template\":{\"data\":{\"histogram2dcontour\":[{\"type\":\"histogram2dcontour\",\"colorbar\":{\"outlinewidth\":0,\"ticks\":\"\"},\"colorscale\":[[0.0,\"#0d0887\"],[0.1111111111111111,\"#46039f\"],[0.2222222222222222,\"#7201a8\"],[0.3333333333333333,\"#9c179e\"],[0.4444444444444444,\"#bd3786\"],[0.5555555555555556,\"#d8576b\"],[0.6666666666666666,\"#ed7953\"],[0.7777777777777778,\"#fb9f3a\"],[0.8888888888888888,\"#fdca26\"],[1.0,\"#f0f921\"]]}],\"choropleth\":[{\"type\":\"choropleth\",\"colorbar\":{\"outlinewidth\":0,\"ticks\":\"\"}}],\"histogram2d\":[{\"type\":\"histogram2d\",\"colorbar\":{\"outlinewidth\":0,\"ticks\":\"\"},\"colorscale\":[[0.0,\"#0d0887\"],[0.1111111111111111,\"#46039f\"],[0.2222222222222222,\"#7201a8\"],[0.3333333333333333,\"#9c179e\"],[0.4444444444444444,\"#bd3786\"],[0.5555555555555556,\"#d8576b\"],[0.6666666666666666,\"#ed7953\"],[0.7777777777777778,\"#fb9f3a\"],[0.8888888888888888,\"#fdca26\"],[1.0,\"#f0f921\"]]}],\"heatmap\":[{\"type\":\"heatmap\",\"colorbar\":{\"outlinewidth\":0,\"ticks\":\"\"},\"colorscale\":[[0.0,\"#0d0887\"],[0.1111111111111111,\"#46039f\"],[0.2222222222222222,\"#7201a8\"],[0.3333333333333333,\"#9c179e\"],[0.4444444444444444,\"#bd3786\"],[0.5555555555555556,\"#d8576b\"],[0.6666666666666666,\"#ed7953\"],[0.7777777777777778,\"#fb9f3a\"],[0.8888888888888888,\"#fdca26\"],[1.0,\"#f0f921\"]]}],\"heatmapgl\":[{\"type\":\"heatmapgl\",\"colorbar\":{\"outlinewidth\":0,\"ticks\":\"\"},\"colorscale\":[[0.0,\"#0d0887\"],[0.1111111111111111,\"#46039f\"],[0.2222222222222222,\"#7201a8\"],[0.3333333333333333,\"#9c179e\"],[0.4444444444444444,\"#bd3786\"],[0.5555555555555556,\"#d8576b\"],[0.6666666666666666,\"#ed7953\"],[0.7777777777777778,\"#fb9f3a\"],[0.8888888888888888,\"#fdca26\"],[1.0,\"#f0f921\"]]}],\"contourcarpet\":[{\"type\":\"contourcarpet\",\"colorbar\":{\"outlinewidth\":0,\"ticks\":\"\"}}],\"contour\":[{\"type\":\"contour\",\"colorbar\":{\"outlinewidth\":0,\"ticks\":\"\"},\"colorscale\":[[0.0,\"#0d0887\"],[0.1111111111111111,\"#46039f\"],[0.2222222222222222,\"#7201a8\"],[0.3333333333333333,\"#9c179e\"],[0.4444444444444444,\"#bd3786\"],[0.5555555555555556,\"#d8576b\"],[0.6666666666666666,\"#ed7953\"],[0.7777777777777778,\"#fb9f3a\"],[0.8888888888888888,\"#fdca26\"],[1.0,\"#f0f921\"]]}],\"surface\":[{\"type\":\"surface\",\"colorbar\":{\"outlinewidth\":0,\"ticks\":\"\"},\"colorscale\":[[0.0,\"#0d0887\"],[0.1111111111111111,\"#46039f\"],[0.2222222222222222,\"#7201a8\"],[0.3333333333333333,\"#9c179e\"],[0.4444444444444444,\"#bd3786\"],[0.5555555555555556,\"#d8576b\"],[0.6666666666666666,\"#ed7953\"],[0.7777777777777778,\"#fb9f3a\"],[0.8888888888888888,\"#fdca26\"],[1.0,\"#f0f921\"]]}],\"mesh3d\":[{\"type\":\"mesh3d\",\"colorbar\":{\"outlinewidth\":0,\"ticks\":\"\"}}],\"scatter\":[{\"fillpattern\":{\"fillmode\":\"overlay\",\"size\":10,\"solidity\":0.2},\"type\":\"scatter\"}],\"parcoords\":[{\"type\":\"parcoords\",\"line\":{\"colorbar\":{\"outlinewidth\":0,\"ticks\":\"\"}}}],\"scatterpolargl\":[{\"type\":\"scatterpolargl\",\"marker\":{\"colorbar\":{\"outlinewidth\":0,\"ticks\":\"\"}}}],\"bar\":[{\"error_x\":{\"color\":\"#2a3f5f\"},\"error_y\":{\"color\":\"#2a3f5f\"},\"marker\":{\"line\":{\"color\":\"#E5ECF6\",\"width\":0.5},\"pattern\":{\"fillmode\":\"overlay\",\"size\":10,\"solidity\":0.2}},\"type\":\"bar\"}],\"scattergeo\":[{\"type\":\"scattergeo\",\"marker\":{\"colorbar\":{\"outlinewidth\":0,\"ticks\":\"\"}}}],\"scatterpolar\":[{\"type\":\"scatterpolar\",\"marker\":{\"colorbar\":{\"outlinewidth\":0,\"ticks\":\"\"}}}],\"histogram\":[{\"marker\":{\"pattern\":{\"fillmode\":\"overlay\",\"size\":10,\"solidity\":0.2}},\"type\":\"histogram\"}],\"scattergl\":[{\"type\":\"scattergl\",\"marker\":{\"colorbar\":{\"outlinewidth\":0,\"ticks\":\"\"}}}],\"scatter3d\":[{\"type\":\"scatter3d\",\"line\":{\"colorbar\":{\"outlinewidth\":0,\"ticks\":\"\"}},\"marker\":{\"colorbar\":{\"outlinewidth\":0,\"ticks\":\"\"}}}],\"scattermapbox\":[{\"type\":\"scattermapbox\",\"marker\":{\"colorbar\":{\"outlinewidth\":0,\"ticks\":\"\"}}}],\"scatterternary\":[{\"type\":\"scatterternary\",\"marker\":{\"colorbar\":{\"outlinewidth\":0,\"ticks\":\"\"}}}],\"scattercarpet\":[{\"type\":\"scattercarpet\",\"marker\":{\"colorbar\":{\"outlinewidth\":0,\"ticks\":\"\"}}}],\"carpet\":[{\"aaxis\":{\"endlinecolor\":\"#2a3f5f\",\"gridcolor\":\"white\",\"linecolor\":\"white\",\"minorgridcolor\":\"white\",\"startlinecolor\":\"#2a3f5f\"},\"baxis\":{\"endlinecolor\":\"#2a3f5f\",\"gridcolor\":\"white\",\"linecolor\":\"white\",\"minorgridcolor\":\"white\",\"startlinecolor\":\"#2a3f5f\"},\"type\":\"carpet\"}],\"table\":[{\"cells\":{\"fill\":{\"color\":\"#EBF0F8\"},\"line\":{\"color\":\"white\"}},\"header\":{\"fill\":{\"color\":\"#C8D4E3\"},\"line\":{\"color\":\"white\"}},\"type\":\"table\"}],\"barpolar\":[{\"marker\":{\"line\":{\"color\":\"#E5ECF6\",\"width\":0.5},\"pattern\":{\"fillmode\":\"overlay\",\"size\":10,\"solidity\":0.2}},\"type\":\"barpolar\"}],\"pie\":[{\"automargin\":true,\"type\":\"pie\"}]},\"layout\":{\"autotypenumbers\":\"strict\",\"colorway\":[\"#636efa\",\"#EF553B\",\"#00cc96\",\"#ab63fa\",\"#FFA15A\",\"#19d3f3\",\"#FF6692\",\"#B6E880\",\"#FF97FF\",\"#FECB52\"],\"font\":{\"color\":\"#2a3f5f\"},\"hovermode\":\"closest\",\"hoverlabel\":{\"align\":\"left\"},\"paper_bgcolor\":\"white\",\"plot_bgcolor\":\"#E5ECF6\",\"polar\":{\"bgcolor\":\"#E5ECF6\",\"angularaxis\":{\"gridcolor\":\"white\",\"linecolor\":\"white\",\"ticks\":\"\"},\"radialaxis\":{\"gridcolor\":\"white\",\"linecolor\":\"white\",\"ticks\":\"\"}},\"ternary\":{\"bgcolor\":\"#E5ECF6\",\"aaxis\":{\"gridcolor\":\"white\",\"linecolor\":\"white\",\"ticks\":\"\"},\"baxis\":{\"gridcolor\":\"white\",\"linecolor\":\"white\",\"ticks\":\"\"},\"caxis\":{\"gridcolor\":\"white\",\"linecolor\":\"white\",\"ticks\":\"\"}},\"coloraxis\":{\"colorbar\":{\"outlinewidth\":0,\"ticks\":\"\"}},\"colorscale\":{\"sequential\":[[0.0,\"#0d0887\"],[0.1111111111111111,\"#46039f\"],[0.2222222222222222,\"#7201a8\"],[0.3333333333333333,\"#9c179e\"],[0.4444444444444444,\"#bd3786\"],[0.5555555555555556,\"#d8576b\"],[0.6666666666666666,\"#ed7953\"],[0.7777777777777778,\"#fb9f3a\"],[0.8888888888888888,\"#fdca26\"],[1.0,\"#f0f921\"]],\"sequentialminus\":[[0.0,\"#0d0887\"],[0.1111111111111111,\"#46039f\"],[0.2222222222222222,\"#7201a8\"],[0.3333333333333333,\"#9c179e\"],[0.4444444444444444,\"#bd3786\"],[0.5555555555555556,\"#d8576b\"],[0.6666666666666666,\"#ed7953\"],[0.7777777777777778,\"#fb9f3a\"],[0.8888888888888888,\"#fdca26\"],[1.0,\"#f0f921\"]],\"diverging\":[[0,\"#8e0152\"],[0.1,\"#c51b7d\"],[0.2,\"#de77ae\"],[0.3,\"#f1b6da\"],[0.4,\"#fde0ef\"],[0.5,\"#f7f7f7\"],[0.6,\"#e6f5d0\"],[0.7,\"#b8e186\"],[0.8,\"#7fbc41\"],[0.9,\"#4d9221\"],[1,\"#276419\"]]},\"xaxis\":{\"gridcolor\":\"white\",\"linecolor\":\"white\",\"ticks\":\"\",\"title\":{\"standoff\":15},\"zerolinecolor\":\"white\",\"automargin\":true,\"zerolinewidth\":2},\"yaxis\":{\"gridcolor\":\"white\",\"linecolor\":\"white\",\"ticks\":\"\",\"title\":{\"standoff\":15},\"zerolinecolor\":\"white\",\"automargin\":true,\"zerolinewidth\":2},\"scene\":{\"xaxis\":{\"backgroundcolor\":\"#E5ECF6\",\"gridcolor\":\"white\",\"linecolor\":\"white\",\"showbackground\":true,\"ticks\":\"\",\"zerolinecolor\":\"white\",\"gridwidth\":2},\"yaxis\":{\"backgroundcolor\":\"#E5ECF6\",\"gridcolor\":\"white\",\"linecolor\":\"white\",\"showbackground\":true,\"ticks\":\"\",\"zerolinecolor\":\"white\",\"gridwidth\":2},\"zaxis\":{\"backgroundcolor\":\"#E5ECF6\",\"gridcolor\":\"white\",\"linecolor\":\"white\",\"showbackground\":true,\"ticks\":\"\",\"zerolinecolor\":\"white\",\"gridwidth\":2}},\"shapedefaults\":{\"line\":{\"color\":\"#2a3f5f\"}},\"annotationdefaults\":{\"arrowcolor\":\"#2a3f5f\",\"arrowhead\":0,\"arrowwidth\":1},\"geo\":{\"bgcolor\":\"white\",\"landcolor\":\"#E5ECF6\",\"subunitcolor\":\"white\",\"showland\":true,\"showlakes\":true,\"lakecolor\":\"white\"},\"title\":{\"x\":0.05},\"mapbox\":{\"style\":\"light\"}}},\"margin\":{\"l\":0,\"r\":0,\"b\":0,\"t\":40},\"title\":{\"text\":\"3D Scatter Plot Example\"},\"scene\":{\"xaxis\":{\"title\":{\"text\":\"X Axis\"}},\"yaxis\":{\"title\":{\"text\":\"Y Axis\"}},\"zaxis\":{\"title\":{\"text\":\"Z Axis\"}}}},                        {\"responsive\": true}                    ).then(function(){\n",
              "                            \n",
              "var gd = document.getElementById('46fac627-1672-4024-83f3-f1688a82c9c8');\n",
              "var x = new MutationObserver(function (mutations, observer) {{\n",
              "        var display = window.getComputedStyle(gd).display;\n",
              "        if (!display || display === 'none') {{\n",
              "            console.log([gd, 'removed!']);\n",
              "            Plotly.purge(gd);\n",
              "            observer.disconnect();\n",
              "        }}\n",
              "}});\n",
              "\n",
              "// Listen for the removal of the full notebook cells\n",
              "var notebookContainer = gd.closest('#notebook-container');\n",
              "if (notebookContainer) {{\n",
              "    x.observe(notebookContainer, {childList: true});\n",
              "}}\n",
              "\n",
              "// Listen for the clearing of the current output cell\n",
              "var outputEl = gd.closest('.output');\n",
              "if (outputEl) {{\n",
              "    x.observe(outputEl, {childList: true});\n",
              "}}\n",
              "\n",
              "                        })                };                            </script>        </div>\n",
              "</body>\n",
              "</html>"
            ]
          },
          "metadata": {}
        }
      ]
    }
  ]
}