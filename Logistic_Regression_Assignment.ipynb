{
  "nbformat": 4,
  "nbformat_minor": 0,
  "metadata": {
    "colab": {
      "provenance": []
    },
    "kernelspec": {
      "name": "python3",
      "display_name": "Python 3"
    },
    "language_info": {
      "name": "python"
    }
  },
  "cells": [
    {
      "cell_type": "markdown",
      "source": [
        "Q1: What is Logistic Regression, and how does it differ from Linear Regression?\n",
        "\n",
        "Answer:\n",
        "\n",
        "Logistic Regression is a supervised machine learning algorithm used for classification problems, where the target variable is categorical (e.g., Yes/No, 0/1).\n",
        "\n",
        "Instead of predicting a continuous value like Linear Regression, Logistic Regression predicts the probability that an instance belongs to a certain class.\n",
        "\n",
        "It uses the sigmoid (logistic) function to map linear combinations of features to probabilities between 0 and 1.\n",
        "\n",
        "Key differences:\n",
        "\n",
        "Linear Regression: Used for regression tasks (continuous outputs). Output = any real number.\n",
        "\n",
        "Logistic Regression: Used for classification tasks (categorical outputs). Output = probability (0–1).\n",
        "\n",
        "Q2: Explain the role of the Sigmoid function in Logistic Regression.\n",
        "\n",
        "Answer:\n",
        "\n",
        "The sigmoid function converts the linear regression output into a probability between 0 and 1.\n",
        "\n",
        "Formula:\n",
        "σ(z)=\n",
        "1/(1+e\n",
        "−z\n",
        ")\n",
        "\t​\n",
        "\n",
        "\n",
        "If probability > 0.5 → class 1, otherwise class 0.\n",
        "\n",
        "It ensures predictions are interpretable as probabilities.\n",
        "\n",
        "Q3: What is Regularization in Logistic Regression and why is it needed?\n",
        "\n",
        "Answer:\n",
        "\n",
        "Regularization is a technique used to prevent overfitting by penalizing large coefficients in the model.\n",
        "\n",
        "Two common types:\n",
        "\n",
        "L1 (Lasso): Shrinks some coefficients to zero (feature selection).\n",
        "\n",
        "L2 (Ridge): Shrinks coefficients smoothly but keeps all features.\n",
        "\n",
        "Needed because logistic regression can overfit when too many features exist or when features are highly correlated.\n",
        "\n",
        "Q4:  What are some common evaluation metrics for classification models, and\n",
        "why are they important?\n",
        "\n",
        "Answer:\n",
        "\n",
        "Accuracy: Ratio of correctly predicted observations to total observations.\n",
        "\n",
        "Precision: Out of predicted positives, how many are truly positive.\n",
        "\n",
        "Recall (Sensitivity): Out of actual positives, how many were predicted correctly.\n",
        "\n",
        "F1-Score: Harmonic mean of precision and recall, useful for imbalanced datasets.\n",
        "\n",
        "ROC-AUC: Measures model’s ability to distinguish between classes across thresholds.\n",
        "\n",
        "These metrics are important because accuracy alone can be misleading, especially in imbalanced datasets."
      ],
      "metadata": {
        "id": "lAuhNi7t4tcr"
      }
    },
    {
      "cell_type": "markdown",
      "source": [
        "Q5: Write a Python program that loads a CSV file into a Pandas DataFrame,\n",
        "splits into train/test sets, trains a Logistic Regression model, and prints its accuracy.\n",
        "(Use Dataset from sklearn package)\n",
        "\n",
        "Answer:"
      ],
      "metadata": {
        "id": "YUuFVfiG6Dd7"
      }
    },
    {
      "cell_type": "code",
      "source": [
        "import numpy as np\n",
        "import pandas as pd\n",
        "\n",
        "from sklearn.model_selection import train_test_split\n",
        "from sklearn.linear_model import LogisticRegression\n",
        "from sklearn.metrics import accuracy_score\n",
        "\n",
        "import warnings\n",
        "warnings.filterwarnings('ignore')\n",
        "\n",
        "#dataset\n",
        "from sklearn.datasets import load_breast_cancer\n",
        "data = load_breast_cancer()\n",
        "# dataframe formation\n",
        "df = pd.DataFrame(data = data.data,columns=data.feature_names)\n",
        "df['target']= data.target"
      ],
      "metadata": {
        "id": "A1-Jfz3i5L7P"
      },
      "execution_count": 21,
      "outputs": []
    },
    {
      "cell_type": "code",
      "source": [
        "#split dataset\n",
        "X = df.drop('target',axis = 1)\n",
        "y=df['target']\n",
        "\n",
        "#train and test\n",
        "X_train,X_test,y_train,y_test = train_test_split(X,y,test_size=.20,random_state=42)\n",
        "# training of logistic regression model\n",
        "log_reg_model = LogisticRegression()\n",
        "log_reg_model.fit(X_train,y_train)\n",
        "\n",
        "y_pred = log_reg_model.predict(X_test)\n",
        "\n",
        "print(f'The accuracy of the model is : {accuracy_score(y_test,y_pred)}')"
      ],
      "metadata": {
        "colab": {
          "base_uri": "https://localhost:8080/"
        },
        "id": "ZoaDveO-9Tu2",
        "outputId": "ef02ff70-fb79-4240-cfb6-cf30b04e6d14"
      },
      "execution_count": 22,
      "outputs": [
        {
          "output_type": "stream",
          "name": "stdout",
          "text": [
            "The accuracy of the model is : 0.956140350877193\n"
          ]
        }
      ]
    },
    {
      "cell_type": "markdown",
      "source": [
        "Question 6:  Write a Python program to train a Logistic Regression model using L2\n",
        "regularization (Ridge) and print the model coefficients and accuracy.\n",
        "(Use Dataset from sklearn package)\n",
        "\n",
        "Answer:"
      ],
      "metadata": {
        "id": "76Wo_YcrDRW5"
      }
    },
    {
      "cell_type": "code",
      "source": [
        "import numpy as np\n",
        "import pandas as pd\n",
        "\n",
        "from sklearn.model_selection import train_test_split\n",
        "from sklearn.linear_model import LogisticRegression\n",
        "from sklearn.metrics import accuracy_score\n",
        "\n",
        "import warnings\n",
        "warnings.filterwarnings('ignore')\n",
        "\n",
        "#dataset\n",
        "from sklearn.datasets import load_breast_cancer\n",
        "data = load_breast_cancer()\n",
        "# dataframe formation\n",
        "df = pd.DataFrame(data = data.data,columns=data.feature_names)\n",
        "df['target']= data.target\n",
        "# split data\n",
        "X =df.drop('target',axis = 1)\n",
        "y= df.target\n",
        "X_train,X_test,y_train,y_test = train_test_split(X,y,test_size =.20,random_state = 42)\n",
        "#model train\n",
        "model = LogisticRegression(penalty='l2', C=1.0, solver='lbfgs', max_iter=5000)\n",
        "model.fit(X_train, y_train)\n",
        "\n",
        "print(\"Model Coefficients:\", model.coef_)\n",
        "print(\"\\nAccuracy:\", model.score(X_test, y_test))\n"
      ],
      "metadata": {
        "id": "qL_BQYmB_T2J",
        "colab": {
          "base_uri": "https://localhost:8080/"
        },
        "outputId": "d0f3b6f4-7472-458d-e140-f159f9d514fd"
      },
      "execution_count": 23,
      "outputs": [
        {
          "output_type": "stream",
          "name": "stdout",
          "text": [
            "Model Coefficients: [[ 1.0274368   0.22145051 -0.36213488  0.0254667  -0.15623532 -0.23771256\n",
            "  -0.53255786 -0.28369224 -0.22668189 -0.03649446 -0.09710208  1.3705667\n",
            "  -0.18140942 -0.08719575 -0.02245523  0.04736092 -0.04294784 -0.03240188\n",
            "  -0.03473732  0.01160522  0.11165329 -0.50887722 -0.01555395 -0.016857\n",
            "  -0.30773117 -0.77270908 -1.42859535 -0.51092923 -0.74689363 -0.10094404]]\n",
            "\n",
            "Accuracy: 0.956140350877193\n"
          ]
        }
      ]
    },
    {
      "cell_type": "markdown",
      "source": [
        "Question 7: Write a Python program to train a Logistic Regression model for multiclass\n",
        "classification using multi_class='ovr' and print the classification report.\n",
        "(Use Dataset from sklearn package)\n",
        "\n",
        "Answer:"
      ],
      "metadata": {
        "id": "tQWYy2gytY6k"
      }
    },
    {
      "cell_type": "code",
      "source": [
        "from sklearn.datasets import load_iris\n",
        "from sklearn.metrics import classification_report\n",
        "\n",
        "# Load dataset\n",
        "iris = load_iris()\n",
        "X, y = iris.data, iris.target\n",
        "\n",
        "# Train-test split\n",
        "X_train, X_test, y_train, y_test = train_test_split(X, y, test_size=0.3, random_state=42)\n",
        "\n",
        "# OVR Logistic Regression\n",
        "model = LogisticRegression(multi_class='ovr', max_iter=5000)\n",
        "model.fit(X_train, y_train)\n",
        "\n",
        "# Predictions\n",
        "y_pred = model.predict(X_test)\n",
        "\n",
        "print(f'The classification report is : \\n {classification_report(y_test, y_pred)}')\n"
      ],
      "metadata": {
        "colab": {
          "base_uri": "https://localhost:8080/"
        },
        "id": "fjwoyt9tqgZE",
        "outputId": "63541de9-7422-4382-ae55-3a8f08b64ccc"
      },
      "execution_count": 24,
      "outputs": [
        {
          "output_type": "stream",
          "name": "stdout",
          "text": [
            "The classification report is : \n",
            "               precision    recall  f1-score   support\n",
            "\n",
            "           0       1.00      1.00      1.00        19\n",
            "           1       1.00      0.85      0.92        13\n",
            "           2       0.87      1.00      0.93        13\n",
            "\n",
            "    accuracy                           0.96        45\n",
            "   macro avg       0.96      0.95      0.95        45\n",
            "weighted avg       0.96      0.96      0.96        45\n",
            "\n"
          ]
        }
      ]
    },
    {
      "cell_type": "markdown",
      "source": [
        "Question 8: Write a Python program to apply GridSearchCV to tune C and penalty\n",
        "hyperparameters for Logistic Regression and print the best parameters and validation\n",
        "accuracy.\n",
        "(Use Dataset from sklearn package)\n",
        "\n",
        "Answer:"
      ],
      "metadata": {
        "id": "Dj6xxy56uPZT"
      }
    },
    {
      "cell_type": "code",
      "source": [
        "from sklearn.model_selection import GridSearchCV\n",
        "\n",
        "params= {\n",
        "    'C': [0.01, 0.1, 1, 10],\n",
        "    'penalty': ['l1', 'l2']\n",
        "}\n",
        "log_reg = LogisticRegression(max_iter = 1000)\n",
        "grid = GridSearchCV(estimator = log_reg, param_grid=params, cv=5,verbose =2, scoring='accuracy')\n",
        "grid.fit(X_train, y_train)\n",
        "\n",
        "print(\"Best Parameters:\", grid.best_params_)\n",
        "print(\"Best CV Accuracy:\", grid.best_score_)\n"
      ],
      "metadata": {
        "colab": {
          "base_uri": "https://localhost:8080/"
        },
        "id": "VhUThqzgqgXF",
        "outputId": "94ae3aa1-1964-4033-f5c1-825c7a737f25"
      },
      "execution_count": 25,
      "outputs": [
        {
          "output_type": "stream",
          "name": "stdout",
          "text": [
            "Fitting 5 folds for each of 8 candidates, totalling 40 fits\n",
            "[CV] END .................................C=0.01, penalty=l1; total time=   0.0s\n",
            "[CV] END .................................C=0.01, penalty=l1; total time=   0.0s\n",
            "[CV] END .................................C=0.01, penalty=l1; total time=   0.0s\n",
            "[CV] END .................................C=0.01, penalty=l1; total time=   0.0s\n",
            "[CV] END .................................C=0.01, penalty=l1; total time=   0.0s\n",
            "[CV] END .................................C=0.01, penalty=l2; total time=   0.0s\n",
            "[CV] END .................................C=0.01, penalty=l2; total time=   0.0s\n",
            "[CV] END .................................C=0.01, penalty=l2; total time=   0.0s\n",
            "[CV] END .................................C=0.01, penalty=l2; total time=   0.0s\n",
            "[CV] END .................................C=0.01, penalty=l2; total time=   0.0s\n",
            "[CV] END ..................................C=0.1, penalty=l1; total time=   0.0s\n",
            "[CV] END ..................................C=0.1, penalty=l1; total time=   0.0s\n",
            "[CV] END ..................................C=0.1, penalty=l1; total time=   0.0s\n",
            "[CV] END ..................................C=0.1, penalty=l1; total time=   0.0s\n",
            "[CV] END ..................................C=0.1, penalty=l1; total time=   0.0s\n",
            "[CV] END ..................................C=0.1, penalty=l2; total time=   0.0s\n",
            "[CV] END ..................................C=0.1, penalty=l2; total time=   0.0s\n",
            "[CV] END ..................................C=0.1, penalty=l2; total time=   0.1s\n",
            "[CV] END ..................................C=0.1, penalty=l2; total time=   0.0s\n",
            "[CV] END ..................................C=0.1, penalty=l2; total time=   0.0s\n",
            "[CV] END ....................................C=1, penalty=l1; total time=   0.0s\n",
            "[CV] END ....................................C=1, penalty=l1; total time=   0.0s\n",
            "[CV] END ....................................C=1, penalty=l1; total time=   0.0s\n",
            "[CV] END ....................................C=1, penalty=l1; total time=   0.0s\n",
            "[CV] END ....................................C=1, penalty=l1; total time=   0.0s\n",
            "[CV] END ....................................C=1, penalty=l2; total time=   0.0s\n",
            "[CV] END ....................................C=1, penalty=l2; total time=   0.1s\n",
            "[CV] END ....................................C=1, penalty=l2; total time=   0.0s\n",
            "[CV] END ....................................C=1, penalty=l2; total time=   0.1s\n",
            "[CV] END ....................................C=1, penalty=l2; total time=   0.0s\n",
            "[CV] END ...................................C=10, penalty=l1; total time=   0.0s\n",
            "[CV] END ...................................C=10, penalty=l1; total time=   0.0s\n",
            "[CV] END ...................................C=10, penalty=l1; total time=   0.0s\n",
            "[CV] END ...................................C=10, penalty=l1; total time=   0.0s\n",
            "[CV] END ...................................C=10, penalty=l1; total time=   0.0s\n",
            "[CV] END ...................................C=10, penalty=l2; total time=   0.1s\n",
            "[CV] END ...................................C=10, penalty=l2; total time=   0.1s\n",
            "[CV] END ...................................C=10, penalty=l2; total time=   0.7s\n",
            "[CV] END ...................................C=10, penalty=l2; total time=   0.1s\n",
            "[CV] END ...................................C=10, penalty=l2; total time=   0.1s\n",
            "Best Parameters: {'C': 1, 'penalty': 'l2'}\n",
            "Best CV Accuracy: 0.9619047619047618\n"
          ]
        }
      ]
    },
    {
      "cell_type": "markdown",
      "source": [
        "Question 9: Write a Python program to standardize the features before training Logistic\n",
        "Regression and compare the model's accuracy with and without scaling.\n",
        "(Use Dataset from sklearn package)\n",
        "\n",
        "Answer:"
      ],
      "metadata": {
        "id": "IWaa6Lozv89k"
      }
    },
    {
      "cell_type": "code",
      "source": [
        "from sklearn.datasets import load_iris\n",
        "from sklearn.metrics import classification_report\n",
        "\n",
        "# Load dataset\n",
        "iris = load_iris()\n",
        "X, y = iris.data, iris.target\n",
        "\n",
        "# Train-test split\n",
        "X_train, X_test, y_train, y_test = train_test_split(X, y, test_size=0.3, random_state=42)\n",
        "\n",
        "from sklearn.preprocessing import StandardScaler\n",
        "\n",
        "# Without scaling\n",
        "model = LogisticRegression(max_iter=5000)\n",
        "model.fit(X_train, y_train)\n",
        "print(\"Accuracy without scaling:\", model.score(X_test, y_test))\n",
        "\n",
        "# With scaling\n",
        "scaler = StandardScaler()\n",
        "X_train_scaled = scaler.fit_transform(X_train)\n",
        "X_test_scaled = scaler.transform(X_test)\n",
        "\n",
        "model_scaled = LogisticRegression(max_iter=5000)\n",
        "model_scaled.fit(X_train_scaled, y_train)\n",
        "print(\"Accuracy with scaling:\", model_scaled.score(X_test_scaled, y_test))\n"
      ],
      "metadata": {
        "colab": {
          "base_uri": "https://localhost:8080/"
        },
        "id": "Bty1oXUnqgTO",
        "outputId": "40980f78-3230-4d38-9e04-64d0277d6526"
      },
      "execution_count": 26,
      "outputs": [
        {
          "output_type": "stream",
          "name": "stdout",
          "text": [
            "Accuracy without scaling: 1.0\n",
            "Accuracy with scaling: 1.0\n"
          ]
        }
      ]
    },
    {
      "cell_type": "code",
      "source": [
        "X_train.shape"
      ],
      "metadata": {
        "colab": {
          "base_uri": "https://localhost:8080/"
        },
        "id": "tEKwX-xU0KIL",
        "outputId": "a65cfb4e-51bd-4b4c-9eae-83fefd6465ab"
      },
      "execution_count": 27,
      "outputs": [
        {
          "output_type": "execute_result",
          "data": {
            "text/plain": [
              "(105, 4)"
            ]
          },
          "metadata": {},
          "execution_count": 27
        }
      ]
    },
    {
      "cell_type": "markdown",
      "source": [
        "Question 10: Imagine you are working at an e-commerce company that wants to\n",
        "predict which customers will respond to a marketing campaign. Given an imbalanced\n",
        "dataset (only 5% of customers respond), describe the approach you’d take to build a\n",
        "Logistic Regression model — including data handling, feature scaling, balancing\n",
        "classes, hyperparameter tuning, and evaluating the model for this real-world business\n",
        "use case.\n",
        "\n",
        "Answer:\n",
        "\n",
        "Steps to handle imbalanced logistic regression problem:\n",
        "1. Data handling: Clean missing values, encode categorical variables.\n",
        "\n",
        "2. Feature scaling: Standardize/normalize features.\n",
        "\n",
        "3. Balancing classes: Use techniques like SMOTE (oversampling) or class weights in Logistic Regression (class_weight='balanced').\n",
        "\n",
        "4. Hyperparameter tuning: Use GridSearchCV to tune C, penalty, solver.\n",
        "\n",
        "5. Evaluation metrics: Use Precision, Recall, F1-score, ROC-AUC instead of only accuracy (important due to imbalance).\n",
        "\n",
        "6. Business perspective: Prioritize recall (catching responders), because missing a potential customer is more costly than wrongly targeting a non-responder."
      ],
      "metadata": {
        "id": "WLSR7yEOwoSt"
      }
    }
  ]
}