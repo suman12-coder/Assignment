{
  "nbformat": 4,
  "nbformat_minor": 0,
  "metadata": {
    "colab": {
      "provenance": []
    },
    "kernelspec": {
      "name": "python3",
      "display_name": "Python 3"
    },
    "language_info": {
      "name": "python"
    }
  },
  "cells": [
    {
      "cell_type": "markdown",
      "source": [
        "# Statistics- Advance"
      ],
      "metadata": {
        "id": "kJ8EyMlu00IA"
      }
    },
    {
      "cell_type": "markdown",
      "source": [
        "Question 1: What is a random variable in probability theory?\n",
        "\n",
        "Answer: A random variable is set of possible value of a random experiment. In probability theory, it's used to quantify outcomes and assign probabilities to events. It allows us to model real-world randomness using mathematical functions and distributions.\n"
      ],
      "metadata": {
        "id": "dS3KlWhm1kxX"
      }
    },
    {
      "cell_type": "markdown",
      "source": [
        "Question 2: What are the types of random variables?\n",
        "\n",
        "Answer:\n",
        "There are two main types of random variables:\n",
        "\n",
        "Discrete Random Variables:\n",
        "These take on a countable number of distinct values. For example, the number of customer complaints in a day (0, 1, 2, etc.). Discrete variables are often used when the outcomes are whole numbers.\n",
        "\n",
        "Continuous Random Variables:\n",
        "These can take any value within a given range, including decimals. For example, the time a user spends on a website (like 2.5 minutes or 3.87 minutes). Continuous variables are used when measurements are involved."
      ],
      "metadata": {
        "id": "yCiwU2e-1ktu"
      }
    },
    {
      "cell_type": "markdown",
      "source": [
        "Question 3: Explain the difference between discrete and continuous distributions.\n",
        "\n",
        "Answer:  The key difference lies in the type of values the random variable can take:\n",
        "\n",
        "Discrete Distributions: These describe the probability of outcomes that are countable and often finite. For example, the number of clicks on a website in a day.\n",
        "\n",
        " Examples: Binomial, Poisson, Geometric distributions.\n",
        "\n",
        "Continuous Distributions: These are used when the variable can take on any value within a range, including decimals.\n",
        "\n",
        " Examples: Normal, Exponential, Uniform (continuous) distributions."
      ],
      "metadata": {
        "id": "wP8hDVju1krB"
      }
    },
    {
      "cell_type": "markdown",
      "source": [
        "Question 4: What is a binomial distribution, and how is it used in probability?\n",
        "\n",
        "Answer:\n",
        "\n",
        "The binomial distribution is a discrete probability distribution used when an experiment has:\n",
        "\n",
        "- A fixed number of independent trials (n)\n",
        "\n",
        "- Each trial has two possible outcomes: success or failure\n",
        "\n",
        "- The probability of success (p) stays the same for each trial\n",
        "\n",
        "It tells us the probability of getting exactly k successes in n trials.\n",
        "\n"
      ],
      "metadata": {
        "id": "kyMdR9s01koG"
      }
    },
    {
      "cell_type": "markdown",
      "source": [
        "Question 5: What is the standard normal distribution, and why is it important?\n",
        "\n",
        "Answer:\n",
        "\n",
        "The **standard normal distribution** is a special case of the normal distribution with:\n",
        "* Mean (μ) = 0\n",
        "* Standard deviation (σ) = 1\n",
        "\n",
        "It is a **symmetric, bell-shaped curve** centered at zero and follows the same properties as a normal distribution.\n",
        "\n",
        " **Why is it important?**\n",
        "\n",
        "* It allows us to **standardize data** from any normal distribution using **z-scores**, which makes comparison easier.\n",
        "* It's widely used in **hypothesis testing**, **confidence intervals**, and **machine learning algorithms**.\n",
        "* Many statistical tables and functions (like p-values) are based on the standard normal.\n",
        "\n",
        "\n"
      ],
      "metadata": {
        "id": "Vg9UP-eJ1ke1"
      }
    },
    {
      "cell_type": "markdown",
      "source": [
        "Question 6: What is the Central Limit Theorem (CLT), and why is it critical in statistics?\n",
        "\n",
        "Answer:\n",
        "The Central Limit Theorem (CLT) says that when we take many random samples from any population, the distribution of the sample means will become approximately normal, even if the original data is not normal — as long as the sample size is large.\n",
        "\n",
        "\n",
        " Why it’s important:\n",
        "- \tAllows us to use normal distribution tools like Z-tests\n",
        "- Makes it possible to do statistical inference\n",
        "- \tIt's the foundation of hypothesis testing and confidence intervals\n"
      ],
      "metadata": {
        "id": "bfl0Vtng9Jw7"
      }
    },
    {
      "cell_type": "markdown",
      "source": [
        "Question 7: What is the significance of confidence intervals in statistical analysis?\n",
        "\n",
        "Answer: A confidence interval gives a range of values that is likely to contain the true population parameter (like a mean or proportion) with a certain level of confidence—commonly 95%.\n",
        "\n",
        "**significance of Confidence Intervals**\n",
        "\n",
        "- It provides more information than just a single estimate (like a mean), by showing the uncertainty around that estimate.\n",
        "- It helps in decision-making under uncertainty—especially in A/B testing, surveys, or when working with sample data.\n",
        "- Wider intervals suggest more variability or less data, while narrower intervals suggest more precision."
      ],
      "metadata": {
        "id": "4n7fWhps9JmP"
      }
    },
    {
      "cell_type": "markdown",
      "source": [
        "Question 8: What is the concept of expected value in a probability distribution?\n",
        "\n",
        "Answer:  \n",
        "The expected value (also called the mean) of a random variable is the average outcome we expect over a large number of trials. It gives a measure of the central tendency of a probability distribution.\n",
        "\n",
        "Why it matters:\n",
        "Expected value is widely used in data analysis, risk assessment, and decision-making to understand what outcome to anticipate on average.\n",
        "\n"
      ],
      "metadata": {
        "id": "yboj78wn9JaE"
      }
    },
    {
      "cell_type": "markdown",
      "source": [
        "Question 9: Write a Python program to generate 1000 random numbers from a normal\n",
        "distribution with mean = 50 and standard deviation = 5. Compute its mean and standard\n",
        "deviation using NumPy, and draw a histogram to visualize the distribution.\n",
        "\n",
        "Answer:"
      ],
      "metadata": {
        "id": "3hFKBp1L9JPD"
      }
    },
    {
      "cell_type": "code",
      "source": [
        "import numpy as np\n",
        "import matplotlib.pyplot as plt\n",
        "# parameters\n",
        "mean = 50\n",
        "std_dev = 5\n",
        "num = 1000\n",
        "# generate random numbers from normal distribution\n",
        "data = np.random.normal(loc = mean, scale=std_dev,size = num)\n",
        "#compute mean and standard deviation\n",
        "comp_mean = np.mean(data)\n",
        "comp_std = np.std(data)\n",
        "# display\n",
        "print(f'The mean of the data is:{comp_mean:.2f}')\n",
        "print(f\"The standard deviation is : {comp_std:.2f}\")\n",
        "# plot a histogram\n",
        "plt.figure()\n",
        "plt.hist(data,color='seagreen',edgecolor= 'black')\n",
        "plt.title('Histogram of normally distributed data')\n",
        "plt.xlabel('values')\n",
        "plt.ylabel('frequency')\n",
        "plt.tight_layout()\n",
        "plt.show()\n"
      ],
      "metadata": {
        "colab": {
          "base_uri": "https://localhost:8080/",
          "height": 522
        },
        "id": "XiP9S3mxNNRV",
        "outputId": "44229050-eab4-4576-abb0-d1a50dbdb83a"
      },
      "execution_count": 1,
      "outputs": [
        {
          "output_type": "stream",
          "name": "stdout",
          "text": [
            "The mean of the data is:49.91\n",
            "The standard deviation is : 4.95\n"
          ]
        },
        {
          "output_type": "display_data",
          "data": {
            "text/plain": [
              "<Figure size 640x480 with 1 Axes>"
            ],
            "image/png": "[encoded data removed]"
          },
          "metadata": {}
        }
      ]
    },
    {
      "cell_type": "markdown",
      "source": [
        "Question 10: You are working as a data analyst for a retail company. The company has collected daily sales data for 2 years and wants you to identify the overall sales trend.\n",
        "daily_sales = [220, 245, 210, 265, 230, 250, 260, 275, 240, 255,\n",
        "235, 260, 245, 250, 225, 270, 265, 255, 250, 260]\n",
        "\n",
        "● Explain how you would apply the Central Limit Theorem to estimate the average sales\n",
        "with a 95% confidence interval.\n",
        "\n",
        "● Write the Python code to compute the mean sales and its confidence interval.\n",
        "\n",
        "Answer:\n",
        "\n",
        "**How the Central Limit Theorem Applies**\n",
        "The Central Limit Theorem (CLT) states that if we take a sufficiently large number of samples from a population and compute their means, the distribution of those sample means will tend to be approximately normal — even if the original data isn't normally distributed.\n",
        "\n",
        "In this case:\n",
        "\n",
        "- Our population is small (20 daily sales), so we treat it as a sample from a larger population (e.g., overall daily sales).\n",
        "\n",
        "- CLT allows us to estimate the population mean using the sample mean and standard error.\n",
        "\n",
        "- We’ll compute a 95% confidence interval (CI) using:\n",
        "\n",
        "CI=\n",
        "x\n",
        "ˉ\n",
        " ±z⋅(\n",
        "n\n",
        "​\n",
        " s\n",
        "​\n",
        " )\n",
        "\n",
        "\n",
        "Where:\n",
        "\n",
        "𝑥ˉ= sample mean\n",
        "\n",
        "\n",
        "s = sample standard deviation\n",
        "\n",
        "\n",
        "n = sample size\n",
        "\n",
        "\n",
        "z = 1.96 for 95% CI (assuming normal distribution from CLT)\n",
        "\n"
      ],
      "metadata": {
        "id": "dW7dZ_lp9IWs"
      }
    },
    {
      "cell_type": "code",
      "source": [
        "# Python code for compute mean and confidence interval:\n",
        "\n",
        "import numpy as np\n",
        "import scipy.stats as stats\n",
        "\n",
        "# Sample data\n",
        "daily_sales = [220, 245, 210, 265, 230, 250, 260, 275, 240, 255,\n",
        "               235, 260, 245, 250, 225, 270, 265, 255, 250, 260]\n",
        "\n",
        "# Step 1: Calculate statistics\n",
        "sample_mean = np.mean(daily_sales)\n",
        "sample_std = np.std(daily_sales, ddof=1)  # ddof=1 for sample standard deviation\n",
        "n = len(daily_sales)\n",
        "confidence = 0.95\n",
        "\n",
        "# Step 2: t-critical value for 95% CI\n",
        "t_critical = stats.t.ppf((1 + confidence) / 2, df=n-1)\n",
        "\n",
        "# Step 3: Standard Error\n",
        "standard_error = sample_std / np.sqrt(n)\n",
        "\n",
        "# Step 4: Margin of Error\n",
        "margin_of_error = t_critical * standard_error\n",
        "\n",
        "# Step 5: Confidence Interval\n",
        "ci_lower = sample_mean - margin_of_error\n",
        "ci_upper = sample_mean + margin_of_error\n",
        "\n",
        "# Output\n",
        "print(f\"Sample Mean: {sample_mean:.2f}\")\n",
        "print(f\"95% Confidence Interval: ({ci_lower:.2f}, {ci_upper:.2f})\")\n"
      ],
      "metadata": {
        "colab": {
          "base_uri": "https://localhost:8080/"
        },
        "id": "X9xA9O8zTlBF",
        "outputId": "12ba6cad-8c8d-43be-bf64-456e382f0423"
      },
      "execution_count": 3,
      "outputs": [
        {
          "output_type": "stream",
          "name": "stdout",
          "text": [
            "Sample Mean: 248.25\n",
            "95% Confidence Interval: (240.17, 256.33)\n"
          ]
        }
      ]
    },
    {
      "cell_type": "code",
      "execution_count": 2,
      "metadata": {
        "id": "kLv58PdN0yBi"
      },
      "outputs": [],
      "source": []
    }
  ]
}
