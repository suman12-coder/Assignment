{
  "nbformat": 4,
  "nbformat_minor": 0,
  "metadata": {
    "colab": {
      "provenance": []
    },
    "kernelspec": {
      "name": "python3",
      "display_name": "Python 3"
    },
    "language_info": {
      "name": "python"
    }
  },
  "cells": [
    {
      "cell_type": "markdown",
      "source": [
        "# Statistics Assignment"
      ],
      "metadata": {
        "id": "2QSDjUFTWRjW"
      }
    },
    {
      "cell_type": "markdown",
      "source": [
        "Question 1: What is the difference between descriptive statistics and inferential\n",
        "statistics? Explain with examples.  \n",
        "\n",
        "Answer:\n",
        "\n",
        "  -   Difference between descriptive statistics and inferential statistics\n",
        "   1. Descriptive statistics based on actual collected data ; Inferrential statistics based on sample from a population.\n",
        "   2. The purpose of Descriptive staistics is summarize and describe data features ; for Inferential statistics make predictions or test hypotheses.\n",
        "\n",
        "Example:\n",
        " - Descriptive statistics : mean score of 30 students in a class.\n",
        " - Inferential statistics : predict average score od all students in a city.\n"
      ],
      "metadata": {
        "id": "uz9hxt8JxQUM"
      }
    },
    {
      "cell_type": "markdown",
      "source": [
        "Question 2: What is sampling in statistics? Explain the differences between\n",
        "random and stratified sampling.\n",
        "\n",
        "Answer:\n",
        "\n",
        "Sampling in Statistics :\n",
        "\n",
        "Sampling is the process of selecting a subset of individuals from a larger population to\n",
        "estimate characteristics of the whole.\n",
        "It’s used when surveying every single person in the population is impractical or impossible.\n",
        "\n",
        "Random vs. Stratified Sampling:\n",
        "\n",
        " 1. In Random sampling every individual has an equal\n",
        "chance of being selected ; in stratified sampling population divided into groups or strata , then samples taken from each group.\n",
        "2. Random sampling simple and unbiased ; Stratified sampling more accurate for diverse group.\n"
      ],
      "metadata": {
        "id": "ig7uzNexxQLK"
      }
    },
    {
      "cell_type": "markdown",
      "source": [
        "Question 3: Define mean, median, and mode. Explain why these measures of\n",
        "central tendency are important.  \n",
        "\n",
        "Answer:  \n",
        "\n",
        "- Mean: average of all values.\n",
        "- Median: middle value when data is ordered.\n",
        "- Mode: value that appears most often.It is useful for categorical data.\n",
        "\n",
        "Why Are These Important?\n",
        "\n",
        "•  Mean gives an overall average; best used when data is evenly distributed.\n",
        "\n",
        "•  Median is ideal when data has outliers or skewed distribution—it’s the “middle\n",
        "ground.”\n",
        "\n",
        "•  Mode helps in understanding the most common value, especially for non-numeric\n",
        "or repeated data."
      ],
      "metadata": {
        "id": "LjTRFUw2xQCn"
      }
    },
    {
      "cell_type": "markdown",
      "source": [
        "Question 4: Explain skewness and kurtosis. What does a positive skew imply\n",
        "about the data?\n",
        "\n",
        " Answer:\n",
        "\n",
        "Skewness\n",
        "\n",
        "Skewness measures the asymmetry of a data distribution:\n",
        "\n",
        "• A symmetric distribution (like a normal distribution) has a skewness of 0.\n",
        "\n",
        "• A positive skew (or right skew) means the right tail is longer or fatter than the left.\n",
        "\n",
        "• A negative skew (or left skew) means the left tail is longer than the right.\n",
        "\n",
        "\n",
        "Kurtosis\n",
        "\n",
        "Kurtosis is a statistical measure that describes the shape of a data distribution, specifically\n",
        "focusing on how the tails (extreme values) behave compared to a normal distribution.\n",
        "\n",
        "What does a positive skew imply :\n",
        "\n",
        "It indicates that most values are clustered toward the lower end, but there are a few\n",
        "unusually high values pulling the mean to the right.\n",
        "In other words, the mean > median > mode."
      ],
      "metadata": {
        "id": "9VZMWy_jxP9W"
      }
    },
    {
      "cell_type": "markdown",
      "source": [
        "Question 5: Implement a Python program to compute the mean, median, and\n",
        "mode of a given list of numbers. numbers = [12, 15, 12, 18, 19, 12, 20, 22, 19,\n",
        "19, 24, 24, 24, 26, 28]  "
      ],
      "metadata": {
        "id": "JJ6r81_d7T1f"
      }
    },
    {
      "cell_type": "code",
      "source": [
        "import numpy as np\n",
        "import statistics # Import the statistics module\n",
        "numbers = [12, 15, 12, 18, 19, 12, 20, 22, 19, 19, 24, 24, 24, 26, 28]\n",
        "mean = np.mean(numbers)\n",
        "median = np.median(numbers)\n",
        "mode = statistics.multimode(numbers) # Use statistics.multimode for more than one mode if present.\n",
        "print(' The mean is:', mean)\n",
        "print(' The median is:', median)\n",
        "print(' The mode is:', mode)"
      ],
      "metadata": {
        "colab": {
          "base_uri": "https://localhost:8080/"
        },
        "id": "8E_44LIK7RtA",
        "outputId": "0948d173-f310-488b-bf0d-8977587c59ce"
      },
      "execution_count": 1,
      "outputs": [
        {
          "output_type": "stream",
          "name": "stdout",
          "text": [
            " The mean is: 19.6\n",
            " The median is: 19.0\n",
            " The mode is: [12, 19, 24]\n"
          ]
        }
      ]
    },
    {
      "cell_type": "markdown",
      "source": [
        "Question 6: Compute the covariance and correlation coefficient between the\n",
        "following two datasets provided as lists in Python: list_x = [10, 20, 30, 40, 50]\n",
        "list_y = [15, 25, 35, 45, 60]  \n",
        "\n",
        "Answer:"
      ],
      "metadata": {
        "id": "DxGGxz947wis"
      }
    },
    {
      "cell_type": "code",
      "source": [
        "# given data\n",
        "list_x = [10, 20, 30, 40, 50]\n",
        "list_y = [15, 25, 35, 45, 60]\n",
        "import pandas as pd\n",
        "df = pd.DataFrame({'a':list_x,'b':list_y}) #data frame\n",
        "#compute covariance and correlation\n",
        "cov_mat = df.cov()\n",
        "corr_mat = df.corr()\n",
        "cov_xy = cov_mat.loc['a','b']\n",
        "corr_xy = corr_mat.loc['a','b']\n",
        "# result\n",
        "print(f'The covariance between list_x and list_y is {cov_xy}')\n",
        "print(f'The correlation between list_x and list_y is {corr_xy}')"
      ],
      "metadata": {
        "colab": {
          "base_uri": "https://localhost:8080/"
        },
        "id": "XDlPqLUS70qd",
        "outputId": "c0b8dd0c-2ab4-4d4f-e5f1-8dfd7f897728"
      },
      "execution_count": 2,
      "outputs": [
        {
          "output_type": "stream",
          "name": "stdout",
          "text": [
            "The covariance between list_x and list_y is 275.0\n",
            "The correlation between list_x and list_y is 0.9958932064677039\n"
          ]
        }
      ]
    },
    {
      "cell_type": "markdown",
      "source": [
        "Question 7: Write a Python script to draw a boxplot for the following numeric\n",
        "list and identify its outliers. Explain the result: data = [12, 14, 14, 15, 18, 19, 19,\n",
        "21, 22, 22, 23, 23, 24, 26, 29, 35]  \n",
        "Answer:"
      ],
      "metadata": {
        "id": "MQ0e01nH8FZS"
      }
    },
    {
      "cell_type": "code",
      "source": [
        "import matplotlib.pyplot as plt\n",
        "import seaborn as sns\n",
        "import numpy as np\n",
        "# given data\n",
        "data = [12, 14, 14, 15, 18, 19, 19, 21, 22, 22, 23, 23, 24, 26, 29, 35]\n",
        "# Draw boxplot\n",
        "plt.figure(figsize=(10, 6))\n",
        "sns.boxplot(data=data, orient='h', color='skyblue')\n",
        "plt.title('Boxplot of Given Data')\n",
        "plt.xlabel('Values')\n",
        "plt.grid(True)\n",
        "plt.show()\n",
        "\n",
        "# Compute IQR to find outliers\n",
        "q1 = np.percentile(data, 25)\n",
        "q3 = np.percentile(data, 75)\n",
        "iqr = q3 - q1\n",
        "lower_bound = q1 - 1.5 * iqr\n",
        "upper_bound = q3 + 1.5 * iqr\n",
        "outliers = [x for x in data if x < lower_bound or x > upper_bound]\n",
        "# output\n",
        "print(f\"Q1 (25th percentile): {q1}\")\n",
        "print(f\"Q3 (75th percentile): {q3}\")\n",
        "print(f\"IQR (Q3 - Q1): {iqr}\")\n",
        "print(f\"Lower bound: {lower_bound}\")\n",
        "print(f\"Upper bound: {upper_bound}\")\n",
        "print(f\"Outliers: {outliers}\")\n"
      ],
      "metadata": {
        "colab": {
          "base_uri": "https://localhost:8080/",
          "height": 635
        },
        "id": "oKKe67Ok8HCo",
        "outputId": "536fd51f-51ab-436a-c697-91704ce69543"
      },
      "execution_count": 5,
      "outputs": [
        {
          "output_type": "display_data",
          "data": {
            "text/plain": [
              "<Figure size 1000x600 with 1 Axes>"
            ],
            "image/png": "[encoded data removed]"
          },
          "metadata": {}
        },
        {
          "output_type": "stream",
          "name": "stdout",
          "text": [
            "Q1 (25th percentile): 17.25\n",
            "Q3 (75th percentile): 23.25\n",
            "IQR (Q3 - Q1): 6.0\n",
            "Lower bound: 8.25\n",
            "Upper bound: 32.25\n",
            "Outliers: [35]\n"
          ]
        }
      ]
    },
    {
      "cell_type": "markdown",
      "source": [
        "Explanation: The value 35 is significantly higher than the typical spread of the data and is\n",
        "beyond  upper fence, so it's identified as an upper outlier."
      ],
      "metadata": {
        "id": "0DMh_0_W8YoZ"
      }
    },
    {
      "cell_type": "markdown",
      "source": [
        "Question 8: You are working as a data analyst in an e-commerce company. The marketing\n",
        "team wants to know if there is a relationship between advertising spend and daily sales.  \n",
        "● Explain how you would use covariance and correlation to explore this relationship.  \n",
        "● Write Python code to compute the correlation between the two lists:  \n",
        "advertising_spend = [200, 250, 300, 400, 500]  \n",
        "daily_sales = [2200, 2450, 2750, 3200, 4000]\n",
        "\n",
        "Answer:  \n",
        "\n",
        "PART 1: How Covariance and Correlation Help\n",
        "\n",
        "Covariance: It tells us whether the two variables move together.\n",
        "\n",
        "• Interpretation:\n",
        "\n",
        "- Positive covariance: As advertising increases, sales tend to increase.\n",
        "- Negative covariance: As advertising increases, sales tend to decrease.\n",
        "- Zero covariance: No relationship (but hard to interpret scale-wise).\n",
        "    Covariance gives direction, but not the strength.\n",
        "\n",
        " Correlation (Pearson's r):  It Measures both direction and strength of the relationship. Scale: Always between -1 and +1.\n",
        "- +1: Perfect positive relationship\n",
        "- 0: No linear relationship\n",
        "- -1: Perfect negative relationship\n",
        "\n",
        "\n",
        "PART 2: Python Code to Compute Correlation\n"
      ],
      "metadata": {
        "id": "0mpmT0Di87Om"
      }
    },
    {
      "cell_type": "code",
      "source": [
        "# Given data\n",
        "advertising_spend = [200, 250, 300, 400, 500]\n",
        "daily_sales = [2200, 2450, 2750, 3200, 4000]\n",
        "# create a data frame:\n",
        "import pandas as pd\n",
        "df = pd.DataFrame({'x':advertising_spend,'y':daily_sales})\n",
        "# compute correlations:\n",
        "corr_matrix=df.corr()\n",
        "cor=corr_matrix.loc['x','y']\n",
        "print(f'The correlations between advertising and sales is {cor}')"
      ],
      "metadata": {
        "colab": {
          "base_uri": "https://localhost:8080/"
        },
        "id": "yMP8lMRj9ncB",
        "outputId": "1981d440-31e3-4139-d29b-62cd21dfaf9a"
      },
      "execution_count": 6,
      "outputs": [
        {
          "output_type": "stream",
          "name": "stdout",
          "text": [
            "The correlations between advertising and sales is 0.9935824101653327\n"
          ]
        }
      ]
    },
    {
      "cell_type": "markdown",
      "source": [
        "INTERPRETATION:\n",
        "\n",
        "• Correlation ≈ 0.99 → Almost a perfect positive linear relationship.\n",
        "This suggests that higher ad spending is strongly associated with higher daily sales"
      ],
      "metadata": {
        "id": "clidqw8O908U"
      }
    },
    {
      "cell_type": "markdown",
      "source": [
        "Question 9: Your team has collected customer satisfaction survey data on a\n",
        "scale of 1-10 and wants to understand its distribution before launching a new\n",
        "product.  \n",
        "● Explain which summary statistics and visualizations (e.g. mean, standard\n",
        "deviation, histogram) you’d use.  \n",
        "● Write Python code to create a histogram using Matplotlib for the survey\n",
        "data: survey_scores = [7, 8, 5, 9, 6, 7, 8, 9, 10, 4, 7, 6, 9, 8, 7]\n",
        "\n",
        "Answer:\n",
        "\n",
        "Summary Statistics to Use :To understand the distribution of customer satisfaction scores, focus on:\n",
        "• Mean: Average score — gives an overall satisfaction level.\n",
        "\n",
        "• Median: The middle score — useful if there are extreme values or skewness.\n",
        "\n",
        "• Mode: Most frequent score — helps pinpoint common customer sentiments.\n",
        "\n",
        "• Standard Deviation: Measures the spread of scores around the mean.\n",
        "\n",
        "• Range: Difference between highest and lowest scores.\n",
        "\n",
        "• Count: Total number of responses — useful for checking data coverage.\n",
        "\n",
        " Visualizations to Use :\n",
        "\n",
        "• Histogram: Shows the frequency distribution of satisfaction scores. Perfect to see\n",
        "clusters, skewness, or gaps.\n",
        "\n",
        "• Boxplot (optional): Reveals outliers and gives a visual summary of distribution via\n",
        "quartiles.\n",
        "\n",
        "Python code for Histogram:"
      ],
      "metadata": {
        "id": "tOhcKhQ398R5"
      }
    },
    {
      "cell_type": "code",
      "source": [
        "# given data\n",
        "survey_scores = [7, 8, 5, 9, 6, 7, 8, 9, 10, 4, 7, 6, 9, 8, 7]\n",
        "# compute Histogram\n",
        "import matplotlib.pyplot as plt\n",
        "plt.hist(survey_scores,color='skyblue',edgecolor='black')\n",
        "plt.title('Histogram of Customer satisfaction survey ')\n",
        "plt.xlabel('Survey Scores (1-10)')\n",
        "plt.ylabel('Frequency')\n",
        "plt.tight_layout()\n",
        "plt.show()"
      ],
      "metadata": {
        "colab": {
          "base_uri": "https://localhost:8080/",
          "height": 487
        },
        "id": "BsreY0EU-YrZ",
        "outputId": "b2d3a996-9937-4c76-81cc-df83b43eff7c"
      },
      "execution_count": 7,
      "outputs": [
        {
          "output_type": "display_data",
          "data": {
            "text/plain": [
              "<Figure size 640x480 with 1 Axes>"
            ],
            "image/png": "[encoded data removed]"
          },
          "metadata": {}
        }
      ]
    }
  ]
}