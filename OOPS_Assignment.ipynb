{
  "nbformat": 4,
  "nbformat_minor": 0,
  "metadata": {
    "colab": {
      "provenance": [],
      "toc_visible": true
    },
    "kernelspec": {
      "name": "python3",
      "display_name": "Python 3"
    },
    "language_info": {
      "name": "python"
    }
  },
  "cells": [
    {
      "cell_type": "markdown",
      "source": [
        "#OOPs Assignment"
      ],
      "metadata": {
        "id": "3Q6I3-y0GF37"
      }
    },
    {
      "cell_type": "markdown",
      "source": [
        "#Theory"
      ],
      "metadata": {
        "id": "yhxo3xpBF_rj"
      }
    },
    {
      "cell_type": "markdown",
      "source": [
        "1. What is Object-Oriented Programming (OOP)?\n",
        "- Object-Oriented Programming (OOP) is a programming paradigm centered around the concept of \"objects\", which are instances of classes. These objects combine data (attributes) and behavior (methods) into a single unit.\n",
        "\n",
        "  "
      ],
      "metadata": {
        "id": "blfCyJF4GO9q"
      }
    },
    {
      "cell_type": "markdown",
      "source": [
        "2. What is a class in OOP?\n",
        "-  In Object-Oriented Programming (OOP), a class is a blueprint or template for creating objects.\n",
        "It defines:\n",
        " - Attributes (also called fields or properties) — the data that an object will store.\n",
        " - Methods — the functions or behaviors the object can perform."
      ],
      "metadata": {
        "id": "KtHZ-7x8HBMr"
      }
    },
    {
      "cell_type": "markdown",
      "source": [
        "3. What is an object in OOP ?\n",
        "-  In Object-Oriented Programming (OOP), an object is an instance of a class. It represents a real-world entity with data (attributes) and behavior (methods) defined by its class.\n",
        "\n"
      ],
      "metadata": {
        "id": "gKUiZ5eWIGSl"
      }
    },
    {
      "cell_type": "markdown",
      "source": [
        "4. What is the difference between abstraction and encapsulation?\n",
        "- Abstraction – \"What to show\"\n",
        " - Definition:\n",
        "Abstraction is the process of hiding complex implementation details and showing only the essential features of an object or system.\n",
        "\n",
        " - Purpose:\n",
        "To simplify the interface for the user and focus only on relevant details.\n",
        "- Encapsulation – \"How to hide\"\n",
        " -  Definition:\n",
        "Encapsulation is the technique of bundling data (attributes) and methods into a single unit (class), and restricting direct access to some of the object's components.\n",
        "\n",
        " -  Purpose:\n",
        "To protect data from unwanted changes and keep it safe from outside interference."
      ],
      "metadata": {
        "id": "BG1doie8Jj_T"
      }
    },
    {
      "cell_type": "markdown",
      "source": [
        "5. What are dunder methods in Python?\n",
        "-  Dunder methods (short for \"double underscore\" methods) in Python are special methods with names that start and end with double underscores, like **__init__** , __str__, and __add__.\n",
        "\n",
        "They are also called magic methods or special methods because they allow you to define how your objects behave with built-in Python operations.\n",
        "\n"
      ],
      "metadata": {
        "id": "7VHL_IpsIGQS"
      }
    },
    {
      "cell_type": "markdown",
      "source": [
        "6. Explain the concept of inheritance in OOP?\n",
        "-  Inheritance is a core concept in OOP that allows a class to inherit properties and behaviors (attributes and methods) from another class.\n",
        "- It enables code reuse, hierarchical relationships, and extensibility.\n",
        "\n",
        "-  Basic Idea:\n",
        " - A parent class (also called superclass or base class) defines common features.\n",
        " - A child class (also called subclass or derived class) inherits those features and can also add or override them."
      ],
      "metadata": {
        "id": "PCLMKed4IF2O"
      }
    },
    {
      "cell_type": "markdown",
      "source": [
        "7. What is polymorphism in OOP?\n",
        "-  Polymorphism means \"many forms\". In OOP, it refers to the ability of different classes to be treated as instances of the same superclass, even if they behave differently.\n",
        "- Key Idea:\n",
        " -  The same operation or method name can behave differently on different classes.\n",
        " -  This allows for flexibility and extensibility in code, especially when working with class hierarchies."
      ],
      "metadata": {
        "id": "7L47Dx_6IFvv"
      }
    },
    {
      "cell_type": "markdown",
      "source": [
        "8. How is encapsulation achieved in Python?\n",
        "-  Encapsulation is the practice of hiding internal data and restricting direct access to it. In Python, it's achieved using:\n",
        " -  Classes (to bundle data and behavior)\n",
        " -  Access modifiers (to control visibility of attributes and methods)\n",
        "\n"
      ],
      "metadata": {
        "id": "ungKuAStIFs1"
      }
    },
    {
      "cell_type": "markdown",
      "source": [
        "9. What is a constructor in Python?\n",
        "- A constructor in Python is a special method used to initialize a newly created object of a class. It automatically runs when a new object is created."
      ],
      "metadata": {
        "id": "XXnec3IiIFpz"
      }
    },
    {
      "cell_type": "markdown",
      "source": [
        "10. What are class and static methods in Python?\n",
        "-  In Python, both class methods and static methods are used when you want to define behaviors that aren’t tied to specific object instances, but they serve different purposes.\n",
        "\n",
        "1. Class Method (@classmethod)\n",
        "- Bound to the class, not the instance.\n",
        "- Takes cls as the first parameter (represents the class itself).\n",
        "- Can access or modify class state that applies across all instances.\n",
        "2.  Static Method (@staticmethod)\n",
        "- Not bound to the class or instance.\n",
        "- No automatic first argument (self or cls).\n",
        "- Acts like a regular function, but lives in the class for logical grouping."
      ],
      "metadata": {
        "id": "YJUC_lwfIFkE"
      }
    },
    {
      "cell_type": "markdown",
      "source": [
        "11. What is method overloading in Python?\n",
        "-  Method overloading means having multiple methods with the same name but different parameters (number or type) in the same class.\n",
        "It allows you to perform different tasks based on different inputs.\n",
        "\n"
      ],
      "metadata": {
        "id": "qfX9ZMgpIFhl"
      }
    },
    {
      "cell_type": "markdown",
      "source": [
        "12. What is method overriding in OOP?\n",
        "-  Method overriding occurs when a subclass provides a specific implementation of a method that is already defined in its superclass.\n",
        " It allows a child class to modify or extend the behavior of a method inherited from the parent class."
      ],
      "metadata": {
        "id": "QH5RCY65Om1X"
      }
    },
    {
      "cell_type": "markdown",
      "source": [
        "13. What is a property decorator in Python?\n",
        "-  The property decorator is a built-in Python feature that allows you to use methods like attributes. It helps you control access to instance variables while still using simple attribute syntax.\n",
        "\n"
      ],
      "metadata": {
        "id": "e7IfaNMXOmx1"
      }
    },
    {
      "cell_type": "markdown",
      "source": [
        "14. Why is polymorphism important in OOP?\n",
        "-  Why Polymorphism Matters:\n",
        "  1.  Code Flexibility and Extensibility:\n",
        "You can write code that works with objects of different classes through a common interface, without needing to know their exact types. This means you can add new classes without changing existing code.\n",
        "\n",
        "  2.   Simplifies Code Maintenance:\n",
        "Because you rely on a shared method name, you avoid long chains of conditionals (if/else) checking for object types. Your code is cleaner and easier to update.\n",
        "\n",
        "  3.  Supports Runtime Behavior Variation:\n",
        "Polymorphism allows different objects to respond differently to the same method call. This is key for dynamic behavior — your program adapts based on the actual object.\n",
        "\n",
        "  4.  Promotes Reusability and Modularity:\n",
        "You can reuse the same code for different data types, which reduces duplication and helps organize your program better.\n",
        "\n"
      ],
      "metadata": {
        "id": "JLJFbfOKIFe9"
      }
    },
    {
      "cell_type": "markdown",
      "source": [
        "15. What is an abstract class in Python?\n",
        "-  An abstract class is a class that cannot be instantiated directly and is meant to be subclassed. It usually contains one or more abstract methods — methods declared but without implementation — that must be implemented by any subclass.\n",
        "\n"
      ],
      "metadata": {
        "id": "2r0qF0fPIFbV"
      }
    },
    {
      "cell_type": "markdown",
      "source": [
        "16. What are the advantages of OOP?\n",
        "-  Advantages of OOP:\n",
        "1. Modularity:\n",
        "  -  Code is organized into classes and objects, making it easier to manage, understand, and maintain.\n",
        " -  Each class represents a specific concept or entity.\n",
        "2. Reusability:\n",
        "  -  You can reuse existing classes through inheritance.\n",
        " -  Reduces duplication and accelerates development.\n",
        "\n",
        "3. Scalability and Maintainability\n",
        " - Easy to extend the system by adding new classes without changing existing code.\n",
        " - Encourages cleaner and well-structured code.\n",
        "\n",
        "4. Encapsulation\n",
        "  - Hides internal object details and exposes only necessary parts.\n",
        " -  Protects data and prevents unintended interference.\n",
        "5. Abstraction\n",
        " - Focuses on essential features and hides complex implementation.\n",
        " - Simplifies interaction with objects and reduces programming complexity.\n",
        "6. Polymorphism\n",
        "  - Allows methods to do different things based on the object invoking them.\n",
        " - Facilitates flexibility and integration of new features seamlessly.\n",
        "\n",
        "7. Improved Productivity\n",
        " - Easier code management and reuse speeds up development.\n",
        " - Object-oriented design maps well to real-world problems, making design intuitive.\n",
        "\n"
      ],
      "metadata": {
        "id": "dnRFzrA0IFWz"
      }
    },
    {
      "cell_type": "markdown",
      "source": [
        "17. What is the difference between a class variable and an instance variable?\n",
        "-  Class variables are shared by all instances of a class, defined outside methods, and hold data common to every object. Instance variables are unique to each object, defined inside methods (usually __init__), and store data specific to that instance.\n",
        "- Changing a class variable affects all instances unless an instance overrides it, while changing an instance variable affects only that object.\n",
        "- Class variables are accessed via the class name or instances; instance variables are accessed only through instances.\n",
        "- Class variables save memory by sharing data; instance variables allow individual customization.\n",
        "- Use class variables for constants or shared properties, and instance variables for individual attributes."
      ],
      "metadata": {
        "id": "8dwnUz1RR4M1"
      }
    },
    {
      "cell_type": "markdown",
      "source": [
        "18. What is multiple inheritance in Python?\n",
        "-  Multiple inheritance means a class can inherit from more than one parent class. This allows the child class to combine behaviors and attributes from multiple sources.\n",
        "\n"
      ],
      "metadata": {
        "id": "aDTV3vJpR4GD"
      }
    },
    {
      "cell_type": "markdown",
      "source": [
        "19.Explain the purpose of ‘’__str__’ and ‘__repr__’ ‘ methods in Python?\n",
        "-  Both __str__ and __repr__ are dunder (double underscore) methods in Python used to define string representations of objects — but they serve different purposes.\n",
        "1. __str__() →\n",
        " -  User-Friendly Representation\n",
        "Called by the built-in str() function or when you use print(obj)\n",
        "  - Should return a readable, informal string for end users\n",
        "2.  __repr__() →\n",
        " - Developer-Focused / Unambiguous Representation\n",
        "Called by the built-in repr() function or in the interactive console\n",
        "  -  Should return a string that is unambiguous, ideally valid Python code to recreate the object\n",
        "- Example:"
      ],
      "metadata": {
        "id": "J2jvlGjnR4CR"
      }
    },
    {
      "cell_type": "code",
      "source": [
        "# __str__\n",
        "class Person:\n",
        "    def __init__(self, name):\n",
        "        self.name = name\n",
        "\n",
        "    def __str__(self):\n",
        "        return f\"Person named {self.name}\"\n",
        "\n",
        "p = Person(\"Alice\")\n",
        "print(p)  # Output: Person named Alice\n",
        "#__repr__\n",
        "class Person:\n",
        "    def __init__(self, name):\n",
        "        self.name = name\n",
        "\n",
        "    def __repr__(self):\n",
        "        return f\"Person('{self.name}')\"\n",
        "\n",
        "p = Person(\"Alice\")\n",
        "print(repr(p))  # Output: Person('Alice')\n",
        "\n"
      ],
      "metadata": {
        "colab": {
          "base_uri": "https://localhost:8080/"
        },
        "id": "493O1K1yVZZY",
        "outputId": "d1230b67-a73f-4e4c-9d22-37b18d684992"
      },
      "execution_count": 71,
      "outputs": [
        {
          "output_type": "stream",
          "name": "stdout",
          "text": [
            "Person named Alice\n",
            "Person('Alice')\n"
          ]
        }
      ]
    },
    {
      "cell_type": "markdown",
      "source": [
        "20. What is the significance of the ‘super()’ function in Python?\n",
        "-  The super() function in Python is used to call methods from a parent (super) class. It's especially useful in inheritance, where a child class wants to extend or modify the behavior of its parent class without completely overriding it.\n",
        "\n",
        "-  Key Uses of super():\n",
        " 1. Call a method from the parent class: Commonly used inside constructors (__init__()) to initialize parent class attributes.\n",
        " 2. Avoid code duplication: Reuse logic from parent classes rather than rewriting it.\n",
        "\n",
        " 3. Support multiple inheritance: Works well with Python’s Method Resolution Order (MRO).\n",
        "\n"
      ],
      "metadata": {
        "id": "KLx_rcTQR35-"
      }
    },
    {
      "cell_type": "markdown",
      "source": [
        "21. What is the significance of the __del__ method in Python?\n",
        "-  The __del__() method in Python is known as the destructor. It is automatically called when an object is about to be destroyed, i.e., when there are no more references to it.\n",
        "-  Purpose of __del__():\n",
        " 1. To clean up resources — like closing files, network connections, or releasing memory — just before the object is deleted.\n",
        " 2. It acts as a finalizer for your object.\n",
        "\n"
      ],
      "metadata": {
        "id": "t46otXbUR32I"
      }
    },
    {
      "cell_type": "markdown",
      "source": [
        "22. What is the difference between @staticmethod and @classmethod in Python?\n",
        "-  @staticmethod defines a method that does not receive an implicit first argument (self or cls) and cannot access instance or class data. It's used for utility functions that are logically related to the class.\n",
        "- @classmethod, on the other hand, receives cls as the first argument and can access or modify class-level data. It's commonly used for factory methods or to keep track of class state.\n",
        "- While both can be called using the class or instance, use @staticmethod when no access to class/instance is needed, and @classmethod when you need class-level context.\n",
        "- They help in organizing code better without requiring object instantiation."
      ],
      "metadata": {
        "id": "j11-tsfrXYNJ"
      }
    },
    {
      "cell_type": "markdown",
      "source": [
        "23. How does polymorphism work in Python with inheritance?\n",
        "- Polymorphism with inheritance in Python allows you to use the same method name across multiple subclasses and write flexible, generic code that works with any subclass of a common base class.\n"
      ],
      "metadata": {
        "id": "UHutx4q6R3vW"
      }
    },
    {
      "cell_type": "markdown",
      "source": [
        "24. What is method chaining in Python OOP?\n",
        "-  Method chaining is a programming technique where multiple method calls are linked together in a single line, using dot (.) notation. This is done by having each method return self, so the next method can be called on the same object."
      ],
      "metadata": {
        "id": "dpg_eEQNIEPz"
      }
    },
    {
      "cell_type": "markdown",
      "source": [
        "25. What is the purpose of the __call__ method in Python?\n",
        "-  The __call__() method allows an instance of a class to be called like a function. When you use object(), Python internally calls object.__call__().\n",
        "-  Purpose:\n",
        " 1. Makes an object callable like a function\n",
        " 2. Useful for creating function-like objects with state\n",
        " 3. Common in decorators, machine learning models, and fluent APIs"
      ],
      "metadata": {
        "id": "U49tn3N0aDUy"
      }
    },
    {
      "cell_type": "markdown",
      "source": [
        "#Practical Question:"
      ],
      "metadata": {
        "id": "_I9VkIxfaYri"
      }
    },
    {
      "cell_type": "markdown",
      "source": [
        "1. Create a parent class Animal with a method speak() that prints a generic message. Create a child class Dog\n",
        "that overrides the speak() method to print \"Bark!\"."
      ],
      "metadata": {
        "id": "KW-UgHGSaiTh"
      }
    },
    {
      "cell_type": "code",
      "source": [
        "#parent class\n",
        "class Animal:\n",
        "  def speak(self):\n",
        "    print(\"Animal sound\")\n",
        "#child class\n",
        "class Dog(Animal):\n",
        "  def speak(self):\n",
        "    print(\"Bark!\")\n",
        "obj1 = Animal()\n",
        "obj1.speak()\n",
        "obj2 = Dog()\n",
        "obj2.speak()"
      ],
      "metadata": {
        "colab": {
          "base_uri": "https://localhost:8080/"
        },
        "id": "LHJ0TsuAff23",
        "outputId": "c405ed76-ed0e-408e-ebd5-fd2898ae203d"
      },
      "execution_count": 72,
      "outputs": [
        {
          "output_type": "stream",
          "name": "stdout",
          "text": [
            "Animal sound\n",
            "Bark!\n"
          ]
        }
      ]
    },
    {
      "cell_type": "markdown",
      "source": [
        "2. Write a program to create an abstract class Shape with a method area(). Derive classes Circle and Rectangle\n",
        "from it and implement the area() method in both."
      ],
      "metadata": {
        "id": "_sTtqGF_fY3_"
      }
    },
    {
      "cell_type": "code",
      "execution_count": 73,
      "metadata": {
        "id": "rqT-K7tWFgUx",
        "colab": {
          "base_uri": "https://localhost:8080/"
        },
        "outputId": "dfc6a156-35a7-47ac-fc99-47b55d22680b"
      },
      "outputs": [
        {
          "output_type": "stream",
          "name": "stdout",
          "text": [
            "Area of circle: 78.53981633974483\n",
            "Area of rectangle: 24\n"
          ]
        }
      ],
      "source": [
        "from abc import ABC, abstractmethod\n",
        "import math\n",
        "\n",
        "# Abstract base class\n",
        "class Shape(ABC):\n",
        "    @abstractmethod\n",
        "    def area(self):\n",
        "        pass\n",
        "\n",
        "# Derived class: Circle\n",
        "class Circle(Shape):\n",
        "    def __init__(self, radius):\n",
        "        self.radius = radius\n",
        "\n",
        "    def area(self):\n",
        "        return math.pi * self.radius ** 2\n",
        "\n",
        "# Derived class: Rectangle\n",
        "class Rectangle(Shape):\n",
        "    def __init__(self, width, height):\n",
        "        self.width = width\n",
        "        self.height = height\n",
        "\n",
        "    def area(self):\n",
        "        return self.width * self.height\n",
        "\n",
        "# Example usage\n",
        "circle = Circle(5)\n",
        "print(\"Area of circle:\", circle.area())\n",
        "\n",
        "rectangle = Rectangle(4, 6)\n",
        "print(\"Area of rectangle:\", rectangle.area())\n"
      ]
    },
    {
      "cell_type": "markdown",
      "source": [
        "3.Implement a multi-level inheritance scenario where a class Vehicle has an attribute type. Derive a class Car\n",
        "and further derive a class ElectricCar that adds a battery attribute."
      ],
      "metadata": {
        "id": "rWbGsHAOfWw4"
      }
    },
    {
      "cell_type": "code",
      "source": [
        "\n",
        "  # Base class\n",
        "class Vehicle:\n",
        "    def __init__(self, vehicle_type):\n",
        "        self.type = vehicle_type\n",
        "\n",
        "    def display_type(self):\n",
        "        print(\"Vehicle type:\", self.type)\n",
        "\n",
        "# Derived class from Vehicle\n",
        "class Car(Vehicle):\n",
        "    def __init__(self, vehicle_type, brand):\n",
        "        super().__init__(vehicle_type)\n",
        "        self.brand = brand\n",
        "\n",
        "    def display_brand(self):\n",
        "        print(\"Car brand:\", self.brand)\n",
        "\n",
        "# Further derived class from Car\n",
        "class ElectricCar(Car):\n",
        "    def __init__(self, vehicle_type, brand, battery_capacity):\n",
        "        super().__init__(vehicle_type, brand)\n",
        "        self.battery = battery_capacity\n",
        "\n",
        "    def display_battery(self):\n",
        "        print(\"Battery capacity:\", self.battery, \"kWh\")\n",
        "\n",
        "# Example usage\n",
        "ecar = ElectricCar(\"Four-wheeler\", \"Tesla\", 75)\n",
        "ecar.display_type()\n",
        "ecar.display_brand()\n",
        "ecar.display_battery()\n"
      ],
      "metadata": {
        "colab": {
          "base_uri": "https://localhost:8080/"
        },
        "id": "NWVDNsdSldoH",
        "outputId": "60cc558b-27ec-445c-ea91-e46ba20b70b2"
      },
      "execution_count": 74,
      "outputs": [
        {
          "output_type": "stream",
          "name": "stdout",
          "text": [
            "Vehicle type: Four-wheeler\n",
            "Car brand: Tesla\n",
            "Battery capacity: 75 kWh\n"
          ]
        }
      ]
    },
    {
      "cell_type": "markdown",
      "source": [
        "4. Demonstrate polymorphism by creating a base class Bird with a method fly(). Create two derived classes\n",
        "Sparrow and Penguin that override the fly() method."
      ],
      "metadata": {
        "id": "iQf2XbzWnAZJ"
      }
    },
    {
      "cell_type": "code",
      "source": [
        "#base class\n",
        "class Bird:\n",
        "  def fly(self):\n",
        "    print('The bird is flying')\n",
        "#derive class: Sparrow\n",
        "class Sparrow(Bird):\n",
        "  def fly(self):\n",
        "    print('Sparrow is flying')\n",
        "#another derived class:Penhuin\n",
        "class Penguin(Bird):\n",
        "  def fly(self):\n",
        "    print('Penguin is not able to fly')\n",
        "#Usage\n",
        "obj1 = Sparrow()\n",
        "obj1.fly()\n",
        "obj2 = Penguin()\n",
        "obj2.fly()"
      ],
      "metadata": {
        "colab": {
          "base_uri": "https://localhost:8080/"
        },
        "id": "cRG3WuoSkptY",
        "outputId": "8a7bb9c6-d1b4-43df-cf60-cd20a2218510"
      },
      "execution_count": 75,
      "outputs": [
        {
          "output_type": "stream",
          "name": "stdout",
          "text": [
            "Sparrow is flying\n",
            "Penguin is not able to fly\n"
          ]
        }
      ]
    },
    {
      "cell_type": "markdown",
      "source": [
        "5.Write a program to demonstrate encapsulation by creating a class BankAccount with private attributes\n",
        "balance and methods to deposit, withdraw, and check balance."
      ],
      "metadata": {
        "id": "DlyjMZbRqevo"
      }
    },
    {
      "cell_type": "code",
      "source": [
        "class BankAccount:\n",
        "    def __init__(self, balance):\n",
        "        self.__balance = balance  # private attribute\n",
        "\n",
        "    # Method to deposit money\n",
        "    def deposit(self, amount):\n",
        "        if amount > 0:\n",
        "            self.__balance += amount\n",
        "            print(f\"Deposited: ${amount}\")\n",
        "        else:\n",
        "            print(\"Deposit amount must be positive.\")\n",
        "\n",
        "    # Method to withdraw money\n",
        "    def withdraw(self, amount):\n",
        "        if 0 < amount <= self.__balance:\n",
        "            self.__balance -= amount\n",
        "            print(f\"Withdrew: ${amount}\")\n",
        "        else:\n",
        "            print(\"Insufficient balance or invalid amount.\")\n",
        "\n",
        "    # Method to check balance\n",
        "    def check_balance(self):\n",
        "        print(f\"Current balance: ${self.__balance}\")\n",
        "\n",
        "# Example usage\n",
        "account = BankAccount(100)\n",
        "account.check_balance()\n",
        "\n",
        "account.deposit(50)\n",
        "account.check_balance()\n",
        "\n",
        "account.withdraw(70)\n",
        "account.check_balance()\n"
      ],
      "metadata": {
        "colab": {
          "base_uri": "https://localhost:8080/"
        },
        "id": "boSsAHXUpsjp",
        "outputId": "be21b102-2ed2-4a3d-95f6-45ef70d9fcb2"
      },
      "execution_count": 76,
      "outputs": [
        {
          "output_type": "stream",
          "name": "stdout",
          "text": [
            "Current balance: $100\n",
            "Deposited: $50\n",
            "Current balance: $150\n",
            "Withdrew: $70\n",
            "Current balance: $80\n"
          ]
        }
      ]
    },
    {
      "cell_type": "markdown",
      "source": [
        "6. Demonstrate runtime polymorphism using a method play() in a base class Instrument. Derive classes Guitar\n",
        "and Piano that implement their own version of play()."
      ],
      "metadata": {
        "id": "-nPsSVKbqlkH"
      }
    },
    {
      "cell_type": "code",
      "source": [
        "# Base class\n",
        "class Instrument:\n",
        "    def play(self):\n",
        "        print(\"The instrument is playing.\")\n",
        "\n",
        "# Derived class: Guitar\n",
        "class Guitar(Instrument):\n",
        "    def play(self):\n",
        "        print(\"Strumming the guitar.\")\n",
        "\n",
        "# Derived class: Piano\n",
        "class Piano(Instrument):\n",
        "    def play(self):\n",
        "        print(\"Playing the piano.\")\n",
        "\n",
        "# Function that demonstrates runtime polymorphism\n",
        "def play_instrument(instrument):\n",
        "    instrument.play()  # Calls the appropriate version at runtime\n",
        "\n",
        "# Example usage\n",
        "guitar = Guitar()\n",
        "piano = Piano()\n",
        "\n",
        "play_instrument(guitar)\n",
        "play_instrument(piano)\n"
      ],
      "metadata": {
        "colab": {
          "base_uri": "https://localhost:8080/"
        },
        "id": "Ue2LIvR8ql8n",
        "outputId": "ef9a8cc5-ee2d-47a1-9cae-4597fb69f816"
      },
      "execution_count": 77,
      "outputs": [
        {
          "output_type": "stream",
          "name": "stdout",
          "text": [
            "Strumming the guitar.\n",
            "Playing the piano.\n"
          ]
        }
      ]
    },
    {
      "cell_type": "markdown",
      "source": [
        "7. Create a class MathOperations with a class method add_numbers() to add two numbers and a static\n",
        "method subtract_numbers() to subtract two numbers."
      ],
      "metadata": {
        "id": "Yku7IMpktZdY"
      }
    },
    {
      "cell_type": "code",
      "source": [
        "class MathOperations:\n",
        "    @classmethod\n",
        "    def add_numbers(cls, a, b):\n",
        "        return a + b\n",
        "\n",
        "    @staticmethod\n",
        "    def subtract_numbers(a, b):\n",
        "        return a - b\n",
        "\n",
        "# Example usage\n",
        "sum_result = MathOperations.add_numbers(10, 5)\n",
        "print(\"Sum:\", sum_result)\n",
        "\n",
        "difference_result = MathOperations.subtract_numbers(10, 5)\n",
        "print(\"Difference:\", difference_result)"
      ],
      "metadata": {
        "colab": {
          "base_uri": "https://localhost:8080/"
        },
        "id": "ZA-3oaIawtQZ",
        "outputId": "51cc49eb-c811-476c-85d4-6797ea1c1544"
      },
      "execution_count": 78,
      "outputs": [
        {
          "output_type": "stream",
          "name": "stdout",
          "text": [
            "Sum: 15\n",
            "Difference: 5\n"
          ]
        }
      ]
    },
    {
      "cell_type": "markdown",
      "source": [
        "8. Implement a class Person with a class method to count the total number of persons created."
      ],
      "metadata": {
        "id": "06WUXIXjxBlA"
      }
    },
    {
      "cell_type": "code",
      "source": [
        "class Person:\n",
        "  count = 0  # Class variable to keep track of instances\n",
        "\n",
        "  def __init__(self, name):\n",
        "    self.name = name\n",
        "    Person.count += 1\n",
        "\n",
        "  @classmethod\n",
        "  def total_persons(cls):\n",
        "    return cls.count\n",
        "\n",
        "# Example usage\n",
        "p1 = Person(\"Suman\")\n",
        "p2 = Person(\"Arka\")\n",
        "p3 = Person(\"Piya\")\n",
        "\n",
        "print(\"Total persons created:\", Person.total_persons())\n"
      ],
      "metadata": {
        "colab": {
          "base_uri": "https://localhost:8080/"
        },
        "id": "0yk_RnLPvXtA",
        "outputId": "9485afd0-9f8a-4b92-e9a3-56a2743c0c6e"
      },
      "execution_count": 79,
      "outputs": [
        {
          "output_type": "stream",
          "name": "stdout",
          "text": [
            "Total persons created: 3\n"
          ]
        }
      ]
    },
    {
      "cell_type": "markdown",
      "source": [
        "9.Write a class Fraction with attributes numerator and denominator. Override the str method to display the\n",
        "fraction as \"numerator/denominator\"."
      ],
      "metadata": {
        "id": "JoAGgKknykL4"
      }
    },
    {
      "cell_type": "code",
      "source": [
        "class Fraction:\n",
        "  def __init__(self, numerator, denominator):\n",
        "    self.numerator = numerator\n",
        "    self.denominator = denominator\n",
        "\n",
        "  def __str__(self):\n",
        "    return f\"{self.numerator}/{self.denominator}\"\n",
        "\n",
        "# Example usage\n",
        "f1 = Fraction(3, 4)\n",
        "f2 = Fraction(5, 8)\n",
        "\n",
        "print(f1)\n",
        "print(f2)\n"
      ],
      "metadata": {
        "colab": {
          "base_uri": "https://localhost:8080/"
        },
        "id": "2NrY3NJLypSH",
        "outputId": "8226ae59-91fd-4d74-9c45-7f1052b2a67b"
      },
      "execution_count": 80,
      "outputs": [
        {
          "output_type": "stream",
          "name": "stdout",
          "text": [
            "3/4\n",
            "5/8\n"
          ]
        }
      ]
    },
    {
      "cell_type": "markdown",
      "source": [
        "10. Demonstrate operator overloading by creating a class Vector and overriding the add method to add two\n",
        "vectors."
      ],
      "metadata": {
        "id": "sD0YrYqRzW5Q"
      }
    },
    {
      "cell_type": "code",
      "source": [
        "class Vector:\n",
        "    def __init__(self, x, y):\n",
        "        self.x = x\n",
        "        self.y = y\n",
        "\n",
        "    def __add__(self, other):\n",
        "        # Overloads the + operator to add two vectors\n",
        "        return Vector(self.x + other.x, self.y + other.y)\n",
        "\n",
        "    def __str__(self):\n",
        "        return f\"Vector({self.x}, {self.y})\"\n",
        "\n",
        "# Example usage\n",
        "v1 = Vector(2, 3)\n",
        "v2 = Vector(4, 5)\n",
        "\n",
        "v3 = v1 + v2  # Calls v1.__add__(v2)\n",
        "print(v3)     # Output: Vector(6, 8)\n"
      ],
      "metadata": {
        "colab": {
          "base_uri": "https://localhost:8080/"
        },
        "id": "zu-nYnOPzlwX",
        "outputId": "dceffd68-f2f1-4d86-f65c-b2e3e5452d86"
      },
      "execution_count": 81,
      "outputs": [
        {
          "output_type": "stream",
          "name": "stdout",
          "text": [
            "Vector(6, 8)\n"
          ]
        }
      ]
    },
    {
      "cell_type": "markdown",
      "source": [
        "11. 11. Create a class Person with attributes name and age. Add a method greet() that prints \"Hello, my name is\n",
        "{name} and I am {age} years old.\""
      ],
      "metadata": {
        "id": "DczGZaiI08gY"
      }
    },
    {
      "cell_type": "code",
      "source": [
        "class Person:\n",
        "  def __init__(self,name,age):\n",
        "    self.name = name\n",
        "    self.age = age\n",
        "  def greet(self):\n",
        "    print(f\"Hello, my name is {self.name} and I am {self.age} years old.\")\n",
        "#usage\n",
        "person = Person(\"Suman\",24)\n",
        "person.greet()"
      ],
      "metadata": {
        "colab": {
          "base_uri": "https://localhost:8080/"
        },
        "id": "4GtgYEp10B4X",
        "outputId": "0b5d0038-7a7c-480c-aa2e-c8ae4f87d258"
      },
      "execution_count": 82,
      "outputs": [
        {
          "output_type": "stream",
          "name": "stdout",
          "text": [
            "Hello, my name is Suman and I am 24 years old.\n"
          ]
        }
      ]
    },
    {
      "cell_type": "markdown",
      "source": [
        "12. Implement a class Student with attributes name and grades. Create a method average_grade() to compute\n",
        "the average of the grades."
      ],
      "metadata": {
        "id": "Ceu-mBac2fty"
      }
    },
    {
      "cell_type": "code",
      "source": [
        "class Student:\n",
        "  def __init__(self,name,grades):\n",
        "    self.name = name\n",
        "    self.grades = grades\n",
        "  def average_grade(self):\n",
        "    return f'Average of the grades is:{sum(self.grades)/len(self.grades)}'"
      ],
      "metadata": {
        "id": "3eoB0w0_1y5Y"
      },
      "execution_count": 83,
      "outputs": []
    },
    {
      "cell_type": "code",
      "source": [
        "obj = Student('Suman',[65,78,34,35,54])\n",
        "obj.average_grade()"
      ],
      "metadata": {
        "colab": {
          "base_uri": "https://localhost:8080/",
          "height": 35
        },
        "id": "_l0xd49C36EI",
        "outputId": "2bea944c-be2f-47b4-f1ac-2cf635c9084e"
      },
      "execution_count": 84,
      "outputs": [
        {
          "output_type": "execute_result",
          "data": {
            "text/plain": [
              "'Average of the grades is:53.2'"
            ],
            "application/vnd.google.colaboratory.intrinsic+json": {
              "type": "string"
            }
          },
          "metadata": {},
          "execution_count": 84
        }
      ]
    },
    {
      "cell_type": "markdown",
      "source": [
        "13. Create a class Rectangle with methods set_dimensions() to set the dimensions and area() to calculate the\n",
        "area."
      ],
      "metadata": {
        "id": "1Imh8gHs4psg"
      }
    },
    {
      "cell_type": "code",
      "source": [
        "class Rectangle:\n",
        "    def __init__(self, length=0,width=0):\n",
        "        self.length = length\n",
        "        self.width = width\n",
        "\n",
        "    def set_dimensions(self, length, width):\n",
        "        if length >= 0 and width >= 0:\n",
        "            self.length = length\n",
        "            self.width = width\n",
        "        else:\n",
        "            print(\"Dimensions must be non-negative.\")\n",
        "\n",
        "    def area(self):\n",
        "        return f'area of rectange is:{self.length * self.width}'\n",
        "\n",
        "# Example usage\n",
        "rect1 = Rectangle(2,3)\n",
        "rect1.area()\n",
        "\n"
      ],
      "metadata": {
        "colab": {
          "base_uri": "https://localhost:8080/",
          "height": 35
        },
        "id": "IF-wrv3a6Q-w",
        "outputId": "012d229e-b3e6-499d-aaf0-5962eff9c48f"
      },
      "execution_count": 85,
      "outputs": [
        {
          "output_type": "execute_result",
          "data": {
            "text/plain": [
              "'area of rectange is:6'"
            ],
            "application/vnd.google.colaboratory.intrinsic+json": {
              "type": "string"
            }
          },
          "metadata": {},
          "execution_count": 85
        }
      ]
    },
    {
      "cell_type": "markdown",
      "source": [
        "14. Create a class Employee with a method calculate_salary() that computes the salary based on hours worked\n",
        "and hourly rate. Create a derived class Manager that adds a bonus to the salary."
      ],
      "metadata": {
        "id": "wcTXoq7c8bwh"
      }
    },
    {
      "cell_type": "code",
      "source": [
        "class Employee:\n",
        "  def __init__(self,name,hours_worked,hourly_rate):\n",
        "    self.name = name\n",
        "    self.hours_worked = hours_worked\n",
        "    self.hourly_rate = hourly_rate\n",
        "  def calculate_salary(self):\n",
        "    base_salary = self.hours_worked * self.hourly_rate\n",
        "    return base_salary\n",
        "#derived class\n",
        "class Manager(Employee):\n",
        "  def __init__(self,name,hours_worked,hourly_rate,bonus):\n",
        "    super().__init__(name,hours_worked,hourly_rate)\n",
        "    self.bonus = bonus\n",
        "  def calculate_salary(self):\n",
        "    base_salary = super().calculate_salary()\n",
        "    net_salary = base_salary + self.bonus\n",
        "    return net_salary\n",
        "#usage\n",
        "obj1 = Manager('Suman',5,5000,10000)\n",
        "print(f'Employee name is: {obj1.name} and his net salary is {obj1.calculate_salary()}')"
      ],
      "metadata": {
        "colab": {
          "base_uri": "https://localhost:8080/"
        },
        "id": "rgbHEZTI8rgI",
        "outputId": "6338c73b-1860-4862-eb9f-5484c0252563"
      },
      "execution_count": 86,
      "outputs": [
        {
          "output_type": "stream",
          "name": "stdout",
          "text": [
            "Employee name is: Suman and his net salary is 35000\n"
          ]
        }
      ]
    },
    {
      "cell_type": "markdown",
      "source": [
        "15. Create a class Product with attributes name, price, and quantity. Implement a method total_price() that\n",
        "calculates the total price of the product."
      ],
      "metadata": {
        "id": "1ETD3BwBB1gB"
      }
    },
    {
      "cell_type": "code",
      "source": [
        "class Product:\n",
        "  def __init__(self,name,price,quantity):\n",
        "    self.name = name\n",
        "    self.price = price\n",
        "    self.quantity = quantity\n",
        "  def total_price(self):\n",
        "    return f' Total price is: {self.price*self.quantity}'\n",
        "#usage\n",
        "obj = Product('Pen',10,5)\n",
        "obj.total_price()"
      ],
      "metadata": {
        "colab": {
          "base_uri": "https://localhost:8080/",
          "height": 35
        },
        "id": "mcL-_0mMRdtv",
        "outputId": "649cf409-dcb6-4d40-ec38-7f45a0196373"
      },
      "execution_count": 87,
      "outputs": [
        {
          "output_type": "execute_result",
          "data": {
            "text/plain": [
              "' Total price is: 50'"
            ],
            "application/vnd.google.colaboratory.intrinsic+json": {
              "type": "string"
            }
          },
          "metadata": {},
          "execution_count": 87
        }
      ]
    },
    {
      "cell_type": "markdown",
      "source": [
        "16. Create a class Animal with an abstract method sound(). Create two derived classes Cow and Sheep that\n",
        "implement the sound() method."
      ],
      "metadata": {
        "id": "Rv-vXU3ASgzI"
      }
    },
    {
      "cell_type": "code",
      "source": [
        "from abc import ABC, abstractmethod\n",
        "class Animal:\n",
        "  @abstractmethod\n",
        "  def sound(self):\n",
        "    pass\n",
        "class Cow(Animal):\n",
        "  def sound(self):\n",
        "    print(\"It is a cow sound\")\n",
        "class Sheep(Animal):\n",
        "  def sound(self):\n",
        "    print(\"It is a sheep sound\")\n",
        "#usage\n",
        "obj1 = Cow()\n",
        "obj1.sound()\n",
        "obj2 = Sheep()\n",
        "obj2.sound()\n"
      ],
      "metadata": {
        "colab": {
          "base_uri": "https://localhost:8080/"
        },
        "id": "t-N-2ChNSbaH",
        "outputId": "308fbfd2-4014-4013-9e9d-17248287c83c"
      },
      "execution_count": 88,
      "outputs": [
        {
          "output_type": "stream",
          "name": "stdout",
          "text": [
            "It is a cow sound\n",
            "It is a sheep sound\n"
          ]
        }
      ]
    },
    {
      "cell_type": "markdown",
      "source": [
        "17. Create a class Book with attributes title, author, and year_published. Add a method get_book_info() that\n",
        "returns a formatted string with the book's details."
      ],
      "metadata": {
        "id": "jDYfzPTHUwyx"
      }
    },
    {
      "cell_type": "code",
      "source": [
        "class Book:\n",
        "  def __init__(self,title,author,year_published):\n",
        "    self.title = title\n",
        "    self.author = author\n",
        "    self.year_published = year_published\n",
        "  def get_book_info(self):\n",
        "    return f'{self.title} by {self.author} published in {self.year_published}'\n",
        "#usage\n",
        "details = Book(\"Atomic Habbits\",\"Ruskin Bond\",2000)\n",
        "details.get_book_info()"
      ],
      "metadata": {
        "colab": {
          "base_uri": "https://localhost:8080/",
          "height": 35
        },
        "id": "RQJPjA0NTz3n",
        "outputId": "c884c6f4-9e37-4bb9-bd79-7b29940ad78d"
      },
      "execution_count": 89,
      "outputs": [
        {
          "output_type": "execute_result",
          "data": {
            "text/plain": [
              "'Atomic Habbits by Ruskin Bond published in 2000'"
            ],
            "application/vnd.google.colaboratory.intrinsic+json": {
              "type": "string"
            }
          },
          "metadata": {},
          "execution_count": 89
        }
      ]
    },
    {
      "cell_type": "markdown",
      "source": [
        "18.Create a class House with attributes address and price. Create a derived class Mansion that adds an\n",
        "attribute number_of_rooms."
      ],
      "metadata": {
        "id": "fl1Bd4yrUyrf"
      }
    },
    {
      "cell_type": "code",
      "source": [
        "#base class:\n",
        "class House:\n",
        "  def __init__(self,address,price):\n",
        "    self.address = address\n",
        "    self.price = price\n",
        "#derived class:\n",
        "class Mansion(House):\n",
        "  def __init__(self,address,price,number_of_rooms):\n",
        "    super().__init__(address,price)\n",
        "    self.number_of_rooms = number_of_rooms\n",
        "  def get_info(self):\n",
        "    return f' The Mansion address is {self.address},price is {self.price} and number of rooms is {self.number_of_rooms}'\n",
        "#usage\n",
        "obj = Mansion(\"187/1 MG road thakurpukur kolkata\",1000000000,20)\n",
        "obj.get_info()\n"
      ],
      "metadata": {
        "colab": {
          "base_uri": "https://localhost:8080/",
          "height": 35
        },
        "id": "S1RzfjzSWk1e",
        "outputId": "713e8dfa-bce0-4f52-c455-e74f0570135f"
      },
      "execution_count": 90,
      "outputs": [
        {
          "output_type": "execute_result",
          "data": {
            "text/plain": [
              "' The Mansion address is 187/1 MG road thakurpukur kolkata,price is 1000000000 and number of rooms is 20'"
            ],
            "application/vnd.google.colaboratory.intrinsic+json": {
              "type": "string"
            }
          },
          "metadata": {},
          "execution_count": 90
        }
      ]
    }
  ]
}