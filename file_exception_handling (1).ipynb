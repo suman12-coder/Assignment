{
  "cells": [
    {
      "cell_type": "markdown",
      "source": [
        "#File Handling\n"
      ],
      "metadata": {
        "id": "tL2wNya6Rw9O"
      },
      "id": "tL2wNya6Rw9O"
    },
    {
      "cell_type": "markdown",
      "source": [
        "1. What is the difference between interpreted and compiled languages?\n",
        "  - Compiled languages translate code to machine language *before* execution, making them faster (e.g., C, C++).\n",
        "  - Interpre-ted languages process code *line by line* during runtime, making them more flexible (e.g., Python, JavaScript).\n",
        " - Some languages use both approaches for a balance of speed and flexibility (e.g., Java)."
      ],
      "metadata": {
        "id": "Z_hv_-8dRteq"
      },
      "id": "Z_hv_-8dRteq"
    },
    {
      "cell_type": "markdown",
      "source": [
        "2.  What is exception handling in Python?\n",
        " -  In Python an exception is an event that occurs during program executon that disrupts the regular flow of code."
      ],
      "metadata": {
        "id": "6OmzHpOpRovl"
      },
      "id": "6OmzHpOpRovl"
    },
    {
      "cell_type": "markdown",
      "source": [
        "3. What is the purpose of the finally block in exception handling?\n",
        " - The `finally` block ensures that specific code runs no matter what—whether an exception occurs or not.\n",
        "It’s perfect for cleanup actions like closing files, releasing resources, or ending database connections.\n",
        "Think of it as your safety net that always catches a task before the program moves on."
      ],
      "metadata": {
        "id": "k_EVq84hRjrN"
      },
      "id": "k_EVq84hRjrN"
    },
    {
      "cell_type": "markdown",
      "source": [
        "4.What is logging in Python?\n",
        "\n",
        " -  Logging records the state and flow of your program or code. It is usefull for understanding,monitoring and debugging of your code and also it shows how program behaves over time."
      ],
      "metadata": {
        "id": "z9z3mduwRf8s"
      },
      "id": "z9z3mduwRf8s"
    },
    {
      "cell_type": "markdown",
      "source": [
        "5.What is the significance of the __del__ method in Python?\n",
        " -  The `__del__` method in Python is a *destructor*—it’s automatically called when an object is about to be destroyed.\n",
        "\n",
        "Here’s why it matters:\n",
        "- It helps **clean up resources**, like closing files or releasing memory.\n",
        "- But it’s **not always reliable**, especially with circular references or abrupt program terminations.\n"
      ],
      "metadata": {
        "id": "7enhMSXWRblV"
      },
      "id": "7enhMSXWRblV"
    },
    {
      "cell_type": "markdown",
      "source": [
        " 6. What is the difference between import and from ... import in Python?\n",
        "- In Python, both `import` and `from ... import` bring external modules into your code—but they differ in *how* you access the module's contents.\n",
        "\n",
        "`import module`\n",
        "- Loads the entire module.\n",
        "- You access functions/classes using the module name: `module.function()`\n",
        "- Example:\n",
        "\n",
        "  import math\n",
        "  print(math.sqrt(16))\n",
        "\n",
        "`from module import name`\n",
        "- Loads specific items from a module.\n",
        "- You use the item directly without the module prefix: `function()`\n",
        "- Example:\n",
        "  from math import sqrt\n",
        "  print(sqrt(16))\n"
      ],
      "metadata": {
        "id": "FYXnoNuJRWJu"
      },
      "id": "FYXnoNuJRWJu"
    },
    {
      "cell_type": "markdown",
      "source": [
        "7. How can you handle multiple exceptions in Python?\n",
        " -  Handling Multiple Exceptions in Python:\n",
        "\n",
        "    Python provides flexible mechanisms to manage different errors that may arise during program execution. Exception handling allows a    program to respond gracefully to unexpected events, preventing crashes and improving user experience.\n",
        "\n",
        " 1. **Multiple `except` Blocks**:\n",
        "You can catch and handle various exception types separately by writing multiple `except` clauses after a `try` block. Each block targets a specific error:\n",
        "\n",
        "try:\n",
        "    # code that might raise errors\n",
        "except ValueError:\n",
        "    # handles value errors\n",
        "except ZeroDivisionError:\n",
        "    # handles division by zero\n",
        "\n",
        " 2. **Tuple of Exceptions**:\n",
        "If multiple exceptions require the same handling logic, group them in a tuple:\n",
        "\n",
        "try:\n",
        "    # risky code\n",
        "except (TypeError, IndexError) as error:\n",
        "    # shared handling\n",
        "\n",
        "3. **Generic `except` Block**:\n",
        "To catch any exception not covered by specific types, use a general `except Exception` clause:\n",
        "\n",
        "try:\n",
        "    # risky code\n",
        "except Exception as e:\n",
        "    # catch-all for unexpected errors\n",
        "\n"
      ],
      "metadata": {
        "id": "gZj_zse7RNRc"
      },
      "id": "gZj_zse7RNRc"
    },
    {
      "cell_type": "markdown",
      "source": [
        "8. What is the purpose of the with statement when handling files in Python?\n",
        " - The `with` statement in Python is used for **efficient resource management**, especially when working with files. It ensures the file is **automatically closed**, even if an error occurs during reading or writing.This prevents **resource leaks** and improves code reliability.It also makes code **cleaner and more readable**.\n"
      ],
      "metadata": {
        "id": "25rlgHYwRHN3"
      },
      "id": "25rlgHYwRHN3"
    },
    {
      "cell_type": "markdown",
      "source": [
        "9. What is the difference between multithreading and multiprocessing?\n",
        "\n",
        "  1.Multithreading uses multiple threads within a single process and Multiprocessing involves multiple independent processes.\n",
        "\n",
        " 2.Threads share the same memory space and Processes have separate memory spaces.\n",
        "\n",
        "  3.Multithreading is efficient for I/O-bound tasks where Multiprocessing is better for CPU-bound tasks.\n",
        "\n",
        "  4.Threads are lighter and faster to create where Processes are heavier but more stable."
      ],
      "metadata": {
        "id": "G4iAYt5HRDgd"
      },
      "id": "G4iAYt5HRDgd"
    },
    {
      "cell_type": "markdown",
      "source": [
        "10. What are the advantages of using logging in a program?\n",
        "-  Benefits of Logging in Python:\n",
        "\n",
        "   1.Tracks Program Execution Helps monitor the flow of your code, making debugging easier.\n",
        "\n",
        "   2.Records Errors and Exceptions Logs critical issues without crashing the program.\n",
        "\n",
        "   3.Provides Historical Data Keeps a record of events, useful for audits and post-mortem analysis.\n",
        "\n",
        "   4.Improves Debugging Offers more insight than print statements—especially in large systems.\n",
        "\n",
        "   5.Supports Different Severity Levels Like INFO, WARNING, ERROR, and CRITICAL—makes filtering easy.\n",
        "\n",
        "   6.Works Well in Production Logging can capture details silently without affecting user experience.\n",
        "\n",
        "   7.Enables Remote Monitoring Logs can be centralized and viewed from different locations or systems."
      ],
      "metadata": {
        "id": "a0KbB2HGQ_Fp"
      },
      "id": "a0KbB2HGQ_Fp"
    },
    {
      "cell_type": "markdown",
      "source": [
        "11. What is memory management in Python?\n",
        "--> Memory management in Python refers to the way Python handles the allocation, usage, and deallocation of memory during program execution."
      ],
      "metadata": {
        "id": "cnx2iGzDQ7kE"
      },
      "id": "cnx2iGzDQ7kE"
    },
    {
      "cell_type": "markdown",
      "source": [
        "12. What are the basic steps involved in exception handling in Python?\n",
        "- The basic steps in Python exception handling:\n",
        "  1. `try` → Place risky code here.\n",
        "  2. `except` → Catch and handle errors.\n",
        "  3. `else` → Runs if no errors occurred.\n",
        "  4. `finally` → Runs no matter what, for cleanup.\n",
        "  5. `raise` → Throw exceptions manually when needed."
      ],
      "metadata": {
        "id": "Fjc4-T0iQ3Pm"
      },
      "id": "Fjc4-T0iQ3Pm"
    },
    {
      "cell_type": "markdown",
      "source": [
        "13. Why is memory management important in Python?\n",
        "- The importants of memory management are :\n",
        "\n",
        "1.Prevents memory leaks and crashes.\n",
        "\n",
        "2.Boosts performance and responsiveness.\n",
        "\n",
        "3.Supports large-scale and multitasking programs.\n",
        "\n",
        "4.Optimizes usage in limited-resource systems.\n",
        "\n",
        "5.Keeps code clean, stable, and maintainable."
      ],
      "metadata": {
        "id": "nx-HXEslQvju"
      },
      "id": "nx-HXEslQvju"
    },
    {
      "cell_type": "markdown",
      "source": [
        "14. What is the role of `try` and `except` in exception handling?\n",
        "- Role of try and except :\n",
        "\n",
        "     1.try Block Contains code that might raise an exception—Python tests it here first.\n",
        "     \n",
        "     2.except Block Catches and handles the exception if one occurs, preventing the program from crashing."
      ],
      "metadata": {
        "id": "-kE_s9LnQqLa"
      },
      "id": "-kE_s9LnQqLa"
    },
    {
      "cell_type": "markdown",
      "source": [
        "15. How does Python's garbage collection system work?\n",
        "- how Python's garbage collection works:\n",
        "1. Python uses reference counting to track object usage.\n",
        "2. If an object’s count drops to zero, it's deleted.\n",
        "3. It handles reference cycles that can’t be cleaned by counting alone.\n",
        "4. The `gc` module provides tools to manage garbage collection manually.\n",
        "5. Python uses a generational approach to optimize performance.\n",
        "6. Objects move across generations based on their lifespan.\n",
        "7. Collection is automatic, but you can control it if needed.\n",
        "\n"
      ],
      "metadata": {
        "id": "1v3Ikmg1Ql8O"
      },
      "id": "1v3Ikmg1Ql8O"
    },
    {
      "cell_type": "markdown",
      "source": [
        "16. What is the purpose of the `else` block in exception handling?\n",
        "- Purpose of the else Block:\n",
        "\n",
        "    1.Executes when code in try runs successfully—no errors thrown.\n",
        "\n",
        "    2.Keeps \"normal\" logic separate from error handling.\n",
        "\n",
        "    3.Improves code clarity by clearly marking success conditions.\n",
        "\n",
        "    4.Skips execution if any exception is raised.\n",
        "    \n",
        "    5.Often used for actions that depend on successful try, like saving results or continuing a process."
      ],
      "metadata": {
        "id": "XsC38tFPQZrJ"
      },
      "id": "XsC38tFPQZrJ"
    },
    {
      "cell_type": "markdown",
      "source": [
        "17. What are the common logging levels in Python?\n",
        "  - Logging Levels in Python:\n",
        "- DEBUG – Detailed info, useful for diagnosing problems during development.\n",
        "\n",
        "- INFO – General confirmations that things are working as expected.\n",
        "\n",
        "- WARNING – Something unexpected happened, but the program is still running.\n",
        "\n",
        "- ERROR – A serious issue occurred, and part of the program couldn’t execute.\n",
        "\n",
        "- CRITICAL – A major failure, often indicating that the program may not continue."
      ],
      "metadata": {
        "id": "tciLJoYXQQ4e"
      },
      "id": "tciLJoYXQQ4e"
    },
    {
      "cell_type": "markdown",
      "source": [
        "18. What is the difference between `os.fork()` and `multiprocessing` in Python?\n",
        "-\n",
        "1. Platform Support:\n",
        "   - `os.fork()` works only on Unix/Linux systems.\n",
        "   - `multiprocessing` is cross-platform (Windows, macOS, Linux).\n",
        "\n",
        "2. Level of Abstraction:\n",
        "   - `os.fork()` is low-level and requires manual process control.\n",
        "   - `multiprocessing` is high-level and easier to use.\n",
        "\n",
        "3. Memory Handling:\n",
        "   - `os.fork()` may share memory between parent and child processes.\n",
        "   - `multiprocessing` provides isolated memory per process.\n",
        "\n",
        "4. Error Handling:\n",
        "   - `os.fork()` demands manual error checks and recovery.\n",
        "   - `multiprocessing` offers built-in error handling features.\n",
        "\n",
        "5. Use Case:\n",
        "   - Use `os.fork()` for custom process behavior in Unix.\n",
        "   - Use `multiprocessing` for structured parallelism and better portability."
      ],
      "metadata": {
        "id": "qIhQ8N4LQIvN"
      },
      "id": "qIhQ8N4LQIvN"
    },
    {
      "cell_type": "markdown",
      "source": [
        "19. What is the importance of closing a file in Python?\n",
        "-\n",
        "1. Closing a file releases system resources like memory and file handles.\n",
        "2. It ensures that all buffered data is written to the file.\n",
        "3. Helps prevent file corruption and loss of data.\n",
        "4. Avoids hitting the system’s file-open limit.\n",
        "5. It’s a good programming practice for clean and readable code.\n"
      ],
      "metadata": {
        "id": "uVaqOFemP6tv"
      },
      "id": "uVaqOFemP6tv"
    },
    {
      "cell_type": "markdown",
      "source": [
        "20. What is the difference between `file.read()` and `file.readline()` in Python?\n",
        "-\n",
        " `file.read()`:\n",
        " - reads the **entire file** content or a specified number of characters.\n",
        " -  It returns all data as a **single string**.\n",
        " -  Best used when you want to grab everything at once.\n",
        "-\n",
        "`file.readline()`\n",
        " -  reads **only one line** from the file.\n",
        " -  It returns each line as a **string**, one call at a time.\n",
        " -  Ideal for reading files **line-by-line**, especially in loops.\n",
        "\n"
      ],
      "metadata": {
        "id": "CJzOpnPnP1Nl"
      },
      "id": "CJzOpnPnP1Nl"
    },
    {
      "cell_type": "markdown",
      "source": [
        "21. What is the `logging` module in Python used for?\n",
        "- The `logging` module in Python is used for **tracking events** that happen when your code runs.\n",
        "\n",
        "1. It records messages that help debug or monitor the program’s behavior.\n",
        "\n",
        "2. Can log info like errors, warnings, and debugging details.\n",
        "\n",
        "3. Messages can be saved to files or printed to the console.\n",
        "\n",
        "4. Helps identify issues without stopping program execution.\n",
        "\n",
        "5. Supports different severity levels: DEBUG, INFO, WARNING, ERROR, CRITICAL.\n",
        "\n",
        "6. Makes it easier to manage logs in large or complex applications.\n",
        "\n"
      ],
      "metadata": {
        "id": "Hx0IaHVuH2A6"
      },
      "id": "Hx0IaHVuH2A6"
    },
    {
      "cell_type": "markdown",
      "source": [
        "22. What is the `os` module in Python used for in file handling?\n",
        "- The `os` module in Python gives you powerful tools to interact with the operating system—especially when handling files and directories.\n",
        " 1. Lets you create, rename, and delete files or folders.  \n",
        " 2. Helps navigate your file system using paths and directories.  \n",
        " 3. Supports checking if a file or directory exists.  \n",
        " 4. Can fetch info like current working directory or environment variables.  \n",
        " 5. Works across platforms (Windows, Linux, etc.) for compatibility.  \n",
        " 6. Useful functions include `os.remove()`, `os.rename()`, and `os.path.exists()`."
      ],
      "metadata": {
        "id": "aCaxf0jMHjTF"
      },
      "id": "aCaxf0jMHjTF"
    },
    {
      "cell_type": "markdown",
      "source": [
        "23. What are the challenges associated with memory management in Python?  \n",
        "-  Python's memory management is mostly automatic, thanks to its built-in garbage collector—but it’s not without a few headaches.\n",
        "\n",
        "1. **Garbage collection** can sometimes cause unexpected delays due to automatic cleanup.  \n",
        "2. **Memory leaks** may occur with lingering references or complex object cycles.  \n",
        "3. **Handling large datasets** can be inefficient without optimization techniques.  \n",
        "4. **Global Interpreter Lock (GIL)** limits concurrency in multi-threaded programs.  \n",
        "5. **Manual memory control** is limited compared to low-level languages like C/C++.  \n",
        "6. **Object overhead** from Python's dynamic typing can consume more memory.  \n",
        "\n"
      ],
      "metadata": {
        "id": "_SHxdhCKeA-5"
      },
      "id": "_SHxdhCKeA-5"
    },
    {
      "cell_type": "markdown",
      "source": [
        "24. How do you raise an exception manually in Python?  \n",
        "- I can raise an exception manually in Python using the `raise` statement.\n",
        " 1. Use `raise` followed by an exception type to trigger an error.  \n",
        " 2. Common exceptions include `ValueError`, `TypeError`, `RuntimeError`, etc.  \n",
        "  3. You can add a custom error message for clarity.  \n",
        " 4. Works inside conditional logic to catch invalid situations.  \n",
        " 5. Helps stop execution when something goes wrong intentionally.  \n",
        " 6. Example: `raise ValueError(\"Invalid input!\")`\n",
        "\n"
      ],
      "metadata": {
        "id": "4LFOBfTOeA4x"
      },
      "id": "4LFOBfTOeA4x"
    },
    {
      "cell_type": "markdown",
      "source": [
        "25. Why is it important to use multithreading in certain applications?\n",
        "-  Multithreading is like giving your program multiple hands to work with—it boosts efficiency and responsiveness.\n",
        "\n",
        " 1. Enables **concurrent execution** of tasks, improving performance.  \n",
        " 2. Keeps applications **responsive**, especially with I/O-heavy operations.  \n",
        " 3. Ideal for tasks like file downloads, data processing, or user interaction.  \n",
        " 4. Makes better use of **CPU resources** through parallelism.  \n",
        " 5. Helps manage **multiple tasks** without blocking the main thread.  \n",
        " 6. Useful in creating **real-time or interactive** applications.\n",
        "\n"
      ],
      "metadata": {
        "id": "1kxhCpgIeAtT"
      },
      "id": "1kxhCpgIeAtT"
    },
    {
      "cell_type": "markdown",
      "source": [
        "#Practical Question:"
      ],
      "metadata": {
        "id": "T905yxvmgJLw"
      },
      "id": "T905yxvmgJLw"
    },
    {
      "cell_type": "markdown",
      "source": [
        "1. How can you open a file for writing in Python and write a string to it?"
      ],
      "metadata": {
        "id": "wtAuI63LUuWV"
      },
      "id": "wtAuI63LUuWV"
    },
    {
      "cell_type": "code",
      "source": [
        "with open(\"example1.txt\", \"w\") as file:\n",
        "    file.write(\"Hello, Suman!\\n\")"
      ],
      "metadata": {
        "id": "h8TMJ_A2gHuk"
      },
      "id": "h8TMJ_A2gHuk",
      "execution_count": null,
      "outputs": []
    },
    {
      "cell_type": "markdown",
      "source": [
        "2. Write a Python program to read the contents of a file and print each line.  "
      ],
      "metadata": {
        "id": "TUtrfcBcVL_c"
      },
      "id": "TUtrfcBcVL_c"
    },
    {
      "cell_type": "code",
      "source": [
        "with open(\"example.txt\", \"r\") as file:\n",
        "    for line in file:\n",
        "        print(line.strip())"
      ],
      "metadata": {
        "id": "Auo8VLTIVKAN"
      },
      "id": "Auo8VLTIVKAN",
      "execution_count": null,
      "outputs": []
    },
    {
      "cell_type": "markdown",
      "source": [
        "3. How would you handle a case where the file doesn't exist while trying to open it for reading?"
      ],
      "metadata": {
        "id": "NJBN8cKOVoLM"
      },
      "id": "NJBN8cKOVoLM"
    },
    {
      "cell_type": "code",
      "source": [
        "#we can handle this case with `try-except` block.\n",
        "try:\n",
        "  with open('eg.txt','r') as file:\n",
        "    d = file.read()\n",
        "    print('d')\n",
        "except FileNotFoundError as e :\n",
        "  print('file does not exist ',e)"
      ],
      "metadata": {
        "colab": {
          "base_uri": "https://localhost:8080/"
        },
        "id": "dNIFrRKcV7ry",
        "outputId": "7ba875ce-a505-48f1-f572-d07900532149"
      },
      "id": "dNIFrRKcV7ry",
      "execution_count": null,
      "outputs": [
        {
          "output_type": "stream",
          "name": "stdout",
          "text": [
            "file does not exist  [Errno 2] No such file or directory: 'eg.txt'\n"
          ]
        }
      ]
    },
    {
      "cell_type": "markdown",
      "source": [
        "4. Write a Python script that reads from one file and writes its content to another file."
      ],
      "metadata": {
        "id": "g4aN3-Z2XdGF"
      },
      "id": "g4aN3-Z2XdGF"
    },
    {
      "cell_type": "code",
      "source": [
        "with open(\"source.txt\", \"r\") as source, open(\"destination.txt\", \"w\") as dest:\n",
        "    for line in source:\n",
        "        dest.write(line)"
      ],
      "metadata": {
        "id": "EA-NobLIXQ6b"
      },
      "id": "EA-NobLIXQ6b",
      "execution_count": null,
      "outputs": []
    },
    {
      "cell_type": "markdown",
      "source": [
        "5. How would you catch and handle division by zero error in Python?  \n"
      ],
      "metadata": {
        "id": "AZDcF2nBZAVC"
      },
      "id": "AZDcF2nBZAVC"
    },
    {
      "cell_type": "code",
      "source": [
        "try:\n",
        "    result = 10 / 0\n",
        "except ZeroDivisionError as e:\n",
        "    print(\"Error: Cannot divide by zero.\",e)"
      ],
      "metadata": {
        "colab": {
          "base_uri": "https://localhost:8080/"
        },
        "id": "PJDXNSgkXz7a",
        "outputId": "dd15d357-7a6b-468a-b3e5-b577f8ba46de"
      },
      "id": "PJDXNSgkXz7a",
      "execution_count": null,
      "outputs": [
        {
          "output_type": "stream",
          "name": "stdout",
          "text": [
            "Error: Cannot divide by zero. division by zero\n"
          ]
        }
      ]
    },
    {
      "cell_type": "markdown",
      "source": [
        "6. Write a Python program that logs an error message to a log file when a division by zero exception occurs."
      ],
      "metadata": {
        "id": "kgwrGLT_Zdas"
      },
      "id": "kgwrGLT_Zdas"
    },
    {
      "cell_type": "code",
      "source": [
        "import logging\n",
        "logging.basicConfig(filename=\"error_log.txt\", level=logging.ERROR)\n",
        "\n",
        "try:\n",
        "  result = 10 / 0\n",
        "except ZeroDivisionError as e:\n",
        "  logging.error(\"Division by zero occurred: %s\", e)"
      ],
      "metadata": {
        "colab": {
          "base_uri": "https://localhost:8080/"
        },
        "id": "HFe9PmQkZR0Z",
        "outputId": "40be5f50-8b98-4b29-af9b-0395d0b5330d"
      },
      "id": "HFe9PmQkZR0Z",
      "execution_count": null,
      "outputs": [
        {
          "output_type": "stream",
          "name": "stderr",
          "text": [
            "ERROR:root:Division by zero occurred: division by zero\n"
          ]
        }
      ]
    },
    {
      "cell_type": "markdown",
      "source": [
        "7. How do you log information at different levels (INFO, ERROR, WARNING) in Python using the logging module?  "
      ],
      "metadata": {
        "id": "pKMVm08laUMx"
      },
      "id": "pKMVm08laUMx"
    },
    {
      "cell_type": "code",
      "source": [
        "\n",
        "import logging\n",
        "\n",
        "logging.basicConfig(level=logging.DEBUG, format=\"%(levelname)s: %(message)s\")\n",
        "\n",
        "logging.debug(\"This is a debug message\")\n",
        "logging.info(\"This is an info message\")\n",
        "logging.warning(\"This is a warning message\")\n",
        "logging.error(\"This is an error message\")\n",
        "logging.critical(\"This is a critical message\")\n"
      ],
      "metadata": {
        "colab": {
          "base_uri": "https://localhost:8080/"
        },
        "id": "EUTr-OyOaYUX",
        "outputId": "ed161884-8028-4340-a4f7-ffd08966dc6d"
      },
      "id": "EUTr-OyOaYUX",
      "execution_count": null,
      "outputs": [
        {
          "output_type": "stream",
          "name": "stderr",
          "text": [
            "WARNING:root:This is a warning message\n",
            "ERROR:root:This is an error message\n",
            "CRITICAL:root:This is a critical message\n"
          ]
        }
      ]
    },
    {
      "cell_type": "markdown",
      "source": [
        "8. Write a program to handle a file opening error using exception handling.  \n"
      ],
      "metadata": {
        "id": "JKaLqzadbcGE"
      },
      "id": "JKaLqzadbcGE"
    },
    {
      "cell_type": "code",
      "source": [
        "filename = \"nonexistent.txt\"\n",
        "\n",
        "try:\n",
        "    with open(filename, \"r\") as file:\n",
        "        content = file.read()\n",
        "        print(content)\n",
        "except FileNotFoundError:\n",
        "    print(f\"Error: The file '{filename}' was not found.\")\n",
        "except IOError:\n",
        "    print(f\"Error: An I/O error occurred while accessing '{filename}'.\")"
      ],
      "metadata": {
        "colab": {
          "base_uri": "https://localhost:8080/"
        },
        "id": "-PzbSf-ybj67",
        "outputId": "d1fcb82d-1837-40c3-8a61-6fd8c0c2b8bb"
      },
      "id": "-PzbSf-ybj67",
      "execution_count": null,
      "outputs": [
        {
          "output_type": "stream",
          "name": "stdout",
          "text": [
            "Error: The file 'nonexistent.txt' was not found.\n"
          ]
        }
      ]
    },
    {
      "cell_type": "markdown",
      "source": [
        "9. How can you read a file line by line and store its content in a list in Python?  "
      ],
      "metadata": {
        "id": "0kjSStfUb-jj"
      },
      "id": "0kjSStfUb-jj"
    },
    {
      "cell_type": "code",
      "source": [
        "with open(\"example.txt\", \"r\") as file:\n",
        "  lines = [line.strip() for line in file]"
      ],
      "metadata": {
        "id": "b5ZPAPwtcDRi"
      },
      "id": "b5ZPAPwtcDRi",
      "execution_count": null,
      "outputs": []
    },
    {
      "cell_type": "markdown",
      "source": [
        "10. How can you append data to an existing file in Python?  "
      ],
      "metadata": {
        "id": "gXwyShjSc4yk"
      },
      "id": "gXwyShjSc4yk"
    },
    {
      "cell_type": "code",
      "source": [
        "with open(\"example1.txt\", \"a\") as file:\n",
        "    file.write(\"This line will be added at the end.\\n\")"
      ],
      "metadata": {
        "id": "F0a_bQ6Uhqm-"
      },
      "id": "F0a_bQ6Uhqm-",
      "execution_count": null,
      "outputs": []
    },
    {
      "cell_type": "markdown",
      "source": [
        "11. Write a Python program that uses a try-except block to handle an error when attempting to access a dictionary key that doesn't exist.  "
      ],
      "metadata": {
        "id": "maR_wW9Edzcx"
      },
      "id": "maR_wW9Edzcx"
    },
    {
      "cell_type": "code",
      "source": [
        "data = {\"name\": \"Suman\", \"language\": \"Python\"}\n",
        "\n",
        "try:\n",
        "    value = data[\"age\"]\n",
        "    print(f\"Age: {value}\")\n",
        "except KeyError as e :\n",
        "    print(\"Error: The key 'age' does not exist in the dictionary.\",e)"
      ],
      "metadata": {
        "colab": {
          "base_uri": "https://localhost:8080/"
        },
        "id": "x46hLlwOc3_u",
        "outputId": "b030e690-f346-4684-a6da-0aa95fc7c9a5"
      },
      "id": "x46hLlwOc3_u",
      "execution_count": null,
      "outputs": [
        {
          "output_type": "stream",
          "name": "stdout",
          "text": [
            "Error: The key 'age' does not exist in the dictionary. 'age'\n"
          ]
        }
      ]
    },
    {
      "cell_type": "markdown",
      "source": [
        "12. Write a program that demonstrates using multiple except blocks to handle different types of exceptions.  \n"
      ],
      "metadata": {
        "id": "JyN12AHseeg9"
      },
      "id": "JyN12AHseeg9"
    },
    {
      "cell_type": "code",
      "source": [
        "try:\n",
        "  number = int(\"abc\")      # Raises ValueError\n",
        "  result = 10 / 0          # Raises ZeroDivisionError\n",
        "  value = {\"name\": \"Suman\"}[\"age\"]  # Raises KeyError\n",
        "except ValueError:\n",
        "  print(\"Error: Invalid conversion to integer.\")\n",
        "except ZeroDivisionError:\n",
        "  print(\"Error: Division by zero is not allowed.\")\n",
        "except KeyError:\n",
        "  print(\"Error: Dictionary key not found.\")"
      ],
      "metadata": {
        "colab": {
          "base_uri": "https://localhost:8080/"
        },
        "id": "Quk5UpQIeYAg",
        "outputId": "9656484c-3ebc-44bc-9bc6-acd648c2b3a4"
      },
      "id": "Quk5UpQIeYAg",
      "execution_count": null,
      "outputs": [
        {
          "output_type": "stream",
          "name": "stdout",
          "text": [
            "Error: Invalid conversion to integer.\n"
          ]
        }
      ]
    },
    {
      "cell_type": "markdown",
      "source": [
        "13. How would you check if a file exists before attempting to read it in Python?  "
      ],
      "metadata": {
        "id": "WLizo-0Ififd"
      },
      "id": "WLizo-0Ififd"
    },
    {
      "cell_type": "code",
      "source": [
        "import os\n",
        "\n",
        "filename = \"example.txt\"\n",
        "if os.path.exists(filename):\n",
        "    with open(filename, \"r\") as file:\n",
        "        print(file.read())\n",
        "else:\n",
        "    print(f\"File '{filename}' does not exist.\")\n"
      ],
      "metadata": {
        "colab": {
          "base_uri": "https://localhost:8080/"
        },
        "id": "AsetNj-6fAbU",
        "outputId": "fb9846fd-373a-40a6-e7fb-feddd94ca3d4"
      },
      "id": "AsetNj-6fAbU",
      "execution_count": null,
      "outputs": [
        {
          "output_type": "stream",
          "name": "stdout",
          "text": [
            "Hello, Suman!\n",
            "This line will be added at the end.\n",
            "This line will be added at the end.This line will be added at the end.\n"
          ]
        }
      ]
    },
    {
      "cell_type": "markdown",
      "source": [
        "14. Write a program that uses the logging module to log both informational and error messages.  "
      ],
      "metadata": {
        "id": "39f3c4cfgCjD"
      },
      "id": "39f3c4cfgCjD"
    },
    {
      "cell_type": "code",
      "source": [
        "import logging\n",
        "\n",
        "# Configure logging\n",
        "logging.basicConfig(filename=\"app_log.txt\", level=logging.INFO,format=\"%(asctime)s - %(levelname)s - %(message)s\")\n",
        "\n",
        "# Log informational message\n",
        "logging.info(\"Program started successfully.\")\n",
        "\n",
        "try:\n",
        "    result = 10 / 0  # Intentional error for demonstration\n",
        "except ZeroDivisionError as e:\n",
        "    logging.error(\"Division by zero error: %s\", e)\n",
        "\n",
        "logging.info(\"Program finished execution.\")"
      ],
      "metadata": {
        "colab": {
          "base_uri": "https://localhost:8080/"
        },
        "id": "T_qUg9AXgJtK",
        "outputId": "5e66a415-f665-46ed-e0c2-0ec1a0cc0d1a"
      },
      "id": "T_qUg9AXgJtK",
      "execution_count": null,
      "outputs": [
        {
          "output_type": "stream",
          "name": "stderr",
          "text": [
            "ERROR:root:Division by zero error: division by zero\n"
          ]
        }
      ]
    },
    {
      "cell_type": "markdown",
      "source": [
        "15. Write a Python program that prints the content of a file and handles the case when the file is empty.  "
      ],
      "metadata": {
        "id": "TfuvCqTeg_VP"
      },
      "id": "TfuvCqTeg_VP"
    },
    {
      "cell_type": "code",
      "source": [
        "filename = \"example1.txt\"\n",
        "\n",
        "try:\n",
        "    with open(filename, \"r\") as file:\n",
        "        content = file.read()\n",
        "        if content:\n",
        "            print(\"File content:\\n\", content)\n",
        "        else:\n",
        "            print(\"The file is empty.\")\n",
        "except FileNotFoundError:\n",
        "    print(f\"Error: File '{filename}' not found.\")\n",
        "except IOError:\n",
        "    print(f\"Error: Could not read from '{filename}'.\")"
      ],
      "metadata": {
        "colab": {
          "base_uri": "https://localhost:8080/"
        },
        "id": "Rpayc45-g0dG",
        "outputId": "87dbe387-e7b5-4eba-89e4-3726e1f998c5"
      },
      "id": "Rpayc45-g0dG",
      "execution_count": null,
      "outputs": [
        {
          "output_type": "stream",
          "name": "stdout",
          "text": [
            "File content:\n",
            " Hello, Suman!\n",
            "This line will be added at the end.\n",
            "\n"
          ]
        }
      ]
    },
    {
      "cell_type": "markdown",
      "source": [
        "16. Demonstrate how to use memory profiling to check the memory usage of a small program.  "
      ],
      "metadata": {
        "id": "hjp1pkwGiUVN"
      },
      "id": "hjp1pkwGiUVN"
    },
    {
      "cell_type": "code",
      "source": [
        "!pip install memory-profiler\n",
        "from memory_profiler import profile\n",
        "\n",
        "@profile\n",
        "def do_work():\n",
        "    data = [x * x for x in range(10)]\n",
        "    return data\n",
        "do_work()"
      ],
      "metadata": {
        "colab": {
          "base_uri": "https://localhost:8080/"
        },
        "id": "mRkrl9C-kOFX",
        "outputId": "b7c04696-6dab-47c9-b64b-3651adf1cb63"
      },
      "id": "mRkrl9C-kOFX",
      "execution_count": null,
      "outputs": [
        {
          "output_type": "stream",
          "name": "stdout",
          "text": [
            "Requirement already satisfied: memory-profiler in /usr/local/lib/python3.11/dist-packages (0.61.0)\n",
            "Requirement already satisfied: psutil in /usr/local/lib/python3.11/dist-packages (from memory-profiler) (5.9.5)\n",
            "ERROR: Could not find file /tmp/ipython-input-41-18426433.py\n"
          ]
        },
        {
          "output_type": "execute_result",
          "data": {
            "text/plain": [
              "[0, 1, 4, 9, 16, 25, 36, 49, 64, 81]"
            ]
          },
          "metadata": {},
          "execution_count": 41
        }
      ]
    },
    {
      "cell_type": "markdown",
      "source": [
        "17. Write a Python program to create and write a list of numbers to a file, one number per line."
      ],
      "metadata": {
        "id": "69Lc33ozk4Ea"
      },
      "id": "69Lc33ozk4Ea"
    },
    {
      "cell_type": "code",
      "source": [
        "numbers = [1, 2, 3, 4, 5]\n",
        "\n",
        "with open(\"numbers.txt\", \"w\") as file:\n",
        "    for num in numbers:\n",
        "        file.write(f\"{num}\\n\")"
      ],
      "metadata": {
        "id": "pKvW-XuYkjKf"
      },
      "id": "pKvW-XuYkjKf",
      "execution_count": null,
      "outputs": []
    },
    {
      "cell_type": "markdown",
      "source": [
        "18. How would you implement a basic logging setup that logs to a file with rotation after 1MB?"
      ],
      "metadata": {
        "id": "wK8RbmQIlcG6"
      },
      "id": "wK8RbmQIlcG6"
    },
    {
      "cell_type": "code",
      "source": [
        "import logging\n",
        "from logging.handlers import RotatingFileHandler\n",
        "\n",
        "# Configure rotating log handler\n",
        "log_handler = RotatingFileHandler(\"app.log\", maxBytes=1_000_000, backupCount=3)\n",
        "log_handler.setLevel(logging.INFO)\n",
        "log_handler.setFormatter(logging.Formatter(\"%(asctime)s - %(levelname)s - %(message)s\"))\n",
        "\n",
        "# Set up logger\n",
        "logger = logging.getLogger(\"MyAppLogger\")\n",
        "logger.setLevel(logging.INFO)\n",
        "logger.addHandler(log_handler)\n",
        "\n",
        "# Example usage\n",
        "logger.info(\"Application started.\")"
      ],
      "metadata": {
        "colab": {
          "base_uri": "https://localhost:8080/"
        },
        "id": "2uQ5VWshlQwx",
        "outputId": "daef6908-c547-4e90-a2f9-8372ce830691"
      },
      "id": "2uQ5VWshlQwx",
      "execution_count": null,
      "outputs": [
        {
          "output_type": "stream",
          "name": "stderr",
          "text": [
            "INFO:MyAppLogger:Application started.\n"
          ]
        }
      ]
    },
    {
      "cell_type": "markdown",
      "source": [
        "19. Write a program that handles both IndexError and KeyError using a try-except block.  \n"
      ],
      "metadata": {
        "id": "tX5ntr5fmGqR"
      },
      "id": "tX5ntr5fmGqR"
    },
    {
      "cell_type": "code",
      "source": [
        "data_list = [10, 20, 30]\n",
        "data_dict = {\"name\": \"Suman\", \"language\": \"Python\"}\n",
        "\n",
        "# Handle IndexError\n",
        "try:\n",
        "    print(data_list[5])\n",
        "except IndexError:\n",
        "    print(\"Error: List index is out of range.\")\n",
        "\n",
        "# Handle KeyError\n",
        "try:\n",
        "    print(data_dict[\"age\"])\n",
        "except KeyError:\n",
        "    print(\"Error: Dictionary key not found.\")"
      ],
      "metadata": {
        "colab": {
          "base_uri": "https://localhost:8080/"
        },
        "id": "nj7m4Y6ZnE-n",
        "outputId": "c70435bc-d262-4567-eda6-4484fe9b32e1"
      },
      "id": "nj7m4Y6ZnE-n",
      "execution_count": null,
      "outputs": [
        {
          "output_type": "stream",
          "name": "stdout",
          "text": [
            "Error: List index is out of range.\n",
            "Error: Dictionary key not found.\n"
          ]
        }
      ]
    },
    {
      "cell_type": "markdown",
      "source": [
        "20. How would you open a file and read its contents using a context manager in Python?"
      ],
      "metadata": {
        "id": "lxAHJkqanKyH"
      },
      "id": "lxAHJkqanKyH"
    },
    {
      "cell_type": "code",
      "source": [
        "with open(\"example1.txt\", \"r\") as file:\n",
        "    content = file.read()\n",
        "    print(content)"
      ],
      "metadata": {
        "colab": {
          "base_uri": "https://localhost:8080/"
        },
        "id": "_BJd9mNAnR3U",
        "outputId": "1bf1e3b8-477b-4024-dc8d-c1a894debdce"
      },
      "id": "_BJd9mNAnR3U",
      "execution_count": null,
      "outputs": [
        {
          "output_type": "stream",
          "name": "stdout",
          "text": [
            "Hello, Suman!\n",
            "This line will be added at the end.\n",
            "\n"
          ]
        }
      ]
    },
    {
      "cell_type": "markdown",
      "source": [
        "21. Write a Python program that reads a file and prints the number of occurrences of a specific word.  \n"
      ],
      "metadata": {
        "id": "zbxGDB43nEiI"
      },
      "id": "zbxGDB43nEiI"
    },
    {
      "cell_type": "code",
      "source": [
        "filename = \"example1.txt\"\n",
        "target_word = \"end\"\n",
        "\n",
        "try:\n",
        "    with open(filename, \"r\") as file:\n",
        "        content = file.read().lower()\n",
        "        count = content.count(target_word.lower())\n",
        "        print(f\"The word '{target_word}' occurred {count} times.\")\n",
        "except FileNotFoundError:\n",
        "    print(f\"Error: File '{filename}' not found.\")\n",
        "except IOError:\n",
        "    print(f\"Error: Could not read from '{filename}'.\")"
      ],
      "metadata": {
        "colab": {
          "base_uri": "https://localhost:8080/"
        },
        "id": "3nszJlFEnuy3",
        "outputId": "884419ba-95f2-4ebb-c78b-89af7def31b5"
      },
      "id": "3nszJlFEnuy3",
      "execution_count": null,
      "outputs": [
        {
          "output_type": "stream",
          "name": "stdout",
          "text": [
            "The word 'end' occurred 1 times.\n"
          ]
        }
      ]
    },
    {
      "cell_type": "markdown",
      "source": [
        "\n",
        "22. How can you check if a file is empty before attempting to read its contents?  "
      ],
      "metadata": {
        "id": "bEYEJNUCoSrT"
      },
      "id": "bEYEJNUCoSrT"
    },
    {
      "cell_type": "code",
      "source": [
        "import os\n",
        "\n",
        "filename = \"example1.txt\"\n",
        "if os.path.getsize(filename) == 0:\n",
        "    print(\"The file is empty.\")\n",
        "else:\n",
        "    with open(filename, \"r\") as file:\n",
        "        print(file.read())"
      ],
      "metadata": {
        "colab": {
          "base_uri": "https://localhost:8080/"
        },
        "id": "1jNV21iOoYLT",
        "outputId": "5b691815-630b-49f8-eba8-591f2521c0c2"
      },
      "id": "1jNV21iOoYLT",
      "execution_count": null,
      "outputs": [
        {
          "output_type": "stream",
          "name": "stdout",
          "text": [
            "Hello, Suman!\n",
            "This line will be added at the end.\n",
            "\n"
          ]
        }
      ]
    },
    {
      "cell_type": "markdown",
      "source": [
        "23. Write a Python program that writes to a log file when an error occurs during file handling.\n"
      ],
      "metadata": {
        "id": "m-cIl3UDo7j4"
      },
      "id": "m-cIl3UDo7j4"
    },
    {
      "cell_type": "code",
      "source": [
        "import logging\n",
        "\n",
        "# Setup logging to file\n",
        "logging.basicConfig(filename=\"file_errors.log\", level=logging.ERROR, format=\"%(asctime)s - %(levelname)s - %(message)s\")\n",
        "\n",
        "filename = \"missing_file.txt\"\n",
        "\n",
        "try:\n",
        "    with open(filename, \"r\") as file:\n",
        "        content = file.read()\n",
        "        print(content)\n",
        "except FileNotFoundError as e:\n",
        "    logging.error(\"FileNotFoundError: %s\", e)\n",
        "except IOError as e:\n",
        "    logging.error(\"IOError while accessing '%s': %s\", filename, e)"
      ],
      "metadata": {
        "colab": {
          "base_uri": "https://localhost:8080/"
        },
        "id": "SOhoHtHHpCVg",
        "outputId": "1d548f48-e694-44ef-d371-8beab5009cb3"
      },
      "id": "SOhoHtHHpCVg",
      "execution_count": null,
      "outputs": [
        {
          "output_type": "stream",
          "name": "stderr",
          "text": [
            "ERROR:root:FileNotFoundError: [Errno 2] No such file or directory: 'missing_file.txt'\n"
          ]
        }
      ]
    }
  ],
  "metadata": {
    "kernelspec": {
      "display_name": "Python 3 (ipykernel)",
      "language": "python",
      "name": "python3"
    },
    "language_info": {
      "codemirror_mode": {
        "name": "ipython",
        "version": 3
      },
      "file_extension": ".py",
      "mimetype": "text/x-python",
      "name": "python",
      "nbconvert_exporter": "python",
      "pygments_lexer": "ipython3",
      "version": "3.13.5"
    },
    "colab": {
      "provenance": []
    }
  },
  "nbformat": 4,
  "nbformat_minor": 5
}